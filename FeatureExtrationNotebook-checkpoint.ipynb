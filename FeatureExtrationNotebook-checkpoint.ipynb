{
 "cells": [
  {
   "cell_type": "code",
   "execution_count": null,
   "metadata": {},
   "outputs": [
    {
     "name": "stdout",
     "output_type": "stream",
     "text": [
      "Requirement already satisfied: tensorflow==1.14 in c:\\programdata\\anaconda3\\lib\\site-packages (1.14.0)\n",
      "Requirement already satisfied: keras-preprocessing>=1.0.5 in c:\\users\\stsc\\appdata\\roaming\\python\\python37\\site-packages (from tensorflow==1.14) (1.1.0)\n",
      "Requirement already satisfied: termcolor>=1.1.0 in c:\\users\\stsc\\appdata\\roaming\\python\\python37\\site-packages (from tensorflow==1.14) (1.1.0)\n",
      "Requirement already satisfied: numpy<2.0,>=1.14.5 in c:\\users\\stsc\\appdata\\roaming\\python\\python37\\site-packages (from tensorflow==1.14) (1.14.6)\n",
      "Requirement already satisfied: tensorflow-estimator<1.15.0rc0,>=1.14.0rc0 in c:\\programdata\\anaconda3\\lib\\site-packages (from tensorflow==1.14) (1.14.0)\n",
      "Requirement already satisfied: keras-applications>=1.0.6 in c:\\users\\stsc\\appdata\\roaming\\python\\python37\\site-packages (from tensorflow==1.14) (1.0.8)\n",
      "Requirement already satisfied: wheel>=0.26 in c:\\programdata\\anaconda3\\lib\\site-packages (from tensorflow==1.14) (0.33.6)\n",
      "Requirement already satisfied: six>=1.10.0 in c:\\programdata\\anaconda3\\lib\\site-packages (from tensorflow==1.14) (1.12.0)\n",
      "Requirement already satisfied: tensorboard<1.15.0,>=1.14.0 in c:\\programdata\\anaconda3\\lib\\site-packages (from tensorflow==1.14) (1.14.0)\n",
      "Requirement already satisfied: grpcio>=1.8.6 in c:\\users\\stsc\\appdata\\roaming\\python\\python37\\site-packages (from tensorflow==1.14) (1.25.0)\n",
      "Requirement already satisfied: protobuf>=3.6.1 in c:\\users\\stsc\\appdata\\roaming\\python\\python37\\site-packages (from tensorflow==1.14) (3.10.0)\n",
      "Requirement already satisfied: astor>=0.6.0 in c:\\users\\stsc\\appdata\\roaming\\python\\python37\\site-packages (from tensorflow==1.14) (0.8.0)\n",
      "Requirement already satisfied: wrapt>=1.11.1 in c:\\programdata\\anaconda3\\lib\\site-packages (from tensorflow==1.14) (1.11.2)\n",
      "Requirement already satisfied: google-pasta>=0.1.6 in c:\\users\\stsc\\appdata\\roaming\\python\\python37\\site-packages (from tensorflow==1.14) (0.1.8)\n",
      "Requirement already satisfied: absl-py>=0.7.0 in c:\\users\\stsc\\appdata\\roaming\\python\\python37\\site-packages (from tensorflow==1.14) (0.8.1)\n",
      "Requirement already satisfied: gast>=0.2.0 in c:\\users\\stsc\\appdata\\roaming\\python\\python37\\site-packages (from tensorflow==1.14) (0.2.2)\n",
      "Requirement already satisfied: h5py in c:\\programdata\\anaconda3\\lib\\site-packages (from keras-applications>=1.0.6->tensorflow==1.14) (2.9.0)\n",
      "Requirement already satisfied: setuptools>=41.0.0 in c:\\programdata\\anaconda3\\lib\\site-packages (from tensorboard<1.15.0,>=1.14.0->tensorflow==1.14) (41.4.0)\n",
      "Requirement already satisfied: markdown>=2.6.8 in c:\\users\\stsc\\appdata\\roaming\\python\\python37\\site-packages (from tensorboard<1.15.0,>=1.14.0->tensorflow==1.14) (3.1.1)\n",
      "Requirement already satisfied: werkzeug>=0.11.15 in c:\\programdata\\anaconda3\\lib\\site-packages (from tensorboard<1.15.0,>=1.14.0->tensorflow==1.14) (0.16.0)\n",
      "Requirement already satisfied: numpy==1.14.* in c:\\users\\stsc\\appdata\\roaming\\python\\python37\\site-packages (1.14.6)\n"
     ]
    },
    {
     "ename": "ModuleNotFoundError",
     "evalue": "No module named 'numpy.core._multiarray_umath'",
     "output_type": "error",
     "traceback": [
      "\u001b[1;31m---------------------------------------------------------------------------\u001b[0m",
      "\u001b[1;31mModuleNotFoundError\u001b[0m                       Traceback (most recent call last)",
      "\u001b[1;31mModuleNotFoundError\u001b[0m: No module named 'numpy.core._multiarray_umath'"
     ]
    },
    {
     "ename": "ImportError",
     "evalue": "numpy.core.multiarray failed to import",
     "output_type": "error",
     "traceback": [
      "\u001b[1;31m---------------------------------------------------------------------------\u001b[0m",
      "\u001b[1;31mImportError\u001b[0m                               Traceback (most recent call last)",
      "\u001b[1;31mImportError\u001b[0m: numpy.core.multiarray failed to import"
     ]
    },
    {
     "ename": "ImportError",
     "evalue": "numpy.core._multiarray_umath failed to import",
     "output_type": "error",
     "traceback": [
      "\u001b[1;31m---------------------------------------------------------------------------\u001b[0m",
      "\u001b[1;31mImportError\u001b[0m                               Traceback (most recent call last)",
      "\u001b[1;31mImportError\u001b[0m: numpy.core._multiarray_umath failed to import"
     ]
    },
    {
     "ename": "ImportError",
     "evalue": "numpy.core.umath failed to import",
     "output_type": "error",
     "traceback": [
      "\u001b[1;31m---------------------------------------------------------------------------\u001b[0m",
      "\u001b[1;31mImportError\u001b[0m                               Traceback (most recent call last)",
      "\u001b[1;31mImportError\u001b[0m: numpy.core.umath failed to import"
     ]
    }
   ],
   "source": [
    "import sys\n",
    "!{sys.executable} -m pip install tensorflow==1.14\n",
    "!{sys.executable} -m pip install numpy==1.14.*\n",
    "\n",
    "import tensorflow as tf\n",
    "import os\n",
    "import cv2\n",
    "import numpy as np\n",
    "import matplotlib.pyplot as plt\n",
    "import tqdm\n",
    "import datetime\n",
    "import json\n",
    "from sklearn.preprocessing import  LabelBinarizer\n",
    "import import_ipynb\n",
    "import LSTM_XX_Training"
   ]
  },
  {
   "cell_type": "code",
   "execution_count": null,
   "metadata": {},
   "outputs": [],
   "source": [
    "# enable eager execution to guarantee the tensors have discrete instead of symbolic values, \n",
    "# so you can do operations on them\n",
    "tf.enable_eager_execution()\n",
    "tf.executing_eagerly()"
   ]
  },
  {
   "cell_type": "code",
   "execution_count": 3,
   "metadata": {},
   "outputs": [],
   "source": [
    "# create MobileNetV2 feature extraction model\n",
    "mobilenet_v2 = tf.keras.applications.mobilenet_v2.MobileNetV2(input_shape=(224,224,3), include_top=False, weights='imagenet')\n",
    "x = mobilenet_v2.output\n",
    "\n",
    "pooling_output = tf.keras.layers.GlobalAveragePooling2D()(x)\n",
    "feature_extraction_model = tf.keras.Model(mobilenet_v2.input,pooling_output)"
   ]
  },
  {
   "cell_type": "code",
   "execution_count": 4,
   "metadata": {},
   "outputs": [
    {
     "name": "stdout",
     "output_type": "stream",
     "text": [
      "Model: \"model\"\n",
      "__________________________________________________________________________________________________\n",
      "Layer (type)                    Output Shape         Param #     Connected to                     \n",
      "==================================================================================================\n",
      "input_1 (InputLayer)            [(None, 224, 224, 3) 0                                            \n",
      "__________________________________________________________________________________________________\n",
      "Conv1_pad (ZeroPadding2D)       (None, 225, 225, 3)  0           input_1[0][0]                    \n",
      "__________________________________________________________________________________________________\n",
      "Conv1 (Conv2D)                  (None, 112, 112, 32) 864         Conv1_pad[0][0]                  \n",
      "__________________________________________________________________________________________________\n",
      "bn_Conv1 (BatchNormalization)   (None, 112, 112, 32) 128         Conv1[0][0]                      \n",
      "__________________________________________________________________________________________________\n",
      "Conv1_relu (ReLU)               (None, 112, 112, 32) 0           bn_Conv1[0][0]                   \n",
      "__________________________________________________________________________________________________\n",
      "expanded_conv_depthwise (Depthw (None, 112, 112, 32) 288         Conv1_relu[0][0]                 \n",
      "__________________________________________________________________________________________________\n",
      "expanded_conv_depthwise_BN (Bat (None, 112, 112, 32) 128         expanded_conv_depthwise[0][0]    \n",
      "__________________________________________________________________________________________________\n",
      "expanded_conv_depthwise_relu (R (None, 112, 112, 32) 0           expanded_conv_depthwise_BN[0][0] \n",
      "__________________________________________________________________________________________________\n",
      "expanded_conv_project (Conv2D)  (None, 112, 112, 16) 512         expanded_conv_depthwise_relu[0][0\n",
      "__________________________________________________________________________________________________\n",
      "expanded_conv_project_BN (Batch (None, 112, 112, 16) 64          expanded_conv_project[0][0]      \n",
      "__________________________________________________________________________________________________\n",
      "block_1_expand (Conv2D)         (None, 112, 112, 96) 1536        expanded_conv_project_BN[0][0]   \n",
      "__________________________________________________________________________________________________\n",
      "block_1_expand_BN (BatchNormali (None, 112, 112, 96) 384         block_1_expand[0][0]             \n",
      "__________________________________________________________________________________________________\n",
      "block_1_expand_relu (ReLU)      (None, 112, 112, 96) 0           block_1_expand_BN[0][0]          \n",
      "__________________________________________________________________________________________________\n",
      "block_1_pad (ZeroPadding2D)     (None, 113, 113, 96) 0           block_1_expand_relu[0][0]        \n",
      "__________________________________________________________________________________________________\n",
      "block_1_depthwise (DepthwiseCon (None, 56, 56, 96)   864         block_1_pad[0][0]                \n",
      "__________________________________________________________________________________________________\n",
      "block_1_depthwise_BN (BatchNorm (None, 56, 56, 96)   384         block_1_depthwise[0][0]          \n",
      "__________________________________________________________________________________________________\n",
      "block_1_depthwise_relu (ReLU)   (None, 56, 56, 96)   0           block_1_depthwise_BN[0][0]       \n",
      "__________________________________________________________________________________________________\n",
      "block_1_project (Conv2D)        (None, 56, 56, 24)   2304        block_1_depthwise_relu[0][0]     \n",
      "__________________________________________________________________________________________________\n",
      "block_1_project_BN (BatchNormal (None, 56, 56, 24)   96          block_1_project[0][0]            \n",
      "__________________________________________________________________________________________________\n",
      "block_2_expand (Conv2D)         (None, 56, 56, 144)  3456        block_1_project_BN[0][0]         \n",
      "__________________________________________________________________________________________________\n",
      "block_2_expand_BN (BatchNormali (None, 56, 56, 144)  576         block_2_expand[0][0]             \n",
      "__________________________________________________________________________________________________\n",
      "block_2_expand_relu (ReLU)      (None, 56, 56, 144)  0           block_2_expand_BN[0][0]          \n",
      "__________________________________________________________________________________________________\n",
      "block_2_depthwise (DepthwiseCon (None, 56, 56, 144)  1296        block_2_expand_relu[0][0]        \n",
      "__________________________________________________________________________________________________\n",
      "block_2_depthwise_BN (BatchNorm (None, 56, 56, 144)  576         block_2_depthwise[0][0]          \n",
      "__________________________________________________________________________________________________\n",
      "block_2_depthwise_relu (ReLU)   (None, 56, 56, 144)  0           block_2_depthwise_BN[0][0]       \n",
      "__________________________________________________________________________________________________\n",
      "block_2_project (Conv2D)        (None, 56, 56, 24)   3456        block_2_depthwise_relu[0][0]     \n",
      "__________________________________________________________________________________________________\n",
      "block_2_project_BN (BatchNormal (None, 56, 56, 24)   96          block_2_project[0][0]            \n",
      "__________________________________________________________________________________________________\n",
      "block_2_add (Add)               (None, 56, 56, 24)   0           block_1_project_BN[0][0]         \n",
      "                                                                 block_2_project_BN[0][0]         \n",
      "__________________________________________________________________________________________________\n",
      "block_3_expand (Conv2D)         (None, 56, 56, 144)  3456        block_2_add[0][0]                \n",
      "__________________________________________________________________________________________________\n",
      "block_3_expand_BN (BatchNormali (None, 56, 56, 144)  576         block_3_expand[0][0]             \n",
      "__________________________________________________________________________________________________\n",
      "block_3_expand_relu (ReLU)      (None, 56, 56, 144)  0           block_3_expand_BN[0][0]          \n",
      "__________________________________________________________________________________________________\n",
      "block_3_pad (ZeroPadding2D)     (None, 57, 57, 144)  0           block_3_expand_relu[0][0]        \n",
      "__________________________________________________________________________________________________\n",
      "block_3_depthwise (DepthwiseCon (None, 28, 28, 144)  1296        block_3_pad[0][0]                \n",
      "__________________________________________________________________________________________________\n",
      "block_3_depthwise_BN (BatchNorm (None, 28, 28, 144)  576         block_3_depthwise[0][0]          \n",
      "__________________________________________________________________________________________________\n",
      "block_3_depthwise_relu (ReLU)   (None, 28, 28, 144)  0           block_3_depthwise_BN[0][0]       \n",
      "__________________________________________________________________________________________________\n",
      "block_3_project (Conv2D)        (None, 28, 28, 32)   4608        block_3_depthwise_relu[0][0]     \n",
      "__________________________________________________________________________________________________\n",
      "block_3_project_BN (BatchNormal (None, 28, 28, 32)   128         block_3_project[0][0]            \n",
      "__________________________________________________________________________________________________\n",
      "block_4_expand (Conv2D)         (None, 28, 28, 192)  6144        block_3_project_BN[0][0]         \n",
      "__________________________________________________________________________________________________\n",
      "block_4_expand_BN (BatchNormali (None, 28, 28, 192)  768         block_4_expand[0][0]             \n",
      "__________________________________________________________________________________________________\n",
      "block_4_expand_relu (ReLU)      (None, 28, 28, 192)  0           block_4_expand_BN[0][0]          \n",
      "__________________________________________________________________________________________________\n",
      "block_4_depthwise (DepthwiseCon (None, 28, 28, 192)  1728        block_4_expand_relu[0][0]        \n",
      "__________________________________________________________________________________________________\n",
      "block_4_depthwise_BN (BatchNorm (None, 28, 28, 192)  768         block_4_depthwise[0][0]          \n",
      "__________________________________________________________________________________________________\n",
      "block_4_depthwise_relu (ReLU)   (None, 28, 28, 192)  0           block_4_depthwise_BN[0][0]       \n",
      "__________________________________________________________________________________________________\n",
      "block_4_project (Conv2D)        (None, 28, 28, 32)   6144        block_4_depthwise_relu[0][0]     \n",
      "__________________________________________________________________________________________________\n",
      "block_4_project_BN (BatchNormal (None, 28, 28, 32)   128         block_4_project[0][0]            \n",
      "__________________________________________________________________________________________________\n",
      "block_4_add (Add)               (None, 28, 28, 32)   0           block_3_project_BN[0][0]         \n",
      "                                                                 block_4_project_BN[0][0]         \n",
      "__________________________________________________________________________________________________\n",
      "block_5_expand (Conv2D)         (None, 28, 28, 192)  6144        block_4_add[0][0]                \n",
      "__________________________________________________________________________________________________\n",
      "block_5_expand_BN (BatchNormali (None, 28, 28, 192)  768         block_5_expand[0][0]             \n",
      "__________________________________________________________________________________________________\n",
      "block_5_expand_relu (ReLU)      (None, 28, 28, 192)  0           block_5_expand_BN[0][0]          \n",
      "__________________________________________________________________________________________________\n",
      "block_5_depthwise (DepthwiseCon (None, 28, 28, 192)  1728        block_5_expand_relu[0][0]        \n",
      "__________________________________________________________________________________________________\n",
      "block_5_depthwise_BN (BatchNorm (None, 28, 28, 192)  768         block_5_depthwise[0][0]          \n",
      "__________________________________________________________________________________________________\n",
      "block_5_depthwise_relu (ReLU)   (None, 28, 28, 192)  0           block_5_depthwise_BN[0][0]       \n",
      "__________________________________________________________________________________________________\n",
      "block_5_project (Conv2D)        (None, 28, 28, 32)   6144        block_5_depthwise_relu[0][0]     \n",
      "__________________________________________________________________________________________________\n",
      "block_5_project_BN (BatchNormal (None, 28, 28, 32)   128         block_5_project[0][0]            \n",
      "__________________________________________________________________________________________________\n",
      "block_5_add (Add)               (None, 28, 28, 32)   0           block_4_add[0][0]                \n",
      "                                                                 block_5_project_BN[0][0]         \n",
      "__________________________________________________________________________________________________\n",
      "block_6_expand (Conv2D)         (None, 28, 28, 192)  6144        block_5_add[0][0]                \n",
      "__________________________________________________________________________________________________\n",
      "block_6_expand_BN (BatchNormali (None, 28, 28, 192)  768         block_6_expand[0][0]             \n",
      "__________________________________________________________________________________________________\n",
      "block_6_expand_relu (ReLU)      (None, 28, 28, 192)  0           block_6_expand_BN[0][0]          \n",
      "__________________________________________________________________________________________________\n",
      "block_6_pad (ZeroPadding2D)     (None, 29, 29, 192)  0           block_6_expand_relu[0][0]        \n",
      "__________________________________________________________________________________________________\n",
      "block_6_depthwise (DepthwiseCon (None, 14, 14, 192)  1728        block_6_pad[0][0]                \n",
      "__________________________________________________________________________________________________\n",
      "block_6_depthwise_BN (BatchNorm (None, 14, 14, 192)  768         block_6_depthwise[0][0]          \n",
      "__________________________________________________________________________________________________\n",
      "block_6_depthwise_relu (ReLU)   (None, 14, 14, 192)  0           block_6_depthwise_BN[0][0]       \n",
      "__________________________________________________________________________________________________\n",
      "block_6_project (Conv2D)        (None, 14, 14, 64)   12288       block_6_depthwise_relu[0][0]     \n",
      "__________________________________________________________________________________________________\n",
      "block_6_project_BN (BatchNormal (None, 14, 14, 64)   256         block_6_project[0][0]            \n",
      "__________________________________________________________________________________________________\n",
      "block_7_expand (Conv2D)         (None, 14, 14, 384)  24576       block_6_project_BN[0][0]         \n",
      "__________________________________________________________________________________________________\n",
      "block_7_expand_BN (BatchNormali (None, 14, 14, 384)  1536        block_7_expand[0][0]             \n",
      "__________________________________________________________________________________________________\n",
      "block_7_expand_relu (ReLU)      (None, 14, 14, 384)  0           block_7_expand_BN[0][0]          \n",
      "__________________________________________________________________________________________________\n",
      "block_7_depthwise (DepthwiseCon (None, 14, 14, 384)  3456        block_7_expand_relu[0][0]        \n",
      "__________________________________________________________________________________________________\n",
      "block_7_depthwise_BN (BatchNorm (None, 14, 14, 384)  1536        block_7_depthwise[0][0]          \n",
      "__________________________________________________________________________________________________\n",
      "block_7_depthwise_relu (ReLU)   (None, 14, 14, 384)  0           block_7_depthwise_BN[0][0]       \n",
      "__________________________________________________________________________________________________\n",
      "block_7_project (Conv2D)        (None, 14, 14, 64)   24576       block_7_depthwise_relu[0][0]     \n",
      "__________________________________________________________________________________________________\n",
      "block_7_project_BN (BatchNormal (None, 14, 14, 64)   256         block_7_project[0][0]            \n",
      "__________________________________________________________________________________________________\n",
      "block_7_add (Add)               (None, 14, 14, 64)   0           block_6_project_BN[0][0]         \n",
      "                                                                 block_7_project_BN[0][0]         \n",
      "__________________________________________________________________________________________________\n",
      "block_8_expand (Conv2D)         (None, 14, 14, 384)  24576       block_7_add[0][0]                \n",
      "__________________________________________________________________________________________________\n",
      "block_8_expand_BN (BatchNormali (None, 14, 14, 384)  1536        block_8_expand[0][0]             \n",
      "__________________________________________________________________________________________________\n",
      "block_8_expand_relu (ReLU)      (None, 14, 14, 384)  0           block_8_expand_BN[0][0]          \n",
      "__________________________________________________________________________________________________\n",
      "block_8_depthwise (DepthwiseCon (None, 14, 14, 384)  3456        block_8_expand_relu[0][0]        \n",
      "__________________________________________________________________________________________________\n",
      "block_8_depthwise_BN (BatchNorm (None, 14, 14, 384)  1536        block_8_depthwise[0][0]          \n",
      "__________________________________________________________________________________________________\n",
      "block_8_depthwise_relu (ReLU)   (None, 14, 14, 384)  0           block_8_depthwise_BN[0][0]       \n",
      "__________________________________________________________________________________________________\n",
      "block_8_project (Conv2D)        (None, 14, 14, 64)   24576       block_8_depthwise_relu[0][0]     \n",
      "__________________________________________________________________________________________________\n",
      "block_8_project_BN (BatchNormal (None, 14, 14, 64)   256         block_8_project[0][0]            \n",
      "__________________________________________________________________________________________________\n",
      "block_8_add (Add)               (None, 14, 14, 64)   0           block_7_add[0][0]                \n",
      "                                                                 block_8_project_BN[0][0]         \n",
      "__________________________________________________________________________________________________\n",
      "block_9_expand (Conv2D)         (None, 14, 14, 384)  24576       block_8_add[0][0]                \n",
      "__________________________________________________________________________________________________\n",
      "block_9_expand_BN (BatchNormali (None, 14, 14, 384)  1536        block_9_expand[0][0]             \n",
      "__________________________________________________________________________________________________\n",
      "block_9_expand_relu (ReLU)      (None, 14, 14, 384)  0           block_9_expand_BN[0][0]          \n",
      "__________________________________________________________________________________________________\n",
      "block_9_depthwise (DepthwiseCon (None, 14, 14, 384)  3456        block_9_expand_relu[0][0]        \n",
      "__________________________________________________________________________________________________\n",
      "block_9_depthwise_BN (BatchNorm (None, 14, 14, 384)  1536        block_9_depthwise[0][0]          \n",
      "__________________________________________________________________________________________________\n",
      "block_9_depthwise_relu (ReLU)   (None, 14, 14, 384)  0           block_9_depthwise_BN[0][0]       \n",
      "__________________________________________________________________________________________________\n",
      "block_9_project (Conv2D)        (None, 14, 14, 64)   24576       block_9_depthwise_relu[0][0]     \n",
      "__________________________________________________________________________________________________\n",
      "block_9_project_BN (BatchNormal (None, 14, 14, 64)   256         block_9_project[0][0]            \n",
      "__________________________________________________________________________________________________\n",
      "block_9_add (Add)               (None, 14, 14, 64)   0           block_8_add[0][0]                \n",
      "                                                                 block_9_project_BN[0][0]         \n",
      "__________________________________________________________________________________________________\n",
      "block_10_expand (Conv2D)        (None, 14, 14, 384)  24576       block_9_add[0][0]                \n",
      "__________________________________________________________________________________________________\n",
      "block_10_expand_BN (BatchNormal (None, 14, 14, 384)  1536        block_10_expand[0][0]            \n",
      "__________________________________________________________________________________________________\n",
      "block_10_expand_relu (ReLU)     (None, 14, 14, 384)  0           block_10_expand_BN[0][0]         \n",
      "__________________________________________________________________________________________________\n",
      "block_10_depthwise (DepthwiseCo (None, 14, 14, 384)  3456        block_10_expand_relu[0][0]       \n",
      "__________________________________________________________________________________________________\n",
      "block_10_depthwise_BN (BatchNor (None, 14, 14, 384)  1536        block_10_depthwise[0][0]         \n",
      "__________________________________________________________________________________________________\n",
      "block_10_depthwise_relu (ReLU)  (None, 14, 14, 384)  0           block_10_depthwise_BN[0][0]      \n",
      "__________________________________________________________________________________________________\n",
      "block_10_project (Conv2D)       (None, 14, 14, 96)   36864       block_10_depthwise_relu[0][0]    \n",
      "__________________________________________________________________________________________________\n",
      "block_10_project_BN (BatchNorma (None, 14, 14, 96)   384         block_10_project[0][0]           \n",
      "__________________________________________________________________________________________________\n",
      "block_11_expand (Conv2D)        (None, 14, 14, 576)  55296       block_10_project_BN[0][0]        \n",
      "__________________________________________________________________________________________________\n",
      "block_11_expand_BN (BatchNormal (None, 14, 14, 576)  2304        block_11_expand[0][0]            \n",
      "__________________________________________________________________________________________________\n",
      "block_11_expand_relu (ReLU)     (None, 14, 14, 576)  0           block_11_expand_BN[0][0]         \n",
      "__________________________________________________________________________________________________\n",
      "block_11_depthwise (DepthwiseCo (None, 14, 14, 576)  5184        block_11_expand_relu[0][0]       \n",
      "__________________________________________________________________________________________________\n",
      "block_11_depthwise_BN (BatchNor (None, 14, 14, 576)  2304        block_11_depthwise[0][0]         \n",
      "__________________________________________________________________________________________________\n",
      "block_11_depthwise_relu (ReLU)  (None, 14, 14, 576)  0           block_11_depthwise_BN[0][0]      \n",
      "__________________________________________________________________________________________________\n",
      "block_11_project (Conv2D)       (None, 14, 14, 96)   55296       block_11_depthwise_relu[0][0]    \n",
      "__________________________________________________________________________________________________\n",
      "block_11_project_BN (BatchNorma (None, 14, 14, 96)   384         block_11_project[0][0]           \n",
      "__________________________________________________________________________________________________\n",
      "block_11_add (Add)              (None, 14, 14, 96)   0           block_10_project_BN[0][0]        \n",
      "                                                                 block_11_project_BN[0][0]        \n",
      "__________________________________________________________________________________________________\n",
      "block_12_expand (Conv2D)        (None, 14, 14, 576)  55296       block_11_add[0][0]               \n",
      "__________________________________________________________________________________________________\n",
      "block_12_expand_BN (BatchNormal (None, 14, 14, 576)  2304        block_12_expand[0][0]            \n",
      "__________________________________________________________________________________________________\n",
      "block_12_expand_relu (ReLU)     (None, 14, 14, 576)  0           block_12_expand_BN[0][0]         \n",
      "__________________________________________________________________________________________________\n",
      "block_12_depthwise (DepthwiseCo (None, 14, 14, 576)  5184        block_12_expand_relu[0][0]       \n",
      "__________________________________________________________________________________________________\n",
      "block_12_depthwise_BN (BatchNor (None, 14, 14, 576)  2304        block_12_depthwise[0][0]         \n",
      "__________________________________________________________________________________________________\n",
      "block_12_depthwise_relu (ReLU)  (None, 14, 14, 576)  0           block_12_depthwise_BN[0][0]      \n",
      "__________________________________________________________________________________________________\n",
      "block_12_project (Conv2D)       (None, 14, 14, 96)   55296       block_12_depthwise_relu[0][0]    \n",
      "__________________________________________________________________________________________________\n",
      "block_12_project_BN (BatchNorma (None, 14, 14, 96)   384         block_12_project[0][0]           \n",
      "__________________________________________________________________________________________________\n",
      "block_12_add (Add)              (None, 14, 14, 96)   0           block_11_add[0][0]               \n",
      "                                                                 block_12_project_BN[0][0]        \n",
      "__________________________________________________________________________________________________\n",
      "block_13_expand (Conv2D)        (None, 14, 14, 576)  55296       block_12_add[0][0]               \n",
      "__________________________________________________________________________________________________\n",
      "block_13_expand_BN (BatchNormal (None, 14, 14, 576)  2304        block_13_expand[0][0]            \n",
      "__________________________________________________________________________________________________\n",
      "block_13_expand_relu (ReLU)     (None, 14, 14, 576)  0           block_13_expand_BN[0][0]         \n",
      "__________________________________________________________________________________________________\n",
      "block_13_pad (ZeroPadding2D)    (None, 15, 15, 576)  0           block_13_expand_relu[0][0]       \n",
      "__________________________________________________________________________________________________\n",
      "block_13_depthwise (DepthwiseCo (None, 7, 7, 576)    5184        block_13_pad[0][0]               \n",
      "__________________________________________________________________________________________________\n",
      "block_13_depthwise_BN (BatchNor (None, 7, 7, 576)    2304        block_13_depthwise[0][0]         \n",
      "__________________________________________________________________________________________________\n",
      "block_13_depthwise_relu (ReLU)  (None, 7, 7, 576)    0           block_13_depthwise_BN[0][0]      \n",
      "__________________________________________________________________________________________________\n",
      "block_13_project (Conv2D)       (None, 7, 7, 160)    92160       block_13_depthwise_relu[0][0]    \n",
      "__________________________________________________________________________________________________\n",
      "block_13_project_BN (BatchNorma (None, 7, 7, 160)    640         block_13_project[0][0]           \n",
      "__________________________________________________________________________________________________\n",
      "block_14_expand (Conv2D)        (None, 7, 7, 960)    153600      block_13_project_BN[0][0]        \n",
      "__________________________________________________________________________________________________\n",
      "block_14_expand_BN (BatchNormal (None, 7, 7, 960)    3840        block_14_expand[0][0]            \n",
      "__________________________________________________________________________________________________\n",
      "block_14_expand_relu (ReLU)     (None, 7, 7, 960)    0           block_14_expand_BN[0][0]         \n",
      "__________________________________________________________________________________________________\n",
      "block_14_depthwise (DepthwiseCo (None, 7, 7, 960)    8640        block_14_expand_relu[0][0]       \n",
      "__________________________________________________________________________________________________\n",
      "block_14_depthwise_BN (BatchNor (None, 7, 7, 960)    3840        block_14_depthwise[0][0]         \n",
      "__________________________________________________________________________________________________\n",
      "block_14_depthwise_relu (ReLU)  (None, 7, 7, 960)    0           block_14_depthwise_BN[0][0]      \n",
      "__________________________________________________________________________________________________\n",
      "block_14_project (Conv2D)       (None, 7, 7, 160)    153600      block_14_depthwise_relu[0][0]    \n",
      "__________________________________________________________________________________________________\n",
      "block_14_project_BN (BatchNorma (None, 7, 7, 160)    640         block_14_project[0][0]           \n",
      "__________________________________________________________________________________________________\n",
      "block_14_add (Add)              (None, 7, 7, 160)    0           block_13_project_BN[0][0]        \n",
      "                                                                 block_14_project_BN[0][0]        \n",
      "__________________________________________________________________________________________________\n",
      "block_15_expand (Conv2D)        (None, 7, 7, 960)    153600      block_14_add[0][0]               \n",
      "__________________________________________________________________________________________________\n",
      "block_15_expand_BN (BatchNormal (None, 7, 7, 960)    3840        block_15_expand[0][0]            \n",
      "__________________________________________________________________________________________________\n",
      "block_15_expand_relu (ReLU)     (None, 7, 7, 960)    0           block_15_expand_BN[0][0]         \n",
      "__________________________________________________________________________________________________\n",
      "block_15_depthwise (DepthwiseCo (None, 7, 7, 960)    8640        block_15_expand_relu[0][0]       \n",
      "__________________________________________________________________________________________________\n",
      "block_15_depthwise_BN (BatchNor (None, 7, 7, 960)    3840        block_15_depthwise[0][0]         \n",
      "__________________________________________________________________________________________________\n",
      "block_15_depthwise_relu (ReLU)  (None, 7, 7, 960)    0           block_15_depthwise_BN[0][0]      \n",
      "__________________________________________________________________________________________________\n",
      "block_15_project (Conv2D)       (None, 7, 7, 160)    153600      block_15_depthwise_relu[0][0]    \n",
      "__________________________________________________________________________________________________\n",
      "block_15_project_BN (BatchNorma (None, 7, 7, 160)    640         block_15_project[0][0]           \n",
      "__________________________________________________________________________________________________\n",
      "block_15_add (Add)              (None, 7, 7, 160)    0           block_14_add[0][0]               \n",
      "                                                                 block_15_project_BN[0][0]        \n",
      "__________________________________________________________________________________________________\n",
      "block_16_expand (Conv2D)        (None, 7, 7, 960)    153600      block_15_add[0][0]               \n",
      "__________________________________________________________________________________________________\n",
      "block_16_expand_BN (BatchNormal (None, 7, 7, 960)    3840        block_16_expand[0][0]            \n",
      "__________________________________________________________________________________________________\n",
      "block_16_expand_relu (ReLU)     (None, 7, 7, 960)    0           block_16_expand_BN[0][0]         \n",
      "__________________________________________________________________________________________________\n",
      "block_16_depthwise (DepthwiseCo (None, 7, 7, 960)    8640        block_16_expand_relu[0][0]       \n",
      "__________________________________________________________________________________________________\n",
      "block_16_depthwise_BN (BatchNor (None, 7, 7, 960)    3840        block_16_depthwise[0][0]         \n",
      "__________________________________________________________________________________________________\n",
      "block_16_depthwise_relu (ReLU)  (None, 7, 7, 960)    0           block_16_depthwise_BN[0][0]      \n",
      "__________________________________________________________________________________________________\n",
      "block_16_project (Conv2D)       (None, 7, 7, 320)    307200      block_16_depthwise_relu[0][0]    \n",
      "__________________________________________________________________________________________________\n",
      "block_16_project_BN (BatchNorma (None, 7, 7, 320)    1280        block_16_project[0][0]           \n",
      "__________________________________________________________________________________________________\n",
      "Conv_1 (Conv2D)                 (None, 7, 7, 1280)   409600      block_16_project_BN[0][0]        \n",
      "__________________________________________________________________________________________________\n",
      "Conv_1_bn (BatchNormalization)  (None, 7, 7, 1280)   5120        Conv_1[0][0]                     \n",
      "__________________________________________________________________________________________________\n",
      "out_relu (ReLU)                 (None, 7, 7, 1280)   0           Conv_1_bn[0][0]                  \n",
      "__________________________________________________________________________________________________\n",
      "global_average_pooling2d (Globa (None, 1280)         0           out_relu[0][0]                   \n",
      "==================================================================================================\n",
      "Total params: 2,257,984\n",
      "Trainable params: 2,223,872\n",
      "Non-trainable params: 34,112\n",
      "__________________________________________________________________________________________________\n"
     ]
    }
   ],
   "source": [
    "feature_extraction_model.summary()"
   ]
  },
  {
   "cell_type": "code",
   "execution_count": 5,
   "metadata": {},
   "outputs": [
    {
     "name": "stdout",
     "output_type": "stream",
     "text": [
      "WARNING:tensorflow:From /Users/RayM/opt/anaconda3/lib/python3.7/site-packages/tensorflow/python/ops/init_ops.py:97: calling GlorotUniform.__init__ (from tensorflow.python.ops.init_ops) with dtype is deprecated and will be removed in a future version.\n",
      "Instructions for updating:\n",
      "Call initializer instance with the dtype argument instead of passing it to the constructor\n",
      "WARNING:tensorflow:From /Users/RayM/opt/anaconda3/lib/python3.7/site-packages/tensorflow/python/ops/init_ops.py:1251: calling VarianceScaling.__init__ (from tensorflow.python.ops.init_ops) with dtype is deprecated and will be removed in a future version.\n",
      "Instructions for updating:\n",
      "Call initializer instance with the dtype argument instead of passing it to the constructor\n",
      "WARNING:tensorflow:From /Users/RayM/opt/anaconda3/lib/python3.7/site-packages/tensorflow/python/ops/init_ops.py:97: calling Zeros.__init__ (from tensorflow.python.ops.init_ops) with dtype is deprecated and will be removed in a future version.\n",
      "Instructions for updating:\n",
      "Call initializer instance with the dtype argument instead of passing it to the constructor\n",
      "WARNING:tensorflow:From /Users/RayM/opt/anaconda3/lib/python3.7/site-packages/tensorflow/python/ops/init_ops.py:97: calling Ones.__init__ (from tensorflow.python.ops.init_ops) with dtype is deprecated and will be removed in a future version.\n",
      "Instructions for updating:\n",
      "Call initializer instance with the dtype argument instead of passing it to the constructor\n",
      "WARNING:tensorflow:From /Users/RayM/opt/anaconda3/lib/python3.7/site-packages/tensorflow/python/saved_model/signature_def_utils_impl.py:201: build_tensor_info (from tensorflow.python.saved_model.utils_impl) is deprecated and will be removed in a future version.\n",
      "Instructions for updating:\n",
      "This function will only be available through the v1 compatibility library as tf.compat.v1.saved_model.utils.build_tensor_info or tf.compat.v1.saved_model.build_tensor_info.\n",
      "INFO:tensorflow:Signatures INCLUDED in export for Classify: None\n",
      "INFO:tensorflow:Signatures INCLUDED in export for Regress: None\n",
      "INFO:tensorflow:Signatures INCLUDED in export for Predict: ['serving_default']\n",
      "INFO:tensorflow:Signatures INCLUDED in export for Train: None\n",
      "INFO:tensorflow:Signatures INCLUDED in export for Eval: None\n",
      "INFO:tensorflow:No assets to save.\n",
      "INFO:tensorflow:No assets to write.\n",
      "INFO:tensorflow:SavedModel written to: SavedModelDir/LSTM/v2/saved_model.pb\n"
     ]
    }
   ],
   "source": [
    "# save CNN model in SavedModel format for converting to tflite\n",
    "SAVED_MODEL_DIR = 'SavedModelDir/LSTM/v2'\n",
    "tf.keras.experimental.export_saved_model(feature_extraction_model, SAVED_MODEL_DIR)"
   ]
  },
  {
   "cell_type": "code",
   "execution_count": 6,
   "metadata": {},
   "outputs": [
    {
     "name": "stdout",
     "output_type": "stream",
     "text": [
      "WARNING:tensorflow:From /Users/RayM/opt/anaconda3/lib/python3.7/site-packages/tensorflow/lite/python/convert_saved_model.py:60: load (from tensorflow.python.saved_model.loader_impl) is deprecated and will be removed in a future version.\n",
      "Instructions for updating:\n",
      "This function will only be available through the v1 compatibility library as tf.compat.v1.saved_model.loader.load or tf.compat.v1.saved_model.load. There will be a new function for importing SavedModels in Tensorflow 2.0.\n",
      "WARNING:tensorflow:Unresolved object in checkpoint: (root).layer_with_weights-1._updates\n",
      "WARNING:tensorflow:Unresolved object in checkpoint: (root).layer_with_weights-3._updates\n",
      "WARNING:tensorflow:Unresolved object in checkpoint: (root).layer_with_weights-5._updates\n",
      "WARNING:tensorflow:Unresolved object in checkpoint: (root).layer_with_weights-7._updates\n",
      "WARNING:tensorflow:Unresolved object in checkpoint: (root).layer_with_weights-9._updates\n",
      "WARNING:tensorflow:Unresolved object in checkpoint: (root).layer_with_weights-11._updates\n",
      "WARNING:tensorflow:Unresolved object in checkpoint: (root).layer_with_weights-13._updates\n",
      "WARNING:tensorflow:Unresolved object in checkpoint: (root).layer_with_weights-15._updates\n",
      "WARNING:tensorflow:Unresolved object in checkpoint: (root).layer_with_weights-17._updates\n",
      "WARNING:tensorflow:Unresolved object in checkpoint: (root).layer_with_weights-19._updates\n",
      "WARNING:tensorflow:Unresolved object in checkpoint: (root).layer_with_weights-21._updates\n",
      "WARNING:tensorflow:Unresolved object in checkpoint: (root).layer_with_weights-23._updates\n",
      "WARNING:tensorflow:Unresolved object in checkpoint: (root).layer_with_weights-25._updates\n",
      "WARNING:tensorflow:Unresolved object in checkpoint: (root).layer_with_weights-27._updates\n",
      "WARNING:tensorflow:Unresolved object in checkpoint: (root).layer_with_weights-29._updates\n",
      "WARNING:tensorflow:Unresolved object in checkpoint: (root).layer_with_weights-31._updates\n",
      "WARNING:tensorflow:Unresolved object in checkpoint: (root).layer_with_weights-33._updates\n",
      "WARNING:tensorflow:Unresolved object in checkpoint: (root).layer_with_weights-35._updates\n",
      "WARNING:tensorflow:Unresolved object in checkpoint: (root).layer_with_weights-37._updates\n",
      "WARNING:tensorflow:Unresolved object in checkpoint: (root).layer_with_weights-39._updates\n",
      "WARNING:tensorflow:Unresolved object in checkpoint: (root).layer_with_weights-41._updates\n",
      "WARNING:tensorflow:Unresolved object in checkpoint: (root).layer_with_weights-43._updates\n",
      "WARNING:tensorflow:Unresolved object in checkpoint: (root).layer_with_weights-45._updates\n",
      "WARNING:tensorflow:Unresolved object in checkpoint: (root).layer_with_weights-47._updates\n",
      "WARNING:tensorflow:Unresolved object in checkpoint: (root).layer_with_weights-49._updates\n",
      "WARNING:tensorflow:Unresolved object in checkpoint: (root).layer_with_weights-51._updates\n",
      "WARNING:tensorflow:Unresolved object in checkpoint: (root).layer_with_weights-53._updates\n",
      "WARNING:tensorflow:Unresolved object in checkpoint: (root).layer_with_weights-55._updates\n",
      "WARNING:tensorflow:Unresolved object in checkpoint: (root).layer_with_weights-57._updates\n",
      "WARNING:tensorflow:Unresolved object in checkpoint: (root).layer_with_weights-59._updates\n",
      "WARNING:tensorflow:Unresolved object in checkpoint: (root).layer_with_weights-61._updates\n",
      "WARNING:tensorflow:Unresolved object in checkpoint: (root).layer_with_weights-63._updates\n",
      "WARNING:tensorflow:Unresolved object in checkpoint: (root).layer_with_weights-65._updates\n",
      "WARNING:tensorflow:Unresolved object in checkpoint: (root).layer_with_weights-67._updates\n",
      "WARNING:tensorflow:Unresolved object in checkpoint: (root).layer_with_weights-69._updates\n",
      "WARNING:tensorflow:Unresolved object in checkpoint: (root).layer_with_weights-71._updates\n",
      "WARNING:tensorflow:Unresolved object in checkpoint: (root).layer_with_weights-73._updates\n",
      "WARNING:tensorflow:Unresolved object in checkpoint: (root).layer_with_weights-75._updates\n",
      "WARNING:tensorflow:Unresolved object in checkpoint: (root).layer_with_weights-77._updates\n",
      "WARNING:tensorflow:Unresolved object in checkpoint: (root).layer_with_weights-79._updates\n",
      "WARNING:tensorflow:Unresolved object in checkpoint: (root).layer_with_weights-81._updates\n",
      "WARNING:tensorflow:Unresolved object in checkpoint: (root).layer_with_weights-83._updates\n",
      "WARNING:tensorflow:Unresolved object in checkpoint: (root).layer_with_weights-85._updates\n",
      "WARNING:tensorflow:Unresolved object in checkpoint: (root).layer_with_weights-87._updates\n",
      "WARNING:tensorflow:Unresolved object in checkpoint: (root).layer_with_weights-89._updates\n",
      "WARNING:tensorflow:Unresolved object in checkpoint: (root).layer_with_weights-91._updates\n",
      "WARNING:tensorflow:Unresolved object in checkpoint: (root).layer_with_weights-93._updates\n",
      "WARNING:tensorflow:Unresolved object in checkpoint: (root).layer_with_weights-95._updates\n",
      "WARNING:tensorflow:Unresolved object in checkpoint: (root).layer_with_weights-97._updates\n",
      "WARNING:tensorflow:Unresolved object in checkpoint: (root).layer_with_weights-99._updates\n",
      "WARNING:tensorflow:Unresolved object in checkpoint: (root).layer_with_weights-101._updates\n",
      "WARNING:tensorflow:Unresolved object in checkpoint: (root).layer_with_weights-103._updates\n",
      "WARNING:tensorflow:A checkpoint was restored (e.g. tf.train.Checkpoint.restore or tf.keras.Model.load_weights) but not all checkpointed values were used. See above for specific issues. Use expect_partial() on the load status object, e.g. tf.train.Checkpoint.restore(...).expect_partial(), to silence these warnings, or use assert_consumed() to make the check explicit. See https://www.tensorflow.org/alpha/guide/checkpoints#loading_mechanics for details.\n",
      "WARNING:tensorflow:From /Users/RayM/opt/anaconda3/lib/python3.7/site-packages/tensorflow/python/training/saver.py:1276: checkpoint_exists (from tensorflow.python.training.checkpoint_management) is deprecated and will be removed in a future version.\n",
      "Instructions for updating:\n",
      "Use standard file APIs to check for files with this prefix.\n",
      "INFO:tensorflow:Restoring parameters from SavedModelDir/LSTM/v2/variables/variables\n",
      "INFO:tensorflow:The given SavedModel MetaGraphDef contains SignatureDefs with the following keys: {'serving_default', '__saved_model_init_op'}\n",
      "INFO:tensorflow:input tensors info: \n",
      "INFO:tensorflow:Tensor's key in saved_model's tensor_map: input_1\n",
      "INFO:tensorflow: tensor name: input_1:0, shape: (-1, 224, 224, 3), type: DT_FLOAT\n",
      "INFO:tensorflow:output tensors info: \n",
      "INFO:tensorflow:Tensor's key in saved_model's tensor_map: global_average_pooling2d\n",
      "INFO:tensorflow: tensor name: global_average_pooling2d/Mean:0, shape: (-1, 1280), type: DT_FLOAT\n",
      "INFO:tensorflow:Restoring parameters from SavedModelDir/LSTM/v2/variables/variables\n",
      "WARNING:tensorflow:From /Users/RayM/opt/anaconda3/lib/python3.7/site-packages/tensorflow/lite/python/util.py:238: convert_variables_to_constants (from tensorflow.python.framework.graph_util_impl) is deprecated and will be removed in a future version.\n",
      "Instructions for updating:\n",
      "Use `tf.compat.v1.graph_util.convert_variables_to_constants`\n",
      "WARNING:tensorflow:From /Users/RayM/opt/anaconda3/lib/python3.7/site-packages/tensorflow/python/framework/graph_util_impl.py:270: extract_sub_graph (from tensorflow.python.framework.graph_util_impl) is deprecated and will be removed in a future version.\n",
      "Instructions for updating:\n",
      "Use `tf.compat.v1.graph_util.extract_sub_graph`\n",
      "INFO:tensorflow:Froze 260 variables.\n",
      "INFO:tensorflow:Converted 260 variables to const ops.\n"
     ]
    }
   ],
   "source": [
    "# convert the SavedModel to a TFLite model\n",
    "converter = tf.lite.TFLiteConverter.from_saved_model(SAVED_MODEL_DIR)\n",
    "tflite_model = converter.convert()\n"
   ]
  },
  {
   "cell_type": "code",
   "execution_count": 7,
   "metadata": {},
   "outputs": [
    {
     "data": {
      "text/plain": [
       "8849332"
      ]
     },
     "execution_count": 7,
     "metadata": {},
     "output_type": "execute_result"
    }
   ],
   "source": [
    "tflite_model_file = 'MobileNetV2_Model.tflite'\n",
    "open(tflite_model_file, \"wb\").write(tflite_model)"
   ]
  },
  {
   "cell_type": "code",
   "execution_count": 8,
   "metadata": {},
   "outputs": [],
   "source": [
    "def frame_generator():\n",
    "    video_paths = tf.io.gfile.glob(VIDEOS_PATH)\n",
    "    np.random.shuffle(video_paths)\n",
    "    for video_path in video_paths:\n",
    "        frames = []\n",
    "        cap = cv2.VideoCapture(video_path)\n",
    "        num_frames = int(cap.get(cv2.CAP_PROP_FRAME_COUNT))\n",
    "        sample_every_frame = max(1, num_frames // SEQUENCE_LENGTH)\n",
    "        current_frame = 0\n",
    "        \n",
    "        label = os.path.basename(os.path.dirname(video_path))\n",
    "        \n",
    "        max_images = SEQUENCE_LENGTH\n",
    "        while True:\n",
    "            success, frame = cap.read()\n",
    "            if not success:\n",
    "                break\n",
    "                \n",
    "            if current_frame % sample_every_frame == 0:\n",
    "                frame = frame[:, :, ::-1]\n",
    "                img = tf.image.resize(frame, (224, 224))\n",
    "                img = tf.keras.applications.mobilenet_v2.preprocess_input(img)\n",
    "                max_images -= 1\n",
    "                yield img, video_path\n",
    "                \n",
    "            if max_images == 0:\n",
    "                break\n",
    "            current_frame += 1"
   ]
  },
  {
   "cell_type": "code",
   "execution_count": 9,
   "metadata": {},
   "outputs": [],
   "source": [
    "# base path of video dataset\n",
    "BASE_PATH = '/Users/RayM/Downloads/CS663-Swat-Set'\n",
    "VIDEOS_PATH = os.path.join(BASE_PATH, '**', '*.mp4')\n",
    "\n",
    "# sequence length LSTM will process\n",
    "SEQUENCE_LENGTH = 40\n",
    "BATCH_SIZE = 16"
   ]
  },
  {
   "cell_type": "code",
   "execution_count": 10,
   "metadata": {},
   "outputs": [
    {
     "name": "stdout",
     "output_type": "stream",
     "text": [
      "WARNING:tensorflow:From /Users/RayM/opt/anaconda3/lib/python3.7/site-packages/tensorflow/python/data/ops/dataset_ops.py:494: py_func (from tensorflow.python.ops.script_ops) is deprecated and will be removed in a future version.\n",
      "Instructions for updating:\n",
      "tf.py_func is deprecated in TF V2. Instead, there are two\n",
      "    options available in V2.\n",
      "    - tf.py_function takes a python function which manipulates tf eager\n",
      "    tensors instead of numpy arrays. It's easy to convert a tf eager tensor to\n",
      "    an ndarray (just call tensor.numpy()) but having access to eager tensors\n",
      "    means `tf.py_function`s can use accelerators such as GPUs as well as\n",
      "    being differentiable using a gradient tape.\n",
      "    - tf.numpy_function maintains the semantics of the deprecated tf.py_func\n",
      "    (it is not differentiable, and manipulates numpy arrays). It drops the\n",
      "    stateful argument making all functions stateful.\n",
      "    \n"
     ]
    }
   ],
   "source": [
    "dataset = tf.data.Dataset.from_generator(frame_generator,\n",
    "                                         output_types=(tf.float32, tf.string),\n",
    "                                         output_shapes=((224, 224, 3), ()))\n",
    "\n",
    "dataset = dataset.batch(BATCH_SIZE,drop_remainder=True).prefetch(tf.data.experimental.AUTOTUNE)"
   ]
  },
  {
   "cell_type": "code",
   "execution_count": 11,
   "metadata": {},
   "outputs": [
    {
     "name": "stderr",
     "output_type": "stream",
     "text": [
      "19it [00:35,  1.84s/it]"
     ]
    },
    {
     "ename": "KeyboardInterrupt",
     "evalue": "",
     "output_type": "error",
     "traceback": [
      "\u001b[0;31m---------------------------------------------------------------------------\u001b[0m",
      "\u001b[0;31mKeyboardInterrupt\u001b[0m                         Traceback (most recent call last)",
      "\u001b[0;32m<ipython-input-11-2f239845ab75>\u001b[0m in \u001b[0;36m<module>\u001b[0;34m\u001b[0m\n\u001b[1;32m      5\u001b[0m \u001b[0;31m# extract the features for each frame\u001b[0m\u001b[0;34m\u001b[0m\u001b[0;34m\u001b[0m\u001b[0;34m\u001b[0m\u001b[0m\n\u001b[1;32m      6\u001b[0m \u001b[0;32mfor\u001b[0m \u001b[0mimg\u001b[0m\u001b[0;34m,\u001b[0m \u001b[0mbatch_paths\u001b[0m \u001b[0;32min\u001b[0m \u001b[0mtqdm\u001b[0m\u001b[0;34m.\u001b[0m\u001b[0mtqdm\u001b[0m\u001b[0;34m(\u001b[0m\u001b[0mdataset\u001b[0m\u001b[0;34m)\u001b[0m\u001b[0;34m:\u001b[0m\u001b[0;34m\u001b[0m\u001b[0;34m\u001b[0m\u001b[0m\n\u001b[0;32m----> 7\u001b[0;31m     \u001b[0mbatch_features\u001b[0m \u001b[0;34m=\u001b[0m \u001b[0mfeature_extraction_model\u001b[0m\u001b[0;34m(\u001b[0m\u001b[0mimg\u001b[0m\u001b[0;34m)\u001b[0m\u001b[0;34m\u001b[0m\u001b[0;34m\u001b[0m\u001b[0m\n\u001b[0m\u001b[1;32m      8\u001b[0m     \u001b[0;31m# reshape the tensor\u001b[0m\u001b[0;34m\u001b[0m\u001b[0;34m\u001b[0m\u001b[0;34m\u001b[0m\u001b[0m\n\u001b[1;32m      9\u001b[0m     batch_features = tf.reshape(batch_features,\n",
      "\u001b[0;32m~/opt/anaconda3/lib/python3.7/site-packages/tensorflow/python/keras/engine/base_layer.py\u001b[0m in \u001b[0;36m__call__\u001b[0;34m(self, inputs, *args, **kwargs)\u001b[0m\n\u001b[1;32m    677\u001b[0m           with base_layer_utils.autocast_context_manager(\n\u001b[1;32m    678\u001b[0m               input_list, self._mixed_precision_policy.should_cast_variables):\n\u001b[0;32m--> 679\u001b[0;31m             \u001b[0moutputs\u001b[0m \u001b[0;34m=\u001b[0m \u001b[0mself\u001b[0m\u001b[0;34m.\u001b[0m\u001b[0mcall\u001b[0m\u001b[0;34m(\u001b[0m\u001b[0minputs\u001b[0m\u001b[0;34m,\u001b[0m \u001b[0;34m*\u001b[0m\u001b[0margs\u001b[0m\u001b[0;34m,\u001b[0m \u001b[0;34m**\u001b[0m\u001b[0mkwargs\u001b[0m\u001b[0;34m)\u001b[0m\u001b[0;34m\u001b[0m\u001b[0;34m\u001b[0m\u001b[0m\n\u001b[0m\u001b[1;32m    680\u001b[0m           \u001b[0mself\u001b[0m\u001b[0;34m.\u001b[0m\u001b[0m_handle_activity_regularization\u001b[0m\u001b[0;34m(\u001b[0m\u001b[0minputs\u001b[0m\u001b[0;34m,\u001b[0m \u001b[0moutputs\u001b[0m\u001b[0;34m)\u001b[0m\u001b[0;34m\u001b[0m\u001b[0;34m\u001b[0m\u001b[0m\n\u001b[1;32m    681\u001b[0m           \u001b[0mself\u001b[0m\u001b[0;34m.\u001b[0m\u001b[0m_set_mask_metadata\u001b[0m\u001b[0;34m(\u001b[0m\u001b[0minputs\u001b[0m\u001b[0;34m,\u001b[0m \u001b[0moutputs\u001b[0m\u001b[0;34m,\u001b[0m \u001b[0mprevious_mask\u001b[0m\u001b[0;34m)\u001b[0m\u001b[0;34m\u001b[0m\u001b[0;34m\u001b[0m\u001b[0m\n",
      "\u001b[0;32m~/opt/anaconda3/lib/python3.7/site-packages/tensorflow/python/keras/engine/network.py\u001b[0m in \u001b[0;36mcall\u001b[0;34m(self, inputs, training, mask)\u001b[0m\n\u001b[1;32m    749\u001b[0m                                 ' implement a `call` method.')\n\u001b[1;32m    750\u001b[0m \u001b[0;34m\u001b[0m\u001b[0m\n\u001b[0;32m--> 751\u001b[0;31m     \u001b[0;32mreturn\u001b[0m \u001b[0mself\u001b[0m\u001b[0;34m.\u001b[0m\u001b[0m_run_internal_graph\u001b[0m\u001b[0;34m(\u001b[0m\u001b[0minputs\u001b[0m\u001b[0;34m,\u001b[0m \u001b[0mtraining\u001b[0m\u001b[0;34m=\u001b[0m\u001b[0mtraining\u001b[0m\u001b[0;34m,\u001b[0m \u001b[0mmask\u001b[0m\u001b[0;34m=\u001b[0m\u001b[0mmask\u001b[0m\u001b[0;34m)\u001b[0m\u001b[0;34m\u001b[0m\u001b[0;34m\u001b[0m\u001b[0m\n\u001b[0m\u001b[1;32m    752\u001b[0m \u001b[0;34m\u001b[0m\u001b[0m\n\u001b[1;32m    753\u001b[0m   \u001b[0;32mdef\u001b[0m \u001b[0mcompute_output_shape\u001b[0m\u001b[0;34m(\u001b[0m\u001b[0mself\u001b[0m\u001b[0;34m,\u001b[0m \u001b[0minput_shape\u001b[0m\u001b[0;34m)\u001b[0m\u001b[0;34m:\u001b[0m\u001b[0;34m\u001b[0m\u001b[0;34m\u001b[0m\u001b[0m\n",
      "\u001b[0;32m~/opt/anaconda3/lib/python3.7/site-packages/tensorflow/python/keras/engine/network.py\u001b[0m in \u001b[0;36m_run_internal_graph\u001b[0;34m(self, inputs, training, mask)\u001b[0m\n\u001b[1;32m    891\u001b[0m \u001b[0;34m\u001b[0m\u001b[0m\n\u001b[1;32m    892\u001b[0m           \u001b[0;31m# Compute outputs.\u001b[0m\u001b[0;34m\u001b[0m\u001b[0;34m\u001b[0m\u001b[0;34m\u001b[0m\u001b[0m\n\u001b[0;32m--> 893\u001b[0;31m           \u001b[0moutput_tensors\u001b[0m \u001b[0;34m=\u001b[0m \u001b[0mlayer\u001b[0m\u001b[0;34m(\u001b[0m\u001b[0mcomputed_tensors\u001b[0m\u001b[0;34m,\u001b[0m \u001b[0;34m**\u001b[0m\u001b[0mkwargs\u001b[0m\u001b[0;34m)\u001b[0m\u001b[0;34m\u001b[0m\u001b[0;34m\u001b[0m\u001b[0m\n\u001b[0m\u001b[1;32m    894\u001b[0m \u001b[0;34m\u001b[0m\u001b[0m\n\u001b[1;32m    895\u001b[0m           \u001b[0;31m# Update tensor_dict.\u001b[0m\u001b[0;34m\u001b[0m\u001b[0;34m\u001b[0m\u001b[0;34m\u001b[0m\u001b[0m\n",
      "\u001b[0;32m~/opt/anaconda3/lib/python3.7/site-packages/tensorflow/python/keras/engine/base_layer.py\u001b[0m in \u001b[0;36m__call__\u001b[0;34m(self, inputs, *args, **kwargs)\u001b[0m\n\u001b[1;32m    677\u001b[0m           with base_layer_utils.autocast_context_manager(\n\u001b[1;32m    678\u001b[0m               input_list, self._mixed_precision_policy.should_cast_variables):\n\u001b[0;32m--> 679\u001b[0;31m             \u001b[0moutputs\u001b[0m \u001b[0;34m=\u001b[0m \u001b[0mself\u001b[0m\u001b[0;34m.\u001b[0m\u001b[0mcall\u001b[0m\u001b[0;34m(\u001b[0m\u001b[0minputs\u001b[0m\u001b[0;34m,\u001b[0m \u001b[0;34m*\u001b[0m\u001b[0margs\u001b[0m\u001b[0;34m,\u001b[0m \u001b[0;34m**\u001b[0m\u001b[0mkwargs\u001b[0m\u001b[0;34m)\u001b[0m\u001b[0;34m\u001b[0m\u001b[0;34m\u001b[0m\u001b[0m\n\u001b[0m\u001b[1;32m    680\u001b[0m           \u001b[0mself\u001b[0m\u001b[0;34m.\u001b[0m\u001b[0m_handle_activity_regularization\u001b[0m\u001b[0;34m(\u001b[0m\u001b[0minputs\u001b[0m\u001b[0;34m,\u001b[0m \u001b[0moutputs\u001b[0m\u001b[0;34m)\u001b[0m\u001b[0;34m\u001b[0m\u001b[0;34m\u001b[0m\u001b[0m\n\u001b[1;32m    681\u001b[0m           \u001b[0mself\u001b[0m\u001b[0;34m.\u001b[0m\u001b[0m_set_mask_metadata\u001b[0m\u001b[0;34m(\u001b[0m\u001b[0minputs\u001b[0m\u001b[0;34m,\u001b[0m \u001b[0moutputs\u001b[0m\u001b[0;34m,\u001b[0m \u001b[0mprevious_mask\u001b[0m\u001b[0;34m)\u001b[0m\u001b[0;34m\u001b[0m\u001b[0;34m\u001b[0m\u001b[0m\n",
      "\u001b[0;32m~/opt/anaconda3/lib/python3.7/site-packages/tensorflow/python/keras/layers/normalization.py\u001b[0m in \u001b[0;36mcall\u001b[0;34m(self, inputs, training)\u001b[0m\n\u001b[1;32m    649\u001b[0m \u001b[0;34m\u001b[0m\u001b[0m\n\u001b[1;32m    650\u001b[0m     \u001b[0;32mif\u001b[0m \u001b[0mself\u001b[0m\u001b[0;34m.\u001b[0m\u001b[0mfused\u001b[0m\u001b[0;34m:\u001b[0m\u001b[0;34m\u001b[0m\u001b[0;34m\u001b[0m\u001b[0m\n\u001b[0;32m--> 651\u001b[0;31m       \u001b[0moutputs\u001b[0m \u001b[0;34m=\u001b[0m \u001b[0mself\u001b[0m\u001b[0;34m.\u001b[0m\u001b[0m_fused_batch_norm\u001b[0m\u001b[0;34m(\u001b[0m\u001b[0minputs\u001b[0m\u001b[0;34m,\u001b[0m \u001b[0mtraining\u001b[0m\u001b[0;34m=\u001b[0m\u001b[0mtraining\u001b[0m\u001b[0;34m)\u001b[0m\u001b[0;34m\u001b[0m\u001b[0;34m\u001b[0m\u001b[0m\n\u001b[0m\u001b[1;32m    652\u001b[0m       \u001b[0;32mif\u001b[0m \u001b[0mself\u001b[0m\u001b[0;34m.\u001b[0m\u001b[0mvirtual_batch_size\u001b[0m \u001b[0;32mis\u001b[0m \u001b[0;32mnot\u001b[0m \u001b[0;32mNone\u001b[0m\u001b[0;34m:\u001b[0m\u001b[0;34m\u001b[0m\u001b[0;34m\u001b[0m\u001b[0m\n\u001b[1;32m    653\u001b[0m         \u001b[0;31m# Currently never reaches here since fused_batch_norm does not support\u001b[0m\u001b[0;34m\u001b[0m\u001b[0;34m\u001b[0m\u001b[0;34m\u001b[0m\u001b[0m\n",
      "\u001b[0;32m~/opt/anaconda3/lib/python3.7/site-packages/tensorflow/python/keras/layers/normalization.py\u001b[0m in \u001b[0;36m_fused_batch_norm\u001b[0;34m(self, inputs, training)\u001b[0m\n\u001b[1;32m    492\u001b[0m \u001b[0;34m\u001b[0m\u001b[0m\n\u001b[1;32m    493\u001b[0m     output, mean, variance = tf_utils.smart_cond(\n\u001b[0;32m--> 494\u001b[0;31m         training, _fused_batch_norm_training, _fused_batch_norm_inference)\n\u001b[0m\u001b[1;32m    495\u001b[0m     \u001b[0;32mif\u001b[0m \u001b[0;32mnot\u001b[0m \u001b[0mself\u001b[0m\u001b[0;34m.\u001b[0m\u001b[0m_bessels_correction_test_only\u001b[0m\u001b[0;34m:\u001b[0m\u001b[0;34m\u001b[0m\u001b[0;34m\u001b[0m\u001b[0m\n\u001b[1;32m    496\u001b[0m       \u001b[0;31m# Remove Bessel's correction to be consistent with non-fused batch norm.\u001b[0m\u001b[0;34m\u001b[0m\u001b[0;34m\u001b[0m\u001b[0;34m\u001b[0m\u001b[0m\n",
      "\u001b[0;32m~/opt/anaconda3/lib/python3.7/site-packages/tensorflow/python/keras/utils/tf_utils.py\u001b[0m in \u001b[0;36msmart_cond\u001b[0;34m(pred, true_fn, false_fn, name)\u001b[0m\n\u001b[1;32m     56\u001b[0m         pred, true_fn=true_fn, false_fn=false_fn, name=name)\n\u001b[1;32m     57\u001b[0m   return smart_module.smart_cond(\n\u001b[0;32m---> 58\u001b[0;31m       pred, true_fn=true_fn, false_fn=false_fn, name=name)\n\u001b[0m\u001b[1;32m     59\u001b[0m \u001b[0;34m\u001b[0m\u001b[0m\n\u001b[1;32m     60\u001b[0m \u001b[0;34m\u001b[0m\u001b[0m\n",
      "\u001b[0;32m~/opt/anaconda3/lib/python3.7/site-packages/tensorflow/python/framework/smart_cond.py\u001b[0m in \u001b[0;36msmart_cond\u001b[0;34m(pred, true_fn, false_fn, name)\u001b[0m\n\u001b[1;32m     54\u001b[0m       \u001b[0;32mreturn\u001b[0m \u001b[0mtrue_fn\u001b[0m\u001b[0;34m(\u001b[0m\u001b[0;34m)\u001b[0m\u001b[0;34m\u001b[0m\u001b[0;34m\u001b[0m\u001b[0m\n\u001b[1;32m     55\u001b[0m     \u001b[0;32melse\u001b[0m\u001b[0;34m:\u001b[0m\u001b[0;34m\u001b[0m\u001b[0;34m\u001b[0m\u001b[0m\n\u001b[0;32m---> 56\u001b[0;31m       \u001b[0;32mreturn\u001b[0m \u001b[0mfalse_fn\u001b[0m\u001b[0;34m(\u001b[0m\u001b[0;34m)\u001b[0m\u001b[0;34m\u001b[0m\u001b[0;34m\u001b[0m\u001b[0m\n\u001b[0m\u001b[1;32m     57\u001b[0m   \u001b[0;32melse\u001b[0m\u001b[0;34m:\u001b[0m\u001b[0;34m\u001b[0m\u001b[0;34m\u001b[0m\u001b[0m\n\u001b[1;32m     58\u001b[0m     return control_flow_ops.cond(pred, true_fn=true_fn, false_fn=false_fn,\n",
      "\u001b[0;32m~/opt/anaconda3/lib/python3.7/site-packages/tensorflow/python/keras/layers/normalization.py\u001b[0m in \u001b[0;36m_fused_batch_norm_inference\u001b[0;34m()\u001b[0m\n\u001b[1;32m    489\u001b[0m           \u001b[0mepsilon\u001b[0m\u001b[0;34m=\u001b[0m\u001b[0mself\u001b[0m\u001b[0;34m.\u001b[0m\u001b[0mepsilon\u001b[0m\u001b[0;34m,\u001b[0m\u001b[0;34m\u001b[0m\u001b[0;34m\u001b[0m\u001b[0m\n\u001b[1;32m    490\u001b[0m           \u001b[0mis_training\u001b[0m\u001b[0;34m=\u001b[0m\u001b[0;32mFalse\u001b[0m\u001b[0;34m,\u001b[0m\u001b[0;34m\u001b[0m\u001b[0;34m\u001b[0m\u001b[0m\n\u001b[0;32m--> 491\u001b[0;31m           data_format=self._data_format)\n\u001b[0m\u001b[1;32m    492\u001b[0m \u001b[0;34m\u001b[0m\u001b[0m\n\u001b[1;32m    493\u001b[0m     output, mean, variance = tf_utils.smart_cond(\n",
      "\u001b[0;32m~/opt/anaconda3/lib/python3.7/site-packages/tensorflow/python/ops/nn_impl.py\u001b[0m in \u001b[0;36mfused_batch_norm\u001b[0;34m(x, scale, offset, mean, variance, epsilon, data_format, is_training, name)\u001b[0m\n\u001b[1;32m   1327\u001b[0m       \u001b[0mdata_format\u001b[0m\u001b[0;34m=\u001b[0m\u001b[0mdata_format\u001b[0m\u001b[0;34m,\u001b[0m\u001b[0;34m\u001b[0m\u001b[0;34m\u001b[0m\u001b[0m\n\u001b[1;32m   1328\u001b[0m       \u001b[0mis_training\u001b[0m\u001b[0;34m=\u001b[0m\u001b[0mis_training\u001b[0m\u001b[0;34m,\u001b[0m\u001b[0;34m\u001b[0m\u001b[0;34m\u001b[0m\u001b[0m\n\u001b[0;32m-> 1329\u001b[0;31m       name=name)\n\u001b[0m\u001b[1;32m   1330\u001b[0m   \u001b[0;32mreturn\u001b[0m \u001b[0my\u001b[0m\u001b[0;34m,\u001b[0m \u001b[0mbatch_mean\u001b[0m\u001b[0;34m,\u001b[0m \u001b[0mbatch_var\u001b[0m\u001b[0;34m\u001b[0m\u001b[0;34m\u001b[0m\u001b[0m\n\u001b[1;32m   1331\u001b[0m \u001b[0;34m\u001b[0m\u001b[0m\n",
      "\u001b[0;32m~/opt/anaconda3/lib/python3.7/site-packages/tensorflow/python/ops/gen_nn_ops.py\u001b[0m in \u001b[0;36m_fused_batch_norm\u001b[0;34m(x, scale, offset, mean, variance, epsilon, data_format, is_training, name)\u001b[0m\n\u001b[1;32m   3913\u001b[0m         \u001b[0;34m\"FusedBatchNorm\"\u001b[0m\u001b[0;34m,\u001b[0m \u001b[0mname\u001b[0m\u001b[0;34m,\u001b[0m \u001b[0m_ctx\u001b[0m\u001b[0;34m.\u001b[0m\u001b[0m_post_execution_callbacks\u001b[0m\u001b[0;34m,\u001b[0m \u001b[0mx\u001b[0m\u001b[0;34m,\u001b[0m \u001b[0mscale\u001b[0m\u001b[0;34m,\u001b[0m\u001b[0;34m\u001b[0m\u001b[0;34m\u001b[0m\u001b[0m\n\u001b[1;32m   3914\u001b[0m         \u001b[0moffset\u001b[0m\u001b[0;34m,\u001b[0m \u001b[0mmean\u001b[0m\u001b[0;34m,\u001b[0m \u001b[0mvariance\u001b[0m\u001b[0;34m,\u001b[0m \u001b[0;34m\"epsilon\"\u001b[0m\u001b[0;34m,\u001b[0m \u001b[0mepsilon\u001b[0m\u001b[0;34m,\u001b[0m \u001b[0;34m\"data_format\"\u001b[0m\u001b[0;34m,\u001b[0m\u001b[0;34m\u001b[0m\u001b[0;34m\u001b[0m\u001b[0m\n\u001b[0;32m-> 3915\u001b[0;31m         data_format, \"is_training\", is_training)\n\u001b[0m\u001b[1;32m   3916\u001b[0m       \u001b[0m_result\u001b[0m \u001b[0;34m=\u001b[0m \u001b[0m_FusedBatchNormOutput\u001b[0m\u001b[0;34m.\u001b[0m\u001b[0m_make\u001b[0m\u001b[0;34m(\u001b[0m\u001b[0m_result\u001b[0m\u001b[0;34m)\u001b[0m\u001b[0;34m\u001b[0m\u001b[0;34m\u001b[0m\u001b[0m\n\u001b[1;32m   3917\u001b[0m       \u001b[0;32mreturn\u001b[0m \u001b[0m_result\u001b[0m\u001b[0;34m\u001b[0m\u001b[0;34m\u001b[0m\u001b[0m\n",
      "\u001b[0;31mKeyboardInterrupt\u001b[0m: "
     ]
    }
   ],
   "source": [
    "current_path = None\n",
    "all_features = []\n",
    "\n",
    "# go through the dataset and use the mobilenet_v2 model to \n",
    "# extract the features for each frame\n",
    "for img, batch_paths in tqdm.tqdm(dataset):\n",
    "    batch_features = feature_extraction_model(img)\n",
    "    # reshape the tensor\n",
    "    batch_features = tf.reshape(batch_features,\n",
    "                                (batch_features.shape[0], -1))\n",
    "    \n",
    "    for features, path in zip(batch_features.numpy(), batch_paths.numpy()):\n",
    "        if path != current_path and current_path is not None:\n",
    "            output_path = current_path.decode().replace('.mp4','.npy')\n",
    "            np.save(output_path, all_features)\n",
    "            all_features = []\n",
    "            \n",
    "        current_path = path\n",
    "        all_features.append(features)"
   ]
  },
  {
   "cell_type": "code",
   "execution_count": 12,
   "metadata": {},
   "outputs": [
    {
     "data": {
      "text/plain": [
       "LabelBinarizer(neg_label=0, pos_label=1, sparse_output=False)"
      ]
     },
     "execution_count": 12,
     "metadata": {},
     "output_type": "execute_result"
    }
   ],
   "source": [
    "LABELS = ['CellLeader','ColumnFormation','Come','CoverThisArea','Crouch','Door','Eight','FileFormation','Five','Four','Freeze','Gas','Hostage','HurryUp','IDontUnderstand','IUnderstand','LineAbreastFormation','Listen','Me','Nine','One','Pistol','PointOfEntry','RallyPoint','Rifle','Seven','Shotgun','Six','Sniper','Stop','Ten','Three','Two','Vehicle','Watch','Window','You']\n",
    "encoder = LabelBinarizer()\n",
    "encoder.fit(LABELS)"
   ]
  },
  {
   "cell_type": "code",
   "execution_count": 13,
   "metadata": {},
   "outputs": [
    {
     "name": "stdout",
     "output_type": "stream",
     "text": [
      "WARNING:tensorflow:Weight and gradient histograms not supported for eagerexecution, setting `histogram_freq` to `0`.\n"
     ]
    }
   ],
   "source": [
    "logdir = os.path.join(\"logs\", datetime.datetime.now().strftime(\"%Y%m%d-%H%M%S\"))\n",
    "tensorboard_callback = tf.keras.callbacks.TensorBoard(logdir, histogram_freq=1)\n"
   ]
  },
  {
   "cell_type": "code",
   "execution_count": 14,
   "metadata": {},
   "outputs": [],
   "source": [
    "callbacks=[tensorboard_callback]\n"
   ]
  },
  {
   "cell_type": "code",
   "execution_count": 15,
   "metadata": {},
   "outputs": [],
   "source": [
    "#setup a keras Sequential model with 1) Masking layer  2) LSTM layer with 512 cells, dropout 0.5, recurrent_dropout of 0.5  \n",
    "# 3) a fully connected relu activation layer with 256 outputs,  4) a droupout layer 5) a final decision fully connected layer of length of labels\n",
    "# (which is the number of classes) with softmax activation\n",
    "model = tf.keras.Sequential([\n",
    "    tf.keras.layers.Masking(mask_value=0.),\n",
    "    tf.keras.layers.LSTM(512, dropout=0.5, recurrent_dropout=0.5),\n",
    "    tf.keras.layers.Dense(256, activation='relu'),\n",
    "    tf.keras.layers.Dropout(0.5),\n",
    "    tf.keras.layers.Dense(len(LABELS), activation='softmax')\n",
    "])"
   ]
  },
  {
   "cell_type": "code",
   "execution_count": 16,
   "metadata": {},
   "outputs": [],
   "source": [
    "model.compile(loss='categorical_crossentropy',\n",
    "              optimizer='rmsprop',\n",
    "              metrics=['accuracy', 'top_k_categorical_accuracy'])"
   ]
  },
  {
   "cell_type": "code",
   "execution_count": 28,
   "metadata": {},
   "outputs": [],
   "source": [
    "test_file = '/Users/RayM/Downloads/testfile_01.txt'\n",
    "train_file = '/Users/RayM/Downloads/trainfile_01.txt'\n",
    "\n",
    "with open(test_file) as f:\n",
    "    test_list = [row.strip() for row in list(f)]\n",
    "\n",
    "with open(train_file) as f:\n",
    "    train_list = [row.strip() for row in list(f)]\n",
    "    train_list = [row.split(' ')[0] for row in train_list]\n",
    "\n",
    "\n",
    "def make_generator(file_list):\n",
    "    def generator():\n",
    "        np.random.shuffle(file_list)\n",
    "        for path in file_list:\n",
    "            full_path = os.path.join(BASE_PATH, path).replace('.mp4    ', '.npy')\n",
    "\n",
    "            label = os.path.basename(os.path.dirname(path))\n",
    "            features = np.load(full_path, allow_pickle=True)\n",
    "\n",
    "            padded_sequence = np.zeros((SEQUENCE_LENGTH, 1280))\n",
    "            padded_sequence[0:len(features)] = np.array(features)\n",
    "\n",
    "            transformed_label = encoder.transform([label])\n",
    "            yield padded_sequence, transformed_label[0]\n",
    "    return generator"
   ]
  },
  {
   "cell_type": "code",
   "execution_count": 29,
   "metadata": {},
   "outputs": [
    {
     "name": "stdout",
     "output_type": "stream",
     "text": [
      "['/Users/RayM/Documents/School/CompVision/Project3/Training_Set/CS663-Swat-Set-2/Eight/G_81.mp4', '/Users/RayM/Documents/School/CompVision/Project3/Training_Set/CS663-Swat-Set-2/Eight/G_83.mp4', '/Users/RayM/Documents/School/CompVision/Project3/Training_Set/CS663-Swat-Set-2/Eight/G_82.mp4', '/Users/RayM/Documents/School/CompVision/Project3/Training_Set/CS663-Swat-Set-2/Eight/G_84.mp4', '/Users/RayM/Documents/School/CompVision/Project3/Training_Set/CS663-Swat-Set-2/Gas/G_Gas2.mp4', '/Users/RayM/Documents/School/CompVision/Project3/Training_Set/CS663-Swat-Set-2/Gas/G_Gas3.mp4', '/Users/RayM/Documents/School/CompVision/Project3/Training_Set/CS663-Swat-Set-2/Gas/G_Gas4.mp4', '/Users/RayM/Documents/School/CompVision/Project3/Training_Set/CS663-Swat-Set-2/CellLeader/G_CellLeader4.mp4', '/Users/RayM/Documents/School/CompVision/Project3/Training_Set/CS663-Swat-Set-2/CellLeader/G_CellLeader1.mp4', '/Users/RayM/Documents/School/CompVision/Project3/Training_Set/CS663-Swat-Set-2/Freeze/G_Freeze2.mp4', '/Users/RayM/Documents/School/CompVision/Project3/Training_Set/CS663-Swat-Set-2/Freeze/G_Freeze3.mp4', '/Users/RayM/Documents/School/CompVision/Project3/Training_Set/CS663-Swat-Set-2/Freeze/G_Freeze4.mp4', '/Users/RayM/Documents/School/CompVision/Project3/Training_Set/CS663-Swat-Set-2/Crouch/G_Crouch4.mp4', '/Users/RayM/Documents/School/CompVision/Project3/Training_Set/CS663-Swat-Set-2/FileFormation/G_FIleFormation4.mp4', '/Users/RayM/Documents/School/CompVision/Project3/Training_Set/CS663-Swat-Set-2/FileFormation/G_FileFormation3.mp4', '/Users/RayM/Documents/School/CompVision/Project3/Training_Set/CS663-Swat-Set-2/FileFormation/G_FileFormation2.mp4', '/Users/RayM/Documents/School/CompVision/Project3/Training_Set/CS663-Swat-Set-2/Shotgun/G_ShotGun3.mp4', '/Users/RayM/Documents/School/CompVision/Project3/Training_Set/CS663-Swat-Set-2/Shotgun/G_Shotgun1.mp4', '/Users/RayM/Documents/School/CompVision/Project3/Training_Set/CS663-Swat-Set-2/Shotgun/G_ShotGun4.mp4', '/Users/RayM/Documents/School/CompVision/Project3/Training_Set/CS663-Swat-Set-2/Vehicle/G_Vehicle2.mp4', '/Users/RayM/Documents/School/CompVision/Project3/Training_Set/CS663-Swat-Set-2/Vehicle/G_Vehicle1.mp4', '/Users/RayM/Documents/School/CompVision/Project3/Training_Set/CS663-Swat-Set-2/Rifle/G_Rifle4.mp4', '/Users/RayM/Documents/School/CompVision/Project3/Training_Set/CS663-Swat-Set-2/Rifle/G_Rifle3.mp4', '/Users/RayM/Documents/School/CompVision/Project3/Training_Set/CS663-Swat-Set-2/Rifle/G_Rifle2.mp4', '/Users/RayM/Documents/School/CompVision/Project3/Training_Set/CS663-Swat-Set-2/Rifle/G_rifle1.mp4', '/Users/RayM/Documents/School/CompVision/Project3/Training_Set/CS663-Swat-Set-2/LineAbreastFormation/G_LineAbreastFormation4.mp4', '/Users/RayM/Documents/School/CompVision/Project3/Training_Set/CS663-Swat-Set-2/LineAbreastFormation/G_LineAbreastFormation3.mp4', '/Users/RayM/Documents/School/CompVision/Project3/Training_Set/CS663-Swat-Set-2/Pistol/G_pistol1.mp4', '/Users/RayM/Documents/School/CompVision/Project3/Training_Set/CS663-Swat-Set-2/Pistol/G_Pistol3.mp4', '/Users/RayM/Documents/School/CompVision/Project3/Training_Set/CS663-Swat-Set-2/Nine/G_94.mp4', '/Users/RayM/Documents/School/CompVision/Project3/Training_Set/CS663-Swat-Set-2/Nine/G_92.mp4', '/Users/RayM/Documents/School/CompVision/Project3/Training_Set/CS663-Swat-Set-2/Nine/G_93.mp4', '/Users/RayM/Documents/School/CompVision/Project3/Training_Set/CS663-Swat-Set-2/Nine/G_91.mp4', '/Users/RayM/Documents/School/CompVision/Project3/Training_Set/CS663-Swat-Set-2/IUnderstand/G_IUnderstand2.mp4', '/Users/RayM/Documents/School/CompVision/Project3/Training_Set/CS663-Swat-Set-2/IUnderstand/G_IUnderstand1.mp4', '/Users/RayM/Documents/School/CompVision/Project3/Training_Set/CS663-Swat-Set-2/IUnderstand/G_IUnderstand4.mp4', '/Users/RayM/Documents/School/CompVision/Project3/Training_Set/CS663-Swat-Set-2/Listen/G_Listen4.mp4', '/Users/RayM/Documents/School/CompVision/Project3/Training_Set/CS663-Swat-Set-2/Listen/G_Listen3.mp4', '/Users/RayM/Documents/School/CompVision/Project3/Training_Set/CS663-Swat-Set-2/Listen/G_Listen2.mp4', '/Users/RayM/Documents/School/CompVision/Project3/Training_Set/CS663-Swat-Set-2/Stop/G_Stop3.mp4', '/Users/RayM/Documents/School/CompVision/Project3/Training_Set/CS663-Swat-Set-2/Stop/G_stop2.mp4', '/Users/RayM/Documents/School/CompVision/Project3/Training_Set/CS663-Swat-Set-2/Stop/G_Stop4.mp4', '/Users/RayM/Documents/School/CompVision/Project3/Training_Set/CS663-Swat-Set-2/Come/G_come2.mp4', '/Users/RayM/Documents/School/CompVision/Project3/Training_Set/CS663-Swat-Set-2/Come/G_Come3.mp4', '/Users/RayM/Documents/School/CompVision/Project3/Training_Set/CS663-Swat-Set-2/Come/G_Come4.mp4', '/Users/RayM/Documents/School/CompVision/Project3/Training_Set/CS663-Swat-Set-2/Three/G_32.mp4', '/Users/RayM/Documents/School/CompVision/Project3/Training_Set/CS663-Swat-Set-2/Three/G_33.mp4', '/Users/RayM/Documents/School/CompVision/Project3/Training_Set/CS663-Swat-Set-2/Three/G_31.mp4', '/Users/RayM/Documents/School/CompVision/Project3/Training_Set/CS663-Swat-Set-2/HurryUp/G_HurryUp3.mp4', '/Users/RayM/Documents/School/CompVision/Project3/Training_Set/CS663-Swat-Set-2/HurryUp/G_HurryUp4.mp4', '/Users/RayM/Documents/School/CompVision/Project3/Training_Set/CS663-Swat-Set-2/One/G_14.mp4', '/Users/RayM/Documents/School/CompVision/Project3/Training_Set/CS663-Swat-Set-2/One/G_13.mp4', '/Users/RayM/Documents/School/CompVision/Project3/Training_Set/CS663-Swat-Set-2/One/G_11.mp4', '/Users/RayM/Documents/School/CompVision/Project3/Training_Set/CS663-Swat-Set-2/Ten/G_ten4.mp4', '/Users/RayM/Documents/School/CompVision/Project3/Training_Set/CS663-Swat-Set-2/Seven/G_73.mp4', '/Users/RayM/Documents/School/CompVision/Project3/Training_Set/CS663-Swat-Set-2/Seven/G_72.mp4', '/Users/RayM/Documents/School/CompVision/Project3/Training_Set/CS663-Swat-Set-2/Window/G_Window4.mp4', '/Users/RayM/Documents/School/CompVision/Project3/Training_Set/CS663-Swat-Set-2/Window/G_Window2.mp4', '/Users/RayM/Documents/School/CompVision/Project3/Training_Set/CS663-Swat-Set-2/ColumnFormation/G_ColumnFormation1.mp4', '/Users/RayM/Documents/School/CompVision/Project3/Training_Set/CS663-Swat-Set-2/ColumnFormation/G_columnFormation2.mp4', '/Users/RayM/Documents/School/CompVision/Project3/Training_Set/CS663-Swat-Set-2/ColumnFormation/G_ColumnFormation4.mp4', '/Users/RayM/Documents/School/CompVision/Project3/Training_Set/CS663-Swat-Set-2/ColumnFormation/G_ColumnFormatio3.mp4', '/Users/RayM/Documents/School/CompVision/Project3/Training_Set/CS663-Swat-Set-2/Me/G_Me4.mp4', '/Users/RayM/Documents/School/CompVision/Project3/Training_Set/CS663-Swat-Set-2/Me/G_Me1.mp4', '/Users/RayM/Documents/School/CompVision/Project3/Training_Set/CS663-Swat-Set-2/Me/G_Me3.mp4', '/Users/RayM/Documents/School/CompVision/Project3/Training_Set/CS663-Swat-Set-2/Me/G_Me2.mp4', '/Users/RayM/Documents/School/CompVision/Project3/Training_Set/CS663-Swat-Set-2/Hostage/G_Hostage4.mp4', '/Users/RayM/Documents/School/CompVision/Project3/Training_Set/CS663-Swat-Set-2/Hostage/G_Hostage3.mp4', '/Users/RayM/Documents/School/CompVision/Project3/Training_Set/CS663-Swat-Set-2/Hostage/G_Hostage2.mp4', '/Users/RayM/Documents/School/CompVision/Project3/Training_Set/CS663-Swat-Set-2/Two/G_23.mp4', '/Users/RayM/Documents/School/CompVision/Project3/Training_Set/CS663-Swat-Set-2/Two/G_22.mp4', '/Users/RayM/Documents/School/CompVision/Project3/Training_Set/CS663-Swat-Set-2/Two/G_24.mp4', '/Users/RayM/Documents/School/CompVision/Project3/Training_Set/CS663-Swat-Set-2/Watch/G_Watch2.mp4', '/Users/RayM/Documents/School/CompVision/Project3/Training_Set/CS663-Swat-Set-2/Watch/G_Watch3.mp4', '/Users/RayM/Documents/School/CompVision/Project3/Training_Set/CS663-Swat-Set-2/Watch/G_Watch4.mp4', '/Users/RayM/Documents/School/CompVision/Project3/Training_Set/CS663-Swat-Set-2/PointOfEntry/G_EntryPoint4.mp4', '/Users/RayM/Documents/School/CompVision/Project3/Training_Set/CS663-Swat-Set-2/PointOfEntry/G_EntryPoint3.mp4', '/Users/RayM/Documents/School/CompVision/Project3/Training_Set/CS663-Swat-Set-2/PointOfEntry/G_PointofEntry2.mp4', '/Users/RayM/Documents/School/CompVision/Project3/Training_Set/CS663-Swat-Set-2/Sniper/G_Snipper1.mp4', '/Users/RayM/Documents/School/CompVision/Project3/Training_Set/CS663-Swat-Set-2/Sniper/G_Sniper2.mp4', '/Users/RayM/Documents/School/CompVision/Project3/Training_Set/CS663-Swat-Set-2/Sniper/G_Sniper3.mp4', '/Users/RayM/Documents/School/CompVision/Project3/Training_Set/CS663-Swat-Set-2/Sniper/G_Sniper4.mp4', '/Users/RayM/Documents/School/CompVision/Project3/Training_Set/CS663-Swat-Set-2/You/G_You4.mp4', '/Users/RayM/Documents/School/CompVision/Project3/Training_Set/CS663-Swat-Set-2/You/G_You2.mp4', '/Users/RayM/Documents/School/CompVision/Project3/Training_Set/CS663-Swat-Set-2/You/G_You3.mp4', '/Users/RayM/Documents/School/CompVision/Project3/Training_Set/CS663-Swat-Set-2/You/G_You1.mp4', '/Users/RayM/Documents/School/CompVision/Project3/Training_Set/CS663-Swat-Set-2/Six/G_62.mp4', '/Users/RayM/Documents/School/CompVision/Project3/Training_Set/CS663-Swat-Set-2/Six/G_61.mp4', '/Users/RayM/Documents/School/CompVision/Project3/Training_Set/CS663-Swat-Set-2/Six/G_64.mp4', '/Users/RayM/Documents/School/CompVision/Project3/Training_Set/CS663-Swat-Set-2/IDontUnderstand/G_IDontUnderstand3.mp4', '/Users/RayM/Documents/School/CompVision/Project3/Training_Set/CS663-Swat-Set-2/IDontUnderstand/G_IDontUnderstand2.mp4', '/Users/RayM/Documents/School/CompVision/Project3/Training_Set/CS663-Swat-Set-2/IDontUnderstand/G_IDontUnderstand1.mp4', '/Users/RayM/Documents/School/CompVision/Project3/Training_Set/CS663-Swat-Set-2/RallyPoint/G_RallyPoint3.mp4', '/Users/RayM/Documents/School/CompVision/Project3/Training_Set/CS663-Swat-Set-2/RallyPoint/G_RallyPoint2.mp4', '/Users/RayM/Documents/School/CompVision/Project3/Training_Set/CS663-Swat-Set-2/RallyPoint/G_RallyPoint4.mp4', '/Users/RayM/Documents/School/CompVision/Project3/Training_Set/CS663-Swat-Set-2/Five/G_54.mp4', '/Users/RayM/Documents/School/CompVision/Project3/Training_Set/CS663-Swat-Set-2/Five/G_51.mp4', '/Users/RayM/Documents/School/CompVision/Project3/Training_Set/CS663-Swat-Set-2/Five/G_53.mp4', '/Users/RayM/Documents/School/CompVision/Project3/Training_Set/CS663-Swat-Set-2/Door/G_Door2.mp4', '/Users/RayM/Documents/School/CompVision/Project3/Training_Set/CS663-Swat-Set-2/Door/G_Door3.mp4', '/Users/RayM/Documents/School/CompVision/Project3/Training_Set/CS663-Swat-Set-2/CoverThisArea/G_CoverThisArea4.mp4', '/Users/RayM/Documents/School/CompVision/Project3/Training_Set/CS663-Swat-Set-2/CoverThisArea/G_CoverThisArea1.mp4', '/Users/RayM/Documents/School/CompVision/Project3/Training_Set/CS663-Swat-Set-2/CoverThisArea/G_CoverThisArea3.mp4', '/Users/RayM/Documents/School/CompVision/Project3/Training_Set/CS663-Swat-Set-2/CoverThisArea/G_CoverThisArea2.mp4', '/Users/RayM/Documents/School/CompVision/Project3/Training_Set/CS663-Swat-Set-2/Four/G_43.mp4', '/Users/RayM/Documents/School/CompVision/Project3/Training_Set/CS663-Swat-Set-2/Four/G_42.mp4', '/Users/RayM/Documents/School/CompVision/Project3/Training_Set/CS663-Swat-Set-2/Four/G_41.mp4', '/Users/RayM/Documents/School/CompVision/Project3/Training_Set/CS663-Swat-Set-2/Four/G_44.mp4']\n"
     ]
    }
   ],
   "source": [
    "print(test_list)"
   ]
  },
  {
   "cell_type": "code",
   "execution_count": 30,
   "metadata": {},
   "outputs": [
    {
     "name": "stdout",
     "output_type": "stream",
     "text": [
      "['/Users/RayM/Documents/School/CompVision/Project3/Training_Set/CS663-Swat-Set-2/Eight/H_Eight3.mp4', '/Users/RayM/Documents/School/CompVision/Project3/Training_Set/CS663-Swat-Set-2/Eight/H_Eight2.mp4', '/Users/RayM/Documents/School/CompVision/Project3/Training_Set/CS663-Swat-Set-2/Eight/H_Eight6.mp4', '/Users/RayM/Documents/School/CompVision/Project3/Training_Set/CS663-Swat-Set-2/Eight/H_Eight7.mp4', '/Users/RayM/Documents/School/CompVision/Project3/Training_Set/CS663-Swat-Set-2/Eight/H_Eight18.mp4', '/Users/RayM/Documents/School/CompVision/Project3/Training_Set/CS663-Swat-Set-2/Eight/H_Eight13.mp4', '/Users/RayM/Documents/School/CompVision/Project3/Training_Set/CS663-Swat-Set-2/Eight/H_Eight10.mp4', '/Users/RayM/Documents/School/CompVision/Project3/Training_Set/CS663-Swat-Set-2/Eight/H_Eight14.mp4', '/Users/RayM/Documents/School/CompVision/Project3/Training_Set/CS663-Swat-Set-2/Eight/H_Eight17.mp4', '/Users/RayM/Documents/School/CompVision/Project3/Training_Set/CS663-Swat-Set-2/Eight/R_83.mp4', '/Users/RayM/Documents/School/CompVision/Project3/Training_Set/CS663-Swat-Set-2/Eight/H_Eight9.mp4', '/Users/RayM/Documents/School/CompVision/Project3/Training_Set/CS663-Swat-Set-2/Eight/H_Eight8.mp4', '/Users/RayM/Documents/School/CompVision/Project3/Training_Set/CS663-Swat-Set-2/Eight/R_85.mp4', '/Users/RayM/Documents/School/CompVision/Project3/Training_Set/CS663-Swat-Set-2/Eight/R_84.mp4', '/Users/RayM/Documents/School/CompVision/Project3/Training_Set/CS663-Swat-Set-2/Eight/R_86.mp4', '/Users/RayM/Documents/School/CompVision/Project3/Training_Set/CS663-Swat-Set-2/Gas/R_Gas5.mp4', '/Users/RayM/Documents/School/CompVision/Project3/Training_Set/CS663-Swat-Set-2/Gas/R_Gas6.mp4', '/Users/RayM/Documents/School/CompVision/Project3/Training_Set/CS663-Swat-Set-2/Gas/H_Gas8.mp4', '/Users/RayM/Documents/School/CompVision/Project3/Training_Set/CS663-Swat-Set-2/Gas/H_Gas9.mp4', '/Users/RayM/Documents/School/CompVision/Project3/Training_Set/CS663-Swat-Set-2/Gas/R_Gas7.mp4', '/Users/RayM/Documents/School/CompVision/Project3/Training_Set/CS663-Swat-Set-2/Gas/R_Gas14.mp4', '/Users/RayM/Documents/School/CompVision/Project3/Training_Set/CS663-Swat-Set-2/Gas/R_Gas10.mp4', '/Users/RayM/Documents/School/CompVision/Project3/Training_Set/CS663-Swat-Set-2/Gas/R_Gas2.mp4', '/Users/RayM/Documents/School/CompVision/Project3/Training_Set/CS663-Swat-Set-2/Gas/R_Gas1.mp4', '/Users/RayM/Documents/School/CompVision/Project3/Training_Set/CS663-Swat-Set-2/Gas/R_Gas12.mp4', '/Users/RayM/Documents/School/CompVision/Project3/Training_Set/CS663-Swat-Set-2/Gas/H_Gas15.mp4', '/Users/RayM/Documents/School/CompVision/Project3/Training_Set/CS663-Swat-Set-2/Gas/H_Gas14.mp4', '/Users/RayM/Documents/School/CompVision/Project3/Training_Set/CS663-Swat-Set-2/Gas/H_Gas16.mp4', '/Users/RayM/Documents/School/CompVision/Project3/Training_Set/CS663-Swat-Set-2/Gas/H_Gas13.mp4', '/Users/RayM/Documents/School/CompVision/Project3/Training_Set/CS663-Swat-Set-2/Gas/H_Gas12.mp4', '/Users/RayM/Documents/School/CompVision/Project3/Training_Set/CS663-Swat-Set-2/Gas/H_Gas10.mp4', '/Users/RayM/Documents/School/CompVision/Project3/Training_Set/CS663-Swat-Set-2/Gas/H_Gas11.mp4', '/Users/RayM/Documents/School/CompVision/Project3/Training_Set/CS663-Swat-Set-2/Gas/H_Gas2.mp4', '/Users/RayM/Documents/School/CompVision/Project3/Training_Set/CS663-Swat-Set-2/Gas/H_Gas1.mp4', '/Users/RayM/Documents/School/CompVision/Project3/Training_Set/CS663-Swat-Set-2/Gas/H_Gas4.mp4', '/Users/RayM/Documents/School/CompVision/Project3/Training_Set/CS663-Swat-Set-2/Gas/H_Gas5.mp4', '/Users/RayM/Documents/School/CompVision/Project3/Training_Set/CS663-Swat-Set-2/Gas/R_Gas9.mp4', '/Users/RayM/Documents/School/CompVision/Project3/Training_Set/CS663-Swat-Set-2/Gas/H_Gas6.mp4', '/Users/RayM/Documents/School/CompVision/Project3/Training_Set/CS663-Swat-Set-2/Gas/R_Gas8.mp4', '/Users/RayM/Documents/School/CompVision/Project3/Training_Set/CS663-Swat-Set-2/CellLeader/H_CellLeader11.mp4', '/Users/RayM/Documents/School/CompVision/Project3/Training_Set/CS663-Swat-Set-2/CellLeader/H_CellLeader10.mp4', '/Users/RayM/Documents/School/CompVision/Project3/Training_Set/CS663-Swat-Set-2/CellLeader/H_CellLeader12.mp4', '/Users/RayM/Documents/School/CompVision/Project3/Training_Set/CS663-Swat-Set-2/CellLeader/H_CellLeader13.mp4', '/Users/RayM/Documents/School/CompVision/Project3/Training_Set/CS663-Swat-Set-2/CellLeader/R_CellLeader15.mp4', '/Users/RayM/Documents/School/CompVision/Project3/Training_Set/CS663-Swat-Set-2/CellLeader/R_CellLeader8.mp4', '/Users/RayM/Documents/School/CompVision/Project3/Training_Set/CS663-Swat-Set-2/CellLeader/R_CellLeader11.mp4', '/Users/RayM/Documents/School/CompVision/Project3/Training_Set/CS663-Swat-Set-2/CellLeader/R_CellLeader10.mp4', '/Users/RayM/Documents/School/CompVision/Project3/Training_Set/CS663-Swat-Set-2/CellLeader/R_CellLeader9.mp4', '/Users/RayM/Documents/School/CompVision/Project3/Training_Set/CS663-Swat-Set-2/CellLeader/R_CellLeader12.mp4', '/Users/RayM/Documents/School/CompVision/Project3/Training_Set/CS663-Swat-Set-2/CellLeader/H_CellLeader8.mp4', '/Users/RayM/Documents/School/CompVision/Project3/Training_Set/CS663-Swat-Set-2/CellLeader/H_CellLeader9.mp4', '/Users/RayM/Documents/School/CompVision/Project3/Training_Set/CS663-Swat-Set-2/CellLeader/R_CellLeader13.mp4', '/Users/RayM/Documents/School/CompVision/Project3/Training_Set/CS663-Swat-Set-2/CellLeader/R_CellLeader7.mp4', '/Users/RayM/Documents/School/CompVision/Project3/Training_Set/CS663-Swat-Set-2/CellLeader/H_CellLeader4.mp4', '/Users/RayM/Documents/School/CompVision/Project3/Training_Set/CS663-Swat-Set-2/CellLeader/R_CellLeader6.mp4', '/Users/RayM/Documents/School/CompVision/Project3/Training_Set/CS663-Swat-Set-2/CellLeader/R_CellLeader4.mp4', '/Users/RayM/Documents/School/CompVision/Project3/Training_Set/CS663-Swat-Set-2/CellLeader/H_CellLeader7.mp4', '/Users/RayM/Documents/School/CompVision/Project3/Training_Set/CS663-Swat-Set-2/CellLeader/R_CellLeader5.mp4', '/Users/RayM/Documents/School/CompVision/Project3/Training_Set/CS663-Swat-Set-2/CellLeader/R_CellLeader1.mp4', '/Users/RayM/Documents/School/CompVision/Project3/Training_Set/CS663-Swat-Set-2/CellLeader/H_CellLeader2.mp4', '/Users/RayM/Documents/School/CompVision/Project3/Training_Set/CS663-Swat-Set-2/CellLeader/H_CellLeader3.mp4', '/Users/RayM/Documents/School/CompVision/Project3/Training_Set/CS663-Swat-Set-2/CellLeader/R_CellLeader2.mp4', '/Users/RayM/Documents/School/CompVision/Project3/Training_Set/CS663-Swat-Set-2/Freeze/R_Freeze13.mp4', '/Users/RayM/Documents/School/CompVision/Project3/Training_Set/CS663-Swat-Set-2/Freeze/R_Freeze12.mp4', '/Users/RayM/Documents/School/CompVision/Project3/Training_Set/CS663-Swat-Set-2/Freeze/R_Freeze15.mp4', '/Users/RayM/Documents/School/CompVision/Project3/Training_Set/CS663-Swat-Set-2/Freeze/R_Freeze14.mp4', '/Users/RayM/Documents/School/CompVision/Project3/Training_Set/CS663-Swat-Set-2/Freeze/R_Freeze4.mp4', '/Users/RayM/Documents/School/CompVision/Project3/Training_Set/CS663-Swat-Set-2/Freeze/R_Freeze5.mp4', '/Users/RayM/Documents/School/CompVision/Project3/Training_Set/CS663-Swat-Set-2/Freeze/H_Freeze3.mp4', '/Users/RayM/Documents/School/CompVision/Project3/Training_Set/CS663-Swat-Set-2/Freeze/R_Freeze7.mp4', '/Users/RayM/Documents/School/CompVision/Project3/Training_Set/CS663-Swat-Set-2/Freeze/H_Freeze2.mp4', '/Users/RayM/Documents/School/CompVision/Project3/Training_Set/CS663-Swat-Set-2/Freeze/H_Freeze6.mp4', '/Users/RayM/Documents/School/CompVision/Project3/Training_Set/CS663-Swat-Set-2/Freeze/R_Freeze2.mp4', '/Users/RayM/Documents/School/CompVision/Project3/Training_Set/CS663-Swat-Set-2/Freeze/R_Freeze3.mp4', '/Users/RayM/Documents/School/CompVision/Project3/Training_Set/CS663-Swat-Set-2/Freeze/H_Freeze7.mp4', '/Users/RayM/Documents/School/CompVision/Project3/Training_Set/CS663-Swat-Set-2/Freeze/H_Freez1.mp4', '/Users/RayM/Documents/School/CompVision/Project3/Training_Set/CS663-Swat-Set-2/Freeze/H_Freeze5.mp4', '/Users/RayM/Documents/School/CompVision/Project3/Training_Set/CS663-Swat-Set-2/Freeze/R_Freeze1.mp4', '/Users/RayM/Documents/School/CompVision/Project3/Training_Set/CS663-Swat-Set-2/Freeze/H_Freeze4.mp4', '/Users/RayM/Documents/School/CompVision/Project3/Training_Set/CS663-Swat-Set-2/Freeze/H_Freeze9.mp4', '/Users/RayM/Documents/School/CompVision/Project3/Training_Set/CS663-Swat-Set-2/Freeze/R_Freeze8.mp4', '/Users/RayM/Documents/School/CompVision/Project3/Training_Set/CS663-Swat-Set-2/Freeze/R_Freeze9.mp4', '/Users/RayM/Documents/School/CompVision/Project3/Training_Set/CS663-Swat-Set-2/Freeze/H_Freeze17.mp4', '/Users/RayM/Documents/School/CompVision/Project3/Training_Set/CS663-Swat-Set-2/Freeze/H_Freeze15.mp4', '/Users/RayM/Documents/School/CompVision/Project3/Training_Set/CS663-Swat-Set-2/Freeze/H_Freeze14.mp4', '/Users/RayM/Documents/School/CompVision/Project3/Training_Set/CS663-Swat-Set-2/Freeze/H_Freeze10.mp4', '/Users/RayM/Documents/School/CompVision/Project3/Training_Set/CS663-Swat-Set-2/Freeze/H_Freeze12.mp4', '/Users/RayM/Documents/School/CompVision/Project3/Training_Set/CS663-Swat-Set-2/Crouch/H_Crouch11.mp4', '/Users/RayM/Documents/School/CompVision/Project3/Training_Set/CS663-Swat-Set-2/Crouch/H_Crouch13.mp4', '/Users/RayM/Documents/School/CompVision/Project3/Training_Set/CS663-Swat-Set-2/Crouch/H_Crouch12.mp4', '/Users/RayM/Documents/School/CompVision/Project3/Training_Set/CS663-Swat-Set-2/Crouch/H_Crouch15.mp4', '/Users/RayM/Documents/School/CompVision/Project3/Training_Set/CS663-Swat-Set-2/Crouch/H_Crouch14.mp4', '/Users/RayM/Documents/School/CompVision/Project3/Training_Set/CS663-Swat-Set-2/Crouch/R_Crouch8.mp4', '/Users/RayM/Documents/School/CompVision/Project3/Training_Set/CS663-Swat-Set-2/Crouch/R_Crouch9.mp4', '/Users/RayM/Documents/School/CompVision/Project3/Training_Set/CS663-Swat-Set-2/Crouch/H_Crouch9.mp4', '/Users/RayM/Documents/School/CompVision/Project3/Training_Set/CS663-Swat-Set-2/Crouch/R_Crouch1.mp4', '/Users/RayM/Documents/School/CompVision/Project3/Training_Set/CS663-Swat-Set-2/Crouch/H_Crouch4.mp4', '/Users/RayM/Documents/School/CompVision/Project3/Training_Set/CS663-Swat-Set-2/Crouch/H_Crouch6.mp4', '/Users/RayM/Documents/School/CompVision/Project3/Training_Set/CS663-Swat-Set-2/Crouch/R_Crouch2.mp4', '/Users/RayM/Documents/School/CompVision/Project3/Training_Set/CS663-Swat-Set-2/Crouch/R_Crouch3.mp4', '/Users/RayM/Documents/School/CompVision/Project3/Training_Set/CS663-Swat-Set-2/Crouch/H_Crouch7.mp4', '/Users/RayM/Documents/School/CompVision/Project3/Training_Set/CS663-Swat-Set-2/Crouch/H_Crouch3.mp4', '/Users/RayM/Documents/School/CompVision/Project3/Training_Set/CS663-Swat-Set-2/Crouch/H_Crouch2.mp4', '/Users/RayM/Documents/School/CompVision/Project3/Training_Set/CS663-Swat-Set-2/Crouch/R_Crouch4.mp4', '/Users/RayM/Documents/School/CompVision/Project3/Training_Set/CS663-Swat-Set-2/Crouch/R_Crouch5.mp4', '/Users/RayM/Documents/School/CompVision/Project3/Training_Set/CS663-Swat-Set-2/Crouch/H_Crouch1.mp4', '/Users/RayM/Documents/School/CompVision/Project3/Training_Set/CS663-Swat-Set-2/Crouch/R_Crouch13.mp4', '/Users/RayM/Documents/School/CompVision/Project3/Training_Set/CS663-Swat-Set-2/Crouch/R_Crouch12.mp4', '/Users/RayM/Documents/School/CompVision/Project3/Training_Set/CS663-Swat-Set-2/Crouch/R_Crouch10.mp4', '/Users/RayM/Documents/School/CompVision/Project3/Training_Set/CS663-Swat-Set-2/Crouch/R_Crouch11.mp4', '/Users/RayM/Documents/School/CompVision/Project3/Training_Set/CS663-Swat-Set-2/FileFormation/H_FileFormation9.mp4', '/Users/RayM/Documents/School/CompVision/Project3/Training_Set/CS663-Swat-Set-2/FileFormation/H_FileFormation8.mp4', '/Users/RayM/Documents/School/CompVision/Project3/Training_Set/CS663-Swat-Set-2/FileFormation/R_FileFormation8.mp4', '/Users/RayM/Documents/School/CompVision/Project3/Training_Set/CS663-Swat-Set-2/FileFormation/H_FileFormation14.mp4', '/Users/RayM/Documents/School/CompVision/Project3/Training_Set/CS663-Swat-Set-2/FileFormation/H_FileFormation15.mp4', '/Users/RayM/Documents/School/CompVision/Project3/Training_Set/CS663-Swat-Set-2/FileFormation/H_FileFormation17.mp4', '/Users/RayM/Documents/School/CompVision/Project3/Training_Set/CS663-Swat-Set-2/FileFormation/H_FileFormation16.mp4', '/Users/RayM/Documents/School/CompVision/Project3/Training_Set/CS663-Swat-Set-2/FileFormation/H_FileFormation12.mp4', '/Users/RayM/Documents/School/CompVision/Project3/Training_Set/CS663-Swat-Set-2/FileFormation/H_FileFormation13.mp4', '/Users/RayM/Documents/School/CompVision/Project3/Training_Set/CS663-Swat-Set-2/FileFormation/H_FileFormation11.mp4', '/Users/RayM/Documents/School/CompVision/Project3/Training_Set/CS663-Swat-Set-2/FileFormation/R_FileFormation6.mp4', '/Users/RayM/Documents/School/CompVision/Project3/Training_Set/CS663-Swat-Set-2/FileFormation/R_FileFormation15.mp4', '/Users/RayM/Documents/School/CompVision/Project3/Training_Set/CS663-Swat-Set-2/FileFormation/H_FileFormation6.mp4', '/Users/RayM/Documents/School/CompVision/Project3/Training_Set/CS663-Swat-Set-2/FileFormation/H_FileFormation7.mp4', '/Users/RayM/Documents/School/CompVision/Project3/Training_Set/CS663-Swat-Set-2/FileFormation/R_FileFormation14.mp4', '/Users/RayM/Documents/School/CompVision/Project3/Training_Set/CS663-Swat-Set-2/FileFormation/R_FileFormation7.mp4', '/Users/RayM/Documents/School/CompVision/Project3/Training_Set/CS663-Swat-Set-2/FileFormation/H_FileFormation5.mp4', '/Users/RayM/Documents/School/CompVision/Project3/Training_Set/CS663-Swat-Set-2/FileFormation/R_FileFormation4.mp4', '/Users/RayM/Documents/School/CompVision/Project3/Training_Set/CS663-Swat-Set-2/FileFormation/R_FileFormation13.mp4', '/Users/RayM/Documents/School/CompVision/Project3/Training_Set/CS663-Swat-Set-2/FileFormation/H_FileFormation1.mp4', '/Users/RayM/Documents/School/CompVision/Project3/Training_Set/CS663-Swat-Set-2/FileFormation/R_FileFormation1.mp4', '/Users/RayM/Documents/School/CompVision/Project3/Training_Set/CS663-Swat-Set-2/FileFormation/R_FileFormation12.mp4', '/Users/RayM/Documents/School/CompVision/Project3/Training_Set/CS663-Swat-Set-2/FileFormation/R_FileFormation10.mp4', '/Users/RayM/Documents/School/CompVision/Project3/Training_Set/CS663-Swat-Set-2/FileFormation/R_FileFormation3.mp4', '/Users/RayM/Documents/School/CompVision/Project3/Training_Set/CS663-Swat-Set-2/FileFormation/H_FileFormation3.mp4', '/Users/RayM/Documents/School/CompVision/Project3/Training_Set/CS663-Swat-Set-2/FileFormation/H_FileFormation2.mp4', '/Users/RayM/Documents/School/CompVision/Project3/Training_Set/CS663-Swat-Set-2/FileFormation/R_FileFormation2.mp4', '/Users/RayM/Documents/School/CompVision/Project3/Training_Set/CS663-Swat-Set-2/Shotgun/R_Shotgun5.mp4', '/Users/RayM/Documents/School/CompVision/Project3/Training_Set/CS663-Swat-Set-2/Shotgun/R_Shotgun12.mp4', '/Users/RayM/Documents/School/CompVision/Project3/Training_Set/CS663-Swat-Set-2/Shotgun/H_Shotgun9.mp4', '/Users/RayM/Documents/School/CompVision/Project3/Training_Set/CS663-Swat-Set-2/Shotgun/H_Shotgun8.mp4', '/Users/RayM/Documents/School/CompVision/Project3/Training_Set/CS663-Swat-Set-2/Shotgun/R_Shotgun13.mp4', '/Users/RayM/Documents/School/CompVision/Project3/Training_Set/CS663-Swat-Set-2/Shotgun/R_Shotgun4.mp4', '/Users/RayM/Documents/School/CompVision/Project3/Training_Set/CS663-Swat-Set-2/Shotgun/R_Shotgun6.mp4', '/Users/RayM/Documents/School/CompVision/Project3/Training_Set/CS663-Swat-Set-2/Shotgun/R_Shotgun11.mp4', '/Users/RayM/Documents/School/CompVision/Project3/Training_Set/CS663-Swat-Set-2/Shotgun/R_Shotgun10.mp4', '/Users/RayM/Documents/School/CompVision/Project3/Training_Set/CS663-Swat-Set-2/Shotgun/R_Shotgun7.mp4', '/Users/RayM/Documents/School/CompVision/Project3/Training_Set/CS663-Swat-Set-2/Shotgun/R_Shotgun14.mp4', '/Users/RayM/Documents/School/CompVision/Project3/Training_Set/CS663-Swat-Set-2/Shotgun/R_Shotgun15.mp4', '/Users/RayM/Documents/School/CompVision/Project3/Training_Set/CS663-Swat-Set-2/Shotgun/R_Shotgun2.mp4', '/Users/RayM/Documents/School/CompVision/Project3/Training_Set/CS663-Swat-Set-2/Shotgun/R_Shotgun1.mp4', '/Users/RayM/Documents/School/CompVision/Project3/Training_Set/CS663-Swat-Set-2/Shotgun/H_Shotgun1.mp4', '/Users/RayM/Documents/School/CompVision/Project3/Training_Set/CS663-Swat-Set-2/Shotgun/H_Shotgun3.mp4', '/Users/RayM/Documents/School/CompVision/Project3/Training_Set/CS663-Swat-Set-2/Shotgun/H_Shotgun2.mp4', '/Users/RayM/Documents/School/CompVision/Project3/Training_Set/CS663-Swat-Set-2/Shotgun/H_Shotgun6.mp4', '/Users/RayM/Documents/School/CompVision/Project3/Training_Set/CS663-Swat-Set-2/Shotgun/H_Shotgun7.mp4', '/Users/RayM/Documents/School/CompVision/Project3/Training_Set/CS663-Swat-Set-2/Shotgun/R_Shotgun9.mp4', '/Users/RayM/Documents/School/CompVision/Project3/Training_Set/CS663-Swat-Set-2/Shotgun/H_Shotgun5.mp4', '/Users/RayM/Documents/School/CompVision/Project3/Training_Set/CS663-Swat-Set-2/Shotgun/H_Shotgun4.mp4', '/Users/RayM/Documents/School/CompVision/Project3/Training_Set/CS663-Swat-Set-2/Shotgun/R_Shotgun8.mp4', '/Users/RayM/Documents/School/CompVision/Project3/Training_Set/CS663-Swat-Set-2/Shotgun/H_Shotgun12.mp4', '/Users/RayM/Documents/School/CompVision/Project3/Training_Set/CS663-Swat-Set-2/Shotgun/H_Shotgun13.mp4', '/Users/RayM/Documents/School/CompVision/Project3/Training_Set/CS663-Swat-Set-2/Shotgun/H_Shotgun11.mp4', '/Users/RayM/Documents/School/CompVision/Project3/Training_Set/CS663-Swat-Set-2/Shotgun/H_Shotgun10.mp4', '/Users/RayM/Documents/School/CompVision/Project3/Training_Set/CS663-Swat-Set-2/Shotgun/H_Shotgun14.mp4', '/Users/RayM/Documents/School/CompVision/Project3/Training_Set/CS663-Swat-Set-2/Shotgun/H_Shotgun15.mp4', '/Users/RayM/Documents/School/CompVision/Project3/Training_Set/CS663-Swat-Set-2/Vehicle/R_Vehicle2.mp4', '/Users/RayM/Documents/School/CompVision/Project3/Training_Set/CS663-Swat-Set-2/Vehicle/R_Vehicle3.mp4', '/Users/RayM/Documents/School/CompVision/Project3/Training_Set/CS663-Swat-Set-2/Vehicle/R_Vehicle1.mp4', '/Users/RayM/Documents/School/CompVision/Project3/Training_Set/CS663-Swat-Set-2/Vehicle/R_Vehicle4.mp4', '/Users/RayM/Documents/School/CompVision/Project3/Training_Set/CS663-Swat-Set-2/Vehicle/H_Vehicle9.mp4', '/Users/RayM/Documents/School/CompVision/Project3/Training_Set/CS663-Swat-Set-2/Vehicle/R_Vehicle7.mp4', '/Users/RayM/Documents/School/CompVision/Project3/Training_Set/CS663-Swat-Set-2/Vehicle/R_Vehicle6.mp4', '/Users/RayM/Documents/School/CompVision/Project3/Training_Set/CS663-Swat-Set-2/Vehicle/R_Vehicle10.mp4', '/Users/RayM/Documents/School/CompVision/Project3/Training_Set/CS663-Swat-Set-2/Vehicle/R_Vehicle13.mp4', '/Users/RayM/Documents/School/CompVision/Project3/Training_Set/CS663-Swat-Set-2/Vehicle/R_Vehicle14.mp4', '/Users/RayM/Documents/School/CompVision/Project3/Training_Set/CS663-Swat-Set-2/Vehicle/R_Vehicle15.mp4', '/Users/RayM/Documents/School/CompVision/Project3/Training_Set/CS663-Swat-Set-2/Vehicle/H_Vehicle11.mp4', '/Users/RayM/Documents/School/CompVision/Project3/Training_Set/CS663-Swat-Set-2/Vehicle/H_Vehicle6.mp4', '/Users/RayM/Documents/School/CompVision/Project3/Training_Set/CS663-Swat-Set-2/Vehicle/H_Vehicle4.mp4', '/Users/RayM/Documents/School/CompVision/Project3/Training_Set/CS663-Swat-Set-2/Vehicle/H_Vehicle12.mp4', '/Users/RayM/Documents/School/CompVision/Project3/Training_Set/CS663-Swat-Set-2/Vehicle/R_Vehicle9.mp4', '/Users/RayM/Documents/School/CompVision/Project3/Training_Set/CS663-Swat-Set-2/Vehicle/H_Vehicle5.mp4', '/Users/RayM/Documents/School/CompVision/Project3/Training_Set/CS663-Swat-Set-2/Vehicle/H_Vehicle2.mp4', '/Users/RayM/Documents/School/CompVision/Project3/Training_Set/CS663-Swat-Set-2/Vehicle/H_Vehicle14.mp4', '/Users/RayM/Documents/School/CompVision/Project3/Training_Set/CS663-Swat-Set-2/Vehicle/H_Vehicle15.mp4', '/Users/RayM/Documents/School/CompVision/Project3/Training_Set/CS663-Swat-Set-2/Vehicle/H_Vehicle3.mp4', '/Users/RayM/Documents/School/CompVision/Project3/Training_Set/CS663-Swat-Set-2/Rifle/R_Rifle5.mp4', '/Users/RayM/Documents/School/CompVision/Project3/Training_Set/CS663-Swat-Set-2/Rifle/R_Rifle7.mp4', '/Users/RayM/Documents/School/CompVision/Project3/Training_Set/CS663-Swat-Set-2/Rifle/R_Rifle3.mp4', '/Users/RayM/Documents/School/CompVision/Project3/Training_Set/CS663-Swat-Set-2/Rifle/R_Rifle3(1).mp4', '/Users/RayM/Documents/School/CompVision/Project3/Training_Set/CS663-Swat-Set-2/Rifle/R_Rifle2.mp4', '/Users/RayM/Documents/School/CompVision/Project3/Training_Set/CS663-Swat-Set-2/Rifle/R_Rifle1.mp4', '/Users/RayM/Documents/School/CompVision/Project3/Training_Set/CS663-Swat-Set-2/Rifle/H_Rifle9.mp4', '/Users/RayM/Documents/School/CompVision/Project3/Training_Set/CS663-Swat-Set-2/Rifle/R_Rifle5(1).mp4', '/Users/RayM/Documents/School/CompVision/Project3/Training_Set/CS663-Swat-Set-2/Rifle/H_Rifle7.mp4', '/Users/RayM/Documents/School/CompVision/Project3/Training_Set/CS663-Swat-Set-2/Rifle/H_Rifle13.mp4', '/Users/RayM/Documents/School/CompVision/Project3/Training_Set/CS663-Swat-Set-2/Rifle/H_Rifle6.mp4', '/Users/RayM/Documents/School/CompVision/Project3/Training_Set/CS663-Swat-Set-2/Rifle/H_Rifle4.mp4', '/Users/RayM/Documents/School/CompVision/Project3/Training_Set/CS663-Swat-Set-2/Rifle/R_Rifle15.mp4', '/Users/RayM/Documents/School/CompVision/Project3/Training_Set/CS663-Swat-Set-2/Rifle/R_Rifle14.mp4', '/Users/RayM/Documents/School/CompVision/Project3/Training_Set/CS663-Swat-Set-2/Rifle/H_Rifle10.mp4', '/Users/RayM/Documents/School/CompVision/Project3/Training_Set/CS663-Swat-Set-2/Rifle/H_Rifle1.mp4', '/Users/RayM/Documents/School/CompVision/Project3/Training_Set/CS663-Swat-Set-2/Rifle/R_Rifle10.mp4', '/Users/RayM/Documents/School/CompVision/Project3/Training_Set/CS663-Swat-Set-2/Rifle/R_Rifle11.mp4', '/Users/RayM/Documents/School/CompVision/Project3/Training_Set/CS663-Swat-Set-2/Rifle/H_Rifle15.mp4', '/Users/RayM/Documents/School/CompVision/Project3/Training_Set/CS663-Swat-Set-2/Rifle/R_Rifle12.mp4', '/Users/RayM/Documents/School/CompVision/Project3/Training_Set/CS663-Swat-Set-2/Rifle/R_Rifle9.mp4', '/Users/RayM/Documents/School/CompVision/Project3/Training_Set/CS663-Swat-Set-2/LineAbreastFormation/H_LineAbreastFormation12.mp4', '/Users/RayM/Documents/School/CompVision/Project3/Training_Set/CS663-Swat-Set-2/LineAbreastFormation/H_LineAbreastFormation13.mp4', '/Users/RayM/Documents/School/CompVision/Project3/Training_Set/CS663-Swat-Set-2/LineAbreastFormation/H_LineAbreastFormation10.mp4', '/Users/RayM/Documents/School/CompVision/Project3/Training_Set/CS663-Swat-Set-2/LineAbreastFormation/H_LineAbreastFormation15.mp4', '/Users/RayM/Documents/School/CompVision/Project3/Training_Set/CS663-Swat-Set-2/LineAbreastFormation/H_LineAbreastFormation16.mp4', '/Users/RayM/Documents/School/CompVision/Project3/Training_Set/CS663-Swat-Set-2/LineAbreastFormation/H_LineAbreastFormation2.mp4', '/Users/RayM/Documents/School/CompVision/Project3/Training_Set/CS663-Swat-Set-2/LineAbreastFormation/H_LineAbreastFormation3.mp4', '/Users/RayM/Documents/School/CompVision/Project3/Training_Set/CS663-Swat-Set-2/LineAbreastFormation/R_LineAbreastFormation15.mp4', '/Users/RayM/Documents/School/CompVision/Project3/Training_Set/CS663-Swat-Set-2/LineAbreastFormation/H_LineAbreastFormation1.mp4', '/Users/RayM/Documents/School/CompVision/Project3/Training_Set/CS663-Swat-Set-2/LineAbreastFormation/R_LineAbreastFormation1(1).mp4', '/Users/RayM/Documents/School/CompVision/Project3/Training_Set/CS663-Swat-Set-2/LineAbreastFormation/R_LineAbreastFormation14.mp4', '/Users/RayM/Documents/School/CompVision/Project3/Training_Set/CS663-Swat-Set-2/LineAbreastFormation/H_LineAbreastFormation4.mp4', '/Users/RayM/Documents/School/CompVision/Project3/Training_Set/CS663-Swat-Set-2/LineAbreastFormation/R_LineAbreastFormation11.mp4', '/Users/RayM/Documents/School/CompVision/Project3/Training_Set/CS663-Swat-Set-2/LineAbreastFormation/H_LineAbreastFormation5.mp4', '/Users/RayM/Documents/School/CompVision/Project3/Training_Set/CS663-Swat-Set-2/LineAbreastFormation/R_LineAbreastFormation9.mp4', '/Users/RayM/Documents/School/CompVision/Project3/Training_Set/CS663-Swat-Set-2/LineAbreastFormation/H_LineAbreastFormation7.mp4', '/Users/RayM/Documents/School/CompVision/Project3/Training_Set/CS663-Swat-Set-2/LineAbreastFormation/R_LineAbreastFormation12.mp4', '/Users/RayM/Documents/School/CompVision/Project3/Training_Set/CS663-Swat-Set-2/LineAbreastFormation/H_LineAbreastFormation6.mp4', '/Users/RayM/Documents/School/CompVision/Project3/Training_Set/CS663-Swat-Set-2/LineAbreastFormation/R_LineAbreastFormation8.mp4', '/Users/RayM/Documents/School/CompVision/Project3/Training_Set/CS663-Swat-Set-2/LineAbreastFormation/R_LineAbreastFormation5.mp4', '/Users/RayM/Documents/School/CompVision/Project3/Training_Set/CS663-Swat-Set-2/LineAbreastFormation/R_LineAbreastFormation4.mp4', '/Users/RayM/Documents/School/CompVision/Project3/Training_Set/CS663-Swat-Set-2/LineAbreastFormation/H_LineAbreastFormation8.mp4', '/Users/RayM/Documents/School/CompVision/Project3/Training_Set/CS663-Swat-Set-2/LineAbreastFormation/H_LineAbreastFormation9.mp4', '/Users/RayM/Documents/School/CompVision/Project3/Training_Set/CS663-Swat-Set-2/LineAbreastFormation/R_LineAbreastFormation7.mp4', '/Users/RayM/Documents/School/CompVision/Project3/Training_Set/CS663-Swat-Set-2/LineAbreastFormation/R_LineAbreastFormation3.mp4', '/Users/RayM/Documents/School/CompVision/Project3/Training_Set/CS663-Swat-Set-2/LineAbreastFormation/R_LineAbreastFormation1.mp4', '/Users/RayM/Documents/School/CompVision/Project3/Training_Set/CS663-Swat-Set-2/Pistol/H_Pistol10.mp4', '/Users/RayM/Documents/School/CompVision/Project3/Training_Set/CS663-Swat-Set-2/Pistol/H_Pistol12.mp4', '/Users/RayM/Documents/School/CompVision/Project3/Training_Set/CS663-Swat-Set-2/Pistol/H_Pistol9.mp4', '/Users/RayM/Documents/School/CompVision/Project3/Training_Set/CS663-Swat-Set-2/Pistol/H_Pistol8.mp4', '/Users/RayM/Documents/School/CompVision/Project3/Training_Set/CS663-Swat-Set-2/Pistol/R_Pistol8.mp4', '/Users/RayM/Documents/School/CompVision/Project3/Training_Set/CS663-Swat-Set-2/Pistol/R_Pistol9.mp4', '/Users/RayM/Documents/School/CompVision/Project3/Training_Set/CS663-Swat-Set-2/Pistol/H_Pistol16.mp4', '/Users/RayM/Documents/School/CompVision/Project3/Training_Set/CS663-Swat-Set-2/Pistol/H_Pistol14.mp4', '/Users/RayM/Documents/School/CompVision/Project3/Training_Set/CS663-Swat-Set-2/Pistol/H_Pistol15.mp4', '/Users/RayM/Documents/School/CompVision/Project3/Training_Set/CS663-Swat-Set-2/Pistol/R_Pistol14.mp4', '/Users/RayM/Documents/School/CompVision/Project3/Training_Set/CS663-Swat-Set-2/Pistol/R_Pistol7.mp4', '/Users/RayM/Documents/School/CompVision/Project3/Training_Set/CS663-Swat-Set-2/Pistol/H_Pistol3.mp4', '/Users/RayM/Documents/School/CompVision/Project3/Training_Set/CS663-Swat-Set-2/Pistol/H_Pistol2.mp4', '/Users/RayM/Documents/School/CompVision/Project3/Training_Set/CS663-Swat-Set-2/Pistol/R_Pistol6.mp4', '/Users/RayM/Documents/School/CompVision/Project3/Training_Set/CS663-Swat-Set-2/Pistol/R_Pistol15.mp4', '/Users/RayM/Documents/School/CompVision/Project3/Training_Set/CS663-Swat-Set-2/Pistol/R_Pistol4.mp4', '/Users/RayM/Documents/School/CompVision/Project3/Training_Set/CS663-Swat-Set-2/Pistol/R_Pistol12.mp4', '/Users/RayM/Documents/School/CompVision/Project3/Training_Set/CS663-Swat-Set-2/Pistol/R_Pistol1.mp4', '/Users/RayM/Documents/School/CompVision/Project3/Training_Set/CS663-Swat-Set-2/Pistol/H_Pistol5.mp4', '/Users/RayM/Documents/School/CompVision/Project3/Training_Set/CS663-Swat-Set-2/Pistol/H_Pistol4.mp4', '/Users/RayM/Documents/School/CompVision/Project3/Training_Set/CS663-Swat-Set-2/Pistol/R_Pistol2.mp4', '/Users/RayM/Documents/School/CompVision/Project3/Training_Set/CS663-Swat-Set-2/Pistol/H_Pistol6.mp4', '/Users/RayM/Documents/School/CompVision/Project3/Training_Set/CS663-Swat-Set-2/Pistol/R_Pistol3.mp4', '/Users/RayM/Documents/School/CompVision/Project3/Training_Set/CS663-Swat-Set-2/Pistol/R_Pistol10.mp4', '/Users/RayM/Documents/School/CompVision/Project3/Training_Set/CS663-Swat-Set-2/Nine/H_99.mp4', '/Users/RayM/Documents/School/CompVision/Project3/Training_Set/CS663-Swat-Set-2/Nine/R_98.mp4', '/Users/RayM/Documents/School/CompVision/Project3/Training_Set/CS663-Swat-Set-2/Nine/R_99.mp4', '/Users/RayM/Documents/School/CompVision/Project3/Training_Set/CS663-Swat-Set-2/Nine/H_915.mp4', '/Users/RayM/Documents/School/CompVision/Project3/Training_Set/CS663-Swat-Set-2/Nine/H_914.mp4', '/Users/RayM/Documents/School/CompVision/Project3/Training_Set/CS663-Swat-Set-2/Nine/H_910.mp4', '/Users/RayM/Documents/School/CompVision/Project3/Training_Set/CS663-Swat-Set-2/Nine/H_911.mp4', '/Users/RayM/Documents/School/CompVision/Project3/Training_Set/CS663-Swat-Set-2/Nine/R_97.mp4', '/Users/RayM/Documents/School/CompVision/Project3/Training_Set/CS663-Swat-Set-2/Nine/R_910.mp4', '/Users/RayM/Documents/School/CompVision/Project3/Training_Set/CS663-Swat-Set-2/Nine/H_92.mp4', '/Users/RayM/Documents/School/CompVision/Project3/Training_Set/CS663-Swat-Set-2/Nine/R_96.mp4', '/Users/RayM/Documents/School/CompVision/Project3/Training_Set/CS663-Swat-Set-2/Nine/R_94.mp4', '/Users/RayM/Documents/School/CompVision/Project3/Training_Set/CS663-Swat-Set-2/Nine/R_95.mp4', '/Users/RayM/Documents/School/CompVision/Project3/Training_Set/CS663-Swat-Set-2/Nine/R_91.mp4', '/Users/RayM/Documents/School/CompVision/Project3/Training_Set/CS663-Swat-Set-2/Nine/H_95.mp4', '/Users/RayM/Documents/School/CompVision/Project3/Training_Set/CS663-Swat-Set-2/Nine/H_94.mp4', '/Users/RayM/Documents/School/CompVision/Project3/Training_Set/CS663-Swat-Set-2/Nine/R_92.mp4', '/Users/RayM/Documents/School/CompVision/Project3/Training_Set/CS663-Swat-Set-2/Nine/H_96.mp4', '/Users/RayM/Documents/School/CompVision/Project3/Training_Set/CS663-Swat-Set-2/Nine/R_915.mp4', '/Users/RayM/Documents/School/CompVision/Project3/Training_Set/CS663-Swat-Set-2/Nine/H_97.mp4', '/Users/RayM/Documents/School/CompVision/Project3/Training_Set/CS663-Swat-Set-2/Nine/R_93.mp4', '/Users/RayM/Documents/School/CompVision/Project3/Training_Set/CS663-Swat-Set-2/IUnderstand/H_IUnderstand10.mp4', '/Users/RayM/Documents/School/CompVision/Project3/Training_Set/CS663-Swat-Set-2/IUnderstand/R_IUnderstand14.mp4', '/Users/RayM/Documents/School/CompVision/Project3/Training_Set/CS663-Swat-Set-2/IUnderstand/R_IUnderstand15.mp4', '/Users/RayM/Documents/School/CompVision/Project3/Training_Set/CS663-Swat-Set-2/IUnderstand/H_IUnderstand11.mp4', '/Users/RayM/Documents/School/CompVision/Project3/Training_Set/CS663-Swat-Set-2/IUnderstand/H_IUnderstand12.mp4', '/Users/RayM/Documents/School/CompVision/Project3/Training_Set/CS663-Swat-Set-2/IUnderstand/R_IUnderstand12.mp4', '/Users/RayM/Documents/School/CompVision/Project3/Training_Set/CS663-Swat-Set-2/IUnderstand/H_IUnderstand16.mp4', '/Users/RayM/Documents/School/CompVision/Project3/Training_Set/CS663-Swat-Set-2/IUnderstand/R_IUnderstand11.mp4', '/Users/RayM/Documents/School/CompVision/Project3/Training_Set/CS663-Swat-Set-2/IUnderstand/R_IUnderstand10.mp4', '/Users/RayM/Documents/School/CompVision/Project3/Training_Set/CS663-Swat-Set-2/IUnderstand/H_IUnderstand14.mp4', '/Users/RayM/Documents/School/CompVision/Project3/Training_Set/CS663-Swat-Set-2/IUnderstand/H_IUnderstand8.mp4', '/Users/RayM/Documents/School/CompVision/Project3/Training_Set/CS663-Swat-Set-2/IUnderstand/H_IUnderstand4.mp4', '/Users/RayM/Documents/School/CompVision/Project3/Training_Set/CS663-Swat-Set-2/IUnderstand/H_IUnderstand6.mp4', '/Users/RayM/Documents/School/CompVision/Project3/Training_Set/CS663-Swat-Set-2/IUnderstand/H_IUnderstand7.mp4', '/Users/RayM/Documents/School/CompVision/Project3/Training_Set/CS663-Swat-Set-2/IUnderstand/R_IUnderstand2.mp4', '/Users/RayM/Documents/School/CompVision/Project3/Training_Set/CS663-Swat-Set-2/IUnderstand/R_IUnderstand1.mp4', '/Users/RayM/Documents/School/CompVision/Project3/Training_Set/CS663-Swat-Set-2/IUnderstand/R_IUnderstand5.mp4', '/Users/RayM/Documents/School/CompVision/Project3/Training_Set/CS663-Swat-Set-2/IUnderstand/R_IUnderstand4.mp4', '/Users/RayM/Documents/School/CompVision/Project3/Training_Set/CS663-Swat-Set-2/IUnderstand/R_IUnderstand6.mp4', '/Users/RayM/Documents/School/CompVision/Project3/Training_Set/CS663-Swat-Set-2/Listen/R_Listen1.mp4', '/Users/RayM/Documents/School/CompVision/Project3/Training_Set/CS663-Swat-Set-2/Listen/R_Listen3.mp4', '/Users/RayM/Documents/School/CompVision/Project3/Training_Set/CS663-Swat-Set-2/Listen/H_Listen6.mp4', '/Users/RayM/Documents/School/CompVision/Project3/Training_Set/CS663-Swat-Set-2/Listen/R_Listen2.mp4', '/Users/RayM/Documents/School/CompVision/Project3/Training_Set/CS663-Swat-Set-2/Listen/H_Listen2.mp4', '/Users/RayM/Documents/School/CompVision/Project3/Training_Set/CS663-Swat-Set-2/Listen/R_Listen5.mp4', '/Users/RayM/Documents/School/CompVision/Project3/Training_Set/CS663-Swat-Set-2/Listen/H_Listen1.mp4', '/Users/RayM/Documents/School/CompVision/Project3/Training_Set/CS663-Swat-Set-2/Listen/R_Listen4.mp4', '/Users/RayM/Documents/School/CompVision/Project3/Training_Set/CS663-Swat-Set-2/Listen/H_Listen11.mp4', '/Users/RayM/Documents/School/CompVision/Project3/Training_Set/CS663-Swat-Set-2/Listen/H_Listen10.mp4', '/Users/RayM/Documents/School/CompVision/Project3/Training_Set/CS663-Swat-Set-2/Listen/H_Listen12.mp4', '/Users/RayM/Documents/School/CompVision/Project3/Training_Set/CS663-Swat-Set-2/Listen/H_Listen13.mp4', '/Users/RayM/Documents/School/CompVision/Project3/Training_Set/CS663-Swat-Set-2/Listen/H_Listen15.mp4', '/Users/RayM/Documents/School/CompVision/Project3/Training_Set/CS663-Swat-Set-2/Listen/R_Listen15.mp4', '/Users/RayM/Documents/School/CompVision/Project3/Training_Set/CS663-Swat-Set-2/Listen/R_Listen12.mp4', '/Users/RayM/Documents/School/CompVision/Project3/Training_Set/CS663-Swat-Set-2/Listen/R_Listen13.mp4', '/Users/RayM/Documents/School/CompVision/Project3/Training_Set/CS663-Swat-Set-2/Listen/R_Listen11.mp4', '/Users/RayM/Documents/School/CompVision/Project3/Training_Set/CS663-Swat-Set-2/Listen/R_Listen10.mp4', '/Users/RayM/Documents/School/CompVision/Project3/Training_Set/CS663-Swat-Set-2/Listen/R_Listen9.mp4', '/Users/RayM/Documents/School/CompVision/Project3/Training_Set/CS663-Swat-Set-2/Listen/H_Listen8.mp4', '/Users/RayM/Documents/School/CompVision/Project3/Training_Set/CS663-Swat-Set-2/Stop/R_Stop3.mp4', '/Users/RayM/Documents/School/CompVision/Project3/Training_Set/CS663-Swat-Set-2/Stop/R_Stop4.mp4', '/Users/RayM/Documents/School/CompVision/Project3/Training_Set/CS663-Swat-Set-2/Stop/R_Stop5.mp4', '/Users/RayM/Documents/School/CompVision/Project3/Training_Set/CS663-Swat-Set-2/Stop/R_Stop7.mp4', '/Users/RayM/Documents/School/CompVision/Project3/Training_Set/CS663-Swat-Set-2/Stop/R_Stop6.mp4', '/Users/RayM/Documents/School/CompVision/Project3/Training_Set/CS663-Swat-Set-2/Stop/R_Stop15.mp4', '/Users/RayM/Documents/School/CompVision/Project3/Training_Set/CS663-Swat-Set-2/Stop/H_Stop8.mp4', '/Users/RayM/Documents/School/CompVision/Project3/Training_Set/CS663-Swat-Set-2/Stop/R_Stop14.mp4', '/Users/RayM/Documents/School/CompVision/Project3/Training_Set/CS663-Swat-Set-2/Stop/R_Stop13.mp4', '/Users/RayM/Documents/School/CompVision/Project3/Training_Set/CS663-Swat-Set-2/Stop/R_Stop12.mp4', '/Users/RayM/Documents/School/CompVision/Project3/Training_Set/CS663-Swat-Set-2/Stop/R_Stop10.mp4', '/Users/RayM/Documents/School/CompVision/Project3/Training_Set/CS663-Swat-Set-2/Stop/R_Stop11.mp4', '/Users/RayM/Documents/School/CompVision/Project3/Training_Set/CS663-Swat-Set-2/Stop/H_Stop1.mp4', '/Users/RayM/Documents/School/CompVision/Project3/Training_Set/CS663-Swat-Set-2/Stop/H_Stop2.mp4', '/Users/RayM/Documents/School/CompVision/Project3/Training_Set/CS663-Swat-Set-2/Stop/H_Stop3.mp4', '/Users/RayM/Documents/School/CompVision/Project3/Training_Set/CS663-Swat-Set-2/Stop/H_Stop6.mp4', '/Users/RayM/Documents/School/CompVision/Project3/Training_Set/CS663-Swat-Set-2/Stop/H_Stop4.mp4', '/Users/RayM/Documents/School/CompVision/Project3/Training_Set/CS663-Swat-Set-2/Stop/R_Stop8.mp4', '/Users/RayM/Documents/School/CompVision/Project3/Training_Set/CS663-Swat-Set-2/Stop/R_Stop9.mp4', '/Users/RayM/Documents/School/CompVision/Project3/Training_Set/CS663-Swat-Set-2/Stop/H_Stop15.mp4', '/Users/RayM/Documents/School/CompVision/Project3/Training_Set/CS663-Swat-Set-2/Stop/H_Stop11.mp4', '/Users/RayM/Documents/School/CompVision/Project3/Training_Set/CS663-Swat-Set-2/Stop/H_Stop12.mp4', '/Users/RayM/Documents/School/CompVision/Project3/Training_Set/CS663-Swat-Set-2/Come/R_Come3.mp4', '/Users/RayM/Documents/School/CompVision/Project3/Training_Set/CS663-Swat-Set-2/Come/R_Come1.mp4', '/Users/RayM/Documents/School/CompVision/Project3/Training_Set/CS663-Swat-Set-2/Come/R_Come5.mp4', '/Users/RayM/Documents/School/CompVision/Project3/Training_Set/CS663-Swat-Set-2/Come/R_Come6.mp4', '/Users/RayM/Documents/School/CompVision/Project3/Training_Set/CS663-Swat-Set-2/Come/R_Come7.mp4', '/Users/RayM/Documents/School/CompVision/Project3/Training_Set/CS663-Swat-Set-2/Come/R_Come9.mp4', '/Users/RayM/Documents/School/CompVision/Project3/Training_Set/CS663-Swat-Set-2/Come/R_Come8.mp4', '/Users/RayM/Documents/School/CompVision/Project3/Training_Set/CS663-Swat-Set-2/Come/R_Come13.mp4', '/Users/RayM/Documents/School/CompVision/Project3/Training_Set/CS663-Swat-Set-2/Come/R_Come11.mp4', '/Users/RayM/Documents/School/CompVision/Project3/Training_Set/CS663-Swat-Set-2/Come/R_Come15.mp4', '/Users/RayM/Documents/School/CompVision/Project3/Training_Set/CS663-Swat-Set-2/Three/R_311.mp4', '/Users/RayM/Documents/School/CompVision/Project3/Training_Set/CS663-Swat-Set-2/Three/R_314.mp4', '/Users/RayM/Documents/School/CompVision/Project3/Training_Set/CS663-Swat-Set-2/Three/H_38.mp4', '/Users/RayM/Documents/School/CompVision/Project3/Training_Set/CS663-Swat-Set-2/Three/R_37.mp4', '/Users/RayM/Documents/School/CompVision/Project3/Training_Set/CS663-Swat-Set-2/Three/H_33.mp4', '/Users/RayM/Documents/School/CompVision/Project3/Training_Set/CS663-Swat-Set-2/Three/R_36.mp4', '/Users/RayM/Documents/School/CompVision/Project3/Training_Set/CS663-Swat-Set-2/Three/R_34.mp4', '/Users/RayM/Documents/School/CompVision/Project3/Training_Set/CS663-Swat-Set-2/Three/H_314.mp4', '/Users/RayM/Documents/School/CompVision/Project3/Training_Set/CS663-Swat-Set-2/Three/H_31.mp4', '/Users/RayM/Documents/School/CompVision/Project3/Training_Set/CS663-Swat-Set-2/Three/H_315.mp4', '/Users/RayM/Documents/School/CompVision/Project3/Training_Set/CS663-Swat-Set-2/Three/R_35.mp4', '/Users/RayM/Documents/School/CompVision/Project3/Training_Set/CS663-Swat-Set-2/Three/R_31.mp4', '/Users/RayM/Documents/School/CompVision/Project3/Training_Set/CS663-Swat-Set-2/Three/H_311.mp4', '/Users/RayM/Documents/School/CompVision/Project3/Training_Set/CS663-Swat-Set-2/Three/H_34.mp4', '/Users/RayM/Documents/School/CompVision/Project3/Training_Set/CS663-Swat-Set-2/Three/R_32.mp4', '/Users/RayM/Documents/School/CompVision/Project3/Training_Set/CS663-Swat-Set-2/Three/H_36.mp4', '/Users/RayM/Documents/School/CompVision/Project3/Training_Set/CS663-Swat-Set-2/Three/H_313.mp4', '/Users/RayM/Documents/School/CompVision/Project3/Training_Set/CS663-Swat-Set-2/Three/R_33.mp4', '/Users/RayM/Documents/School/CompVision/Project3/Training_Set/CS663-Swat-Set-2/HurryUp/H_HurryUp15.mp4', '/Users/RayM/Documents/School/CompVision/Project3/Training_Set/CS663-Swat-Set-2/HurryUp/H_HurryUp16.mp4', '/Users/RayM/Documents/School/CompVision/Project3/Training_Set/CS663-Swat-Set-2/HurryUp/H_HurryUp12.mp4', '/Users/RayM/Documents/School/CompVision/Project3/Training_Set/CS663-Swat-Set-2/HurryUp/H_HurryUp13.mp4', '/Users/RayM/Documents/School/CompVision/Project3/Training_Set/CS663-Swat-Set-2/HurryUp/H_HurryUp11.mp4', '/Users/RayM/Documents/School/CompVision/Project3/Training_Set/CS663-Swat-Set-2/HurryUp/H_HurryUp3.mp4', '/Users/RayM/Documents/School/CompVision/Project3/Training_Set/CS663-Swat-Set-2/HurryUp/H_HurryUp6.mp4', '/Users/RayM/Documents/School/CompVision/Project3/Training_Set/CS663-Swat-Set-2/HurryUp/H_HurryUp7.mp4', '/Users/RayM/Documents/School/CompVision/Project3/Training_Set/CS663-Swat-Set-2/HurryUp/R_HurryUp9.mp4', '/Users/RayM/Documents/School/CompVision/Project3/Training_Set/CS663-Swat-Set-2/HurryUp/R_HurryUp8.mp4', '/Users/RayM/Documents/School/CompVision/Project3/Training_Set/CS663-Swat-Set-2/HurryUp/H_HurryUp4.mp4', '/Users/RayM/Documents/School/CompVision/Project3/Training_Set/CS663-Swat-Set-2/HurryUp/H_HurryUp9.mp4', '/Users/RayM/Documents/School/CompVision/Project3/Training_Set/CS663-Swat-Set-2/HurryUp/R_HurryUp14.mp4', '/Users/RayM/Documents/School/CompVision/Project3/Training_Set/CS663-Swat-Set-2/HurryUp/R_HurryUp4.mp4', '/Users/RayM/Documents/School/CompVision/Project3/Training_Set/CS663-Swat-Set-2/HurryUp/R_HurryUp6.mp4', '/Users/RayM/Documents/School/CompVision/Project3/Training_Set/CS663-Swat-Set-2/HurryUp/R_HurryUp7.mp4', '/Users/RayM/Documents/School/CompVision/Project3/Training_Set/CS663-Swat-Set-2/HurryUp/R_HurryUp3.mp4', '/Users/RayM/Documents/School/CompVision/Project3/Training_Set/CS663-Swat-Set-2/HurryUp/R_HurryUp12.mp4', '/Users/RayM/Documents/School/CompVision/Project3/Training_Set/CS663-Swat-Set-2/HurryUp/R_HurryUp11.mp4', '/Users/RayM/Documents/School/CompVision/Project3/Training_Set/CS663-Swat-Set-2/HurryUp/R_HurryUp10.mp4', '/Users/RayM/Documents/School/CompVision/Project3/Training_Set/CS663-Swat-Set-2/One/R_110.mp4', '/Users/RayM/Documents/School/CompVision/Project3/Training_Set/CS663-Swat-Set-2/One/R_112.mp4', '/Users/RayM/Documents/School/CompVision/Project3/Training_Set/CS663-Swat-Set-2/One/R_113.mp4', '/Users/RayM/Documents/School/CompVision/Project3/Training_Set/CS663-Swat-Set-2/One/R_114.mp4', '/Users/RayM/Documents/School/CompVision/Project3/Training_Set/CS663-Swat-Set-2/One/R_115.mp4', '/Users/RayM/Documents/School/CompVision/Project3/Training_Set/CS663-Swat-Set-2/One/R_16.mp4', '/Users/RayM/Documents/School/CompVision/Project3/Training_Set/CS663-Swat-Set-2/One/H_13.mp4', '/Users/RayM/Documents/School/CompVision/Project3/Training_Set/CS663-Swat-Set-2/One/R_17.mp4', '/Users/RayM/Documents/School/CompVision/Project3/Training_Set/CS663-Swat-Set-2/One/R_15.mp4', '/Users/RayM/Documents/School/CompVision/Project3/Training_Set/CS663-Swat-Set-2/One/H_11.mp4', '/Users/RayM/Documents/School/CompVision/Project3/Training_Set/CS663-Swat-Set-2/One/R_14.mp4', '/Users/RayM/Documents/School/CompVision/Project3/Training_Set/CS663-Swat-Set-2/One/H_14.mp4', '/Users/RayM/Documents/School/CompVision/Project3/Training_Set/CS663-Swat-Set-2/One/H_17.mp4', '/Users/RayM/Documents/School/CompVision/Project3/Training_Set/CS663-Swat-Set-2/One/H_115.mp4', '/Users/RayM/Documents/School/CompVision/Project3/Training_Set/CS663-Swat-Set-2/One/H_114.mp4', '/Users/RayM/Documents/School/CompVision/Project3/Training_Set/CS663-Swat-Set-2/One/H_116.mp4', '/Users/RayM/Documents/School/CompVision/Project3/Training_Set/CS663-Swat-Set-2/One/H_18.mp4', '/Users/RayM/Documents/School/CompVision/Project3/Training_Set/CS663-Swat-Set-2/One/H_113.mp4', '/Users/RayM/Documents/School/CompVision/Project3/Training_Set/CS663-Swat-Set-2/One/R_19.mp4', '/Users/RayM/Documents/School/CompVision/Project3/Training_Set/CS663-Swat-Set-2/One/R_18.mp4', '/Users/RayM/Documents/School/CompVision/Project3/Training_Set/CS663-Swat-Set-2/One/H_110.mp4', '/Users/RayM/Documents/School/CompVision/Project3/Training_Set/CS663-Swat-Set-2/One/H_111.mp4', '/Users/RayM/Documents/School/CompVision/Project3/Training_Set/CS663-Swat-Set-2/Ten/R_104.mp4', '/Users/RayM/Documents/School/CompVision/Project3/Training_Set/CS663-Swat-Set-2/Ten/R_106.mp4', '/Users/RayM/Documents/School/CompVision/Project3/Training_Set/CS663-Swat-Set-2/Ten/R_107.mp4', '/Users/RayM/Documents/School/CompVision/Project3/Training_Set/CS663-Swat-Set-2/Ten/R_103.mp4', '/Users/RayM/Documents/School/CompVision/Project3/Training_Set/CS663-Swat-Set-2/Ten/R_102.mp4', '/Users/RayM/Documents/School/CompVision/Project3/Training_Set/CS663-Swat-Set-2/Ten/R_101.mp4', '/Users/RayM/Documents/School/CompVision/Project3/Training_Set/CS663-Swat-Set-2/Ten/H_1013.mp4', '/Users/RayM/Documents/School/CompVision/Project3/Training_Set/CS663-Swat-Set-2/Ten/H_1012.mp4', '/Users/RayM/Documents/School/CompVision/Project3/Training_Set/CS663-Swat-Set-2/Ten/H_1014.mp4', '/Users/RayM/Documents/School/CompVision/Project3/Training_Set/CS663-Swat-Set-2/Ten/R_1015.mp4', '/Users/RayM/Documents/School/CompVision/Project3/Training_Set/CS663-Swat-Set-2/Ten/H_103.mp4', '/Users/RayM/Documents/School/CompVision/Project3/Training_Set/CS663-Swat-Set-2/Ten/H_107.mp4', '/Users/RayM/Documents/School/CompVision/Project3/Training_Set/CS663-Swat-Set-2/Ten/R_1013.mp4', '/Users/RayM/Documents/School/CompVision/Project3/Training_Set/CS663-Swat-Set-2/Ten/H_104.mp4', '/Users/RayM/Documents/School/CompVision/Project3/Training_Set/CS663-Swat-Set-2/Ten/R_1011.mp4', '/Users/RayM/Documents/School/CompVision/Project3/Training_Set/CS663-Swat-Set-2/Ten/R_1010.mp4', '/Users/RayM/Documents/School/CompVision/Project3/Training_Set/CS663-Swat-Set-2/Ten/H_105.mp4', '/Users/RayM/Documents/School/CompVision/Project3/Training_Set/CS663-Swat-Set-2/Ten/R_109.mp4', '/Users/RayM/Documents/School/CompVision/Project3/Training_Set/CS663-Swat-Set-2/Ten/R_108.mp4', '/Users/RayM/Documents/School/CompVision/Project3/Training_Set/CS663-Swat-Set-2/Seven/R_75.mp4', '/Users/RayM/Documents/School/CompVision/Project3/Training_Set/CS663-Swat-Set-2/Seven/H_71.mp4', '/Users/RayM/Documents/School/CompVision/Project3/Training_Set/CS663-Swat-Set-2/Seven/R_76.mp4', '/Users/RayM/Documents/School/CompVision/Project3/Training_Set/CS663-Swat-Set-2/Seven/H_72.mp4', '/Users/RayM/Documents/School/CompVision/Project3/Training_Set/CS663-Swat-Set-2/Seven/R_714.mp4', '/Users/RayM/Documents/School/CompVision/Project3/Training_Set/CS663-Swat-Set-2/Seven/H_73.mp4', '/Users/RayM/Documents/School/CompVision/Project3/Training_Set/CS663-Swat-Set-2/Seven/R_77.mp4', '/Users/RayM/Documents/School/CompVision/Project3/Training_Set/CS663-Swat-Set-2/Seven/R_73.mp4', '/Users/RayM/Documents/School/CompVision/Project3/Training_Set/CS663-Swat-Set-2/Seven/H_77.mp4', '/Users/RayM/Documents/School/CompVision/Project3/Training_Set/CS663-Swat-Set-2/Seven/R_710.mp4', '/Users/RayM/Documents/School/CompVision/Project3/Training_Set/CS663-Swat-Set-2/Seven/H_76.mp4', '/Users/RayM/Documents/School/CompVision/Project3/Training_Set/CS663-Swat-Set-2/Seven/R_72.mp4', '/Users/RayM/Documents/School/CompVision/Project3/Training_Set/CS663-Swat-Set-2/Seven/H_74.mp4', '/Users/RayM/Documents/School/CompVision/Project3/Training_Set/CS663-Swat-Set-2/Seven/R_713.mp4', '/Users/RayM/Documents/School/CompVision/Project3/Training_Set/CS663-Swat-Set-2/Seven/H_75.mp4', '/Users/RayM/Documents/School/CompVision/Project3/Training_Set/CS663-Swat-Set-2/Seven/R_71.mp4', '/Users/RayM/Documents/School/CompVision/Project3/Training_Set/CS663-Swat-Set-2/Seven/H_713.mp4', '/Users/RayM/Documents/School/CompVision/Project3/Training_Set/CS663-Swat-Set-2/Seven/H_712.mp4', '/Users/RayM/Documents/School/CompVision/Project3/Training_Set/CS663-Swat-Set-2/Seven/H_710.mp4', '/Users/RayM/Documents/School/CompVision/Project3/Training_Set/CS663-Swat-Set-2/Seven/H_711.mp4', '/Users/RayM/Documents/School/CompVision/Project3/Training_Set/CS663-Swat-Set-2/Seven/H_78.mp4', '/Users/RayM/Documents/School/CompVision/Project3/Training_Set/CS663-Swat-Set-2/Seven/H_79.mp4', '/Users/RayM/Documents/School/CompVision/Project3/Training_Set/CS663-Swat-Set-2/Seven/R_79.mp4', '/Users/RayM/Documents/School/CompVision/Project3/Training_Set/CS663-Swat-Set-2/Seven/R_78.mp4', '/Users/RayM/Documents/School/CompVision/Project3/Training_Set/CS663-Swat-Set-2/Window/R_Window3.mp4', '/Users/RayM/Documents/School/CompVision/Project3/Training_Set/CS663-Swat-Set-2/Window/H_Window7.mp4', '/Users/RayM/Documents/School/CompVision/Project3/Training_Set/CS663-Swat-Set-2/Window/H_Window11.mp4', '/Users/RayM/Documents/School/CompVision/Project3/Training_Set/CS663-Swat-Set-2/Window/H_Window6.mp4', '/Users/RayM/Documents/School/CompVision/Project3/Training_Set/CS663-Swat-Set-2/Window/R_Window2.mp4', '/Users/RayM/Documents/School/CompVision/Project3/Training_Set/CS663-Swat-Set-2/Window/H_Window4.mp4', '/Users/RayM/Documents/School/CompVision/Project3/Training_Set/CS663-Swat-Set-2/Window/H_Window12.mp4', '/Users/RayM/Documents/School/CompVision/Project3/Training_Set/CS663-Swat-Set-2/Window/H_Window5.mp4', '/Users/RayM/Documents/School/CompVision/Project3/Training_Set/CS663-Swat-Set-2/Window/R_Window1.mp4', '/Users/RayM/Documents/School/CompVision/Project3/Training_Set/CS663-Swat-Set-2/Window/R_Window4.mp4', '/Users/RayM/Documents/School/CompVision/Project3/Training_Set/CS663-Swat-Set-2/Window/H_Window2.mp4', '/Users/RayM/Documents/School/CompVision/Project3/Training_Set/CS663-Swat-Set-2/Window/H_Window15.mp4', '/Users/RayM/Documents/School/CompVision/Project3/Training_Set/CS663-Swat-Set-2/Window/H_Window14.mp4', '/Users/RayM/Documents/School/CompVision/Project3/Training_Set/CS663-Swat-Set-2/Window/R_Window15.mp4', '/Users/RayM/Documents/School/CompVision/Project3/Training_Set/CS663-Swat-Set-2/Window/R_Window9.mp4', '/Users/RayM/Documents/School/CompVision/Project3/Training_Set/CS663-Swat-Set-2/Window/R_Window16.mp4', '/Users/RayM/Documents/School/CompVision/Project3/Training_Set/CS663-Swat-Set-2/Window/R_Window8.mp4', '/Users/RayM/Documents/School/CompVision/Project3/Training_Set/CS663-Swat-Set-2/Window/H_Window8.mp4', '/Users/RayM/Documents/School/CompVision/Project3/Training_Set/CS663-Swat-Set-2/Window/R_Window13.mp4', '/Users/RayM/Documents/School/CompVision/Project3/Training_Set/CS663-Swat-Set-2/Window/R_Window12.mp4', '/Users/RayM/Documents/School/CompVision/Project3/Training_Set/CS663-Swat-Set-2/Window/H_Window9.mp4', '/Users/RayM/Documents/School/CompVision/Project3/Training_Set/CS663-Swat-Set-2/Window/R_Window11.mp4', '/Users/RayM/Documents/School/CompVision/Project3/Training_Set/CS663-Swat-Set-2/ColumnFormation/H_ColumnFormation14.mp4', '/Users/RayM/Documents/School/CompVision/Project3/Training_Set/CS663-Swat-Set-2/ColumnFormation/H_ColumnFormation16.mp4', '/Users/RayM/Documents/School/CompVision/Project3/Training_Set/CS663-Swat-Set-2/ColumnFormation/H_ColumnFormation17.mp4', '/Users/RayM/Documents/School/CompVision/Project3/Training_Set/CS663-Swat-Set-2/ColumnFormation/H_ColumnFormation13.mp4', '/Users/RayM/Documents/School/CompVision/Project3/Training_Set/CS663-Swat-Set-2/ColumnFormation/H_ColumnFormation12.mp4', '/Users/RayM/Documents/School/CompVision/Project3/Training_Set/CS663-Swat-Set-2/ColumnFormation/R_ColumnFormation9.mp4', '/Users/RayM/Documents/School/CompVision/Project3/Training_Set/CS663-Swat-Set-2/ColumnFormation/H_ColumnFormation10.mp4', '/Users/RayM/Documents/School/CompVision/Project3/Training_Set/CS663-Swat-Set-2/ColumnFormation/H_ColumnFormation11.mp4', '/Users/RayM/Documents/School/CompVision/Project3/Training_Set/CS663-Swat-Set-2/ColumnFormation/R_ColumnFormation8.mp4', '/Users/RayM/Documents/School/CompVision/Project3/Training_Set/CS663-Swat-Set-2/ColumnFormation/H_ColumnFormation9.mp4', '/Users/RayM/Documents/School/CompVision/Project3/Training_Set/CS663-Swat-Set-2/ColumnFormation/H_ColumnFormation8.mp4', '/Users/RayM/Documents/School/CompVision/Project3/Training_Set/CS663-Swat-Set-2/ColumnFormation/H_ColumnFormation3.mp4', '/Users/RayM/Documents/School/CompVision/Project3/Training_Set/CS663-Swat-Set-2/ColumnFormation/H_ColumnFormation2.mp4', '/Users/RayM/Documents/School/CompVision/Project3/Training_Set/CS663-Swat-Set-2/ColumnFormation/R_ColumnFormation11.mp4', '/Users/RayM/Documents/School/CompVision/Project3/Training_Set/CS663-Swat-Set-2/ColumnFormation/R_ColumnFormation15.mp4', '/Users/RayM/Documents/School/CompVision/Project3/Training_Set/CS663-Swat-Set-2/ColumnFormation/H_ColumnFormation5.mp4', '/Users/RayM/Documents/School/CompVision/Project3/Training_Set/CS663-Swat-Set-2/ColumnFormation/H_ColumnFormation6.mp4', '/Users/RayM/Documents/School/CompVision/Project3/Training_Set/CS663-Swat-Set-2/ColumnFormation/H_ColumnFormation7.mp4', '/Users/RayM/Documents/School/CompVision/Project3/Training_Set/CS663-Swat-Set-2/ColumnFormation/R_ColumnFormation4.mp4', '/Users/RayM/Documents/School/CompVision/Project3/Training_Set/CS663-Swat-Set-2/ColumnFormation/R_ColumnFormation6.mp4', '/Users/RayM/Documents/School/CompVision/Project3/Training_Set/CS663-Swat-Set-2/ColumnFormation/R_ColumnFormation7.mp4', '/Users/RayM/Documents/School/CompVision/Project3/Training_Set/CS663-Swat-Set-2/ColumnFormation/R_ColumnFormation2.mp4', '/Users/RayM/Documents/School/CompVision/Project3/Training_Set/CS663-Swat-Set-2/Me/H_Me2.mp4', '/Users/RayM/Documents/School/CompVision/Project3/Training_Set/CS663-Swat-Set-2/Me/H_Me3.mp4', '/Users/RayM/Documents/School/CompVision/Project3/Training_Set/CS663-Swat-Set-2/Me/H_Me1.mp4', '/Users/RayM/Documents/School/CompVision/Project3/Training_Set/CS663-Swat-Set-2/Me/H_Me5.mp4', '/Users/RayM/Documents/School/CompVision/Project3/Training_Set/CS663-Swat-Set-2/Me/H_Me6.mp4', '/Users/RayM/Documents/School/CompVision/Project3/Training_Set/CS663-Swat-Set-2/Me/R_Me10.mp4', '/Users/RayM/Documents/School/CompVision/Project3/Training_Set/CS663-Swat-Set-2/Me/R_Me12.mp4', '/Users/RayM/Documents/School/CompVision/Project3/Training_Set/CS663-Swat-Set-2/Me/R_Me13.mp4', '/Users/RayM/Documents/School/CompVision/Project3/Training_Set/CS663-Swat-Set-2/Me/R_Me9.mp4', '/Users/RayM/Documents/School/CompVision/Project3/Training_Set/CS663-Swat-Set-2/Me/R_Me8.mp4', '/Users/RayM/Documents/School/CompVision/Project3/Training_Set/CS663-Swat-Set-2/Me/R_Me14.mp4', '/Users/RayM/Documents/School/CompVision/Project3/Training_Set/CS663-Swat-Set-2/Me/R_Me15.mp4', '/Users/RayM/Documents/School/CompVision/Project3/Training_Set/CS663-Swat-Set-2/Me/R_Me7.mp4', '/Users/RayM/Documents/School/CompVision/Project3/Training_Set/CS663-Swat-Set-2/Me/R_Me5.mp4', '/Users/RayM/Documents/School/CompVision/Project3/Training_Set/CS663-Swat-Set-2/Me/H_Me15.mp4', '/Users/RayM/Documents/School/CompVision/Project3/Training_Set/CS663-Swat-Set-2/Me/H_Me14.mp4', '/Users/RayM/Documents/School/CompVision/Project3/Training_Set/CS663-Swat-Set-2/Me/R_Me4.mp4', '/Users/RayM/Documents/School/CompVision/Project3/Training_Set/CS663-Swat-Set-2/Me/H_Me10.mp4', '/Users/RayM/Documents/School/CompVision/Project3/Training_Set/CS663-Swat-Set-2/Me/R_Me1.mp4', '/Users/RayM/Documents/School/CompVision/Project3/Training_Set/CS663-Swat-Set-2/Me/R_Me3.mp4', '/Users/RayM/Documents/School/CompVision/Project3/Training_Set/CS663-Swat-Set-2/Me/H_Me13.mp4', '/Users/RayM/Documents/School/CompVision/Project3/Training_Set/CS663-Swat-Set-2/Me/H_Me12.mp4', '/Users/RayM/Documents/School/CompVision/Project3/Training_Set/CS663-Swat-Set-2/Me/H_Me9.mp4', '/Users/RayM/Documents/School/CompVision/Project3/Training_Set/CS663-Swat-Set-2/Hostage/R_Hostage2.mp4', '/Users/RayM/Documents/School/CompVision/Project3/Training_Set/CS663-Swat-Set-2/Hostage/R_Hostage1.mp4', '/Users/RayM/Documents/School/CompVision/Project3/Training_Set/CS663-Swat-Set-2/Hostage/H_Hostage8.mp4', '/Users/RayM/Documents/School/CompVision/Project3/Training_Set/CS663-Swat-Set-2/Hostage/R_Hostage4.mp4', '/Users/RayM/Documents/School/CompVision/Project3/Training_Set/CS663-Swat-Set-2/Hostage/R_Hostage5.mp4', '/Users/RayM/Documents/School/CompVision/Project3/Training_Set/CS663-Swat-Set-2/Hostage/H_Hostage9.mp4', '/Users/RayM/Documents/School/CompVision/Project3/Training_Set/CS663-Swat-Set-2/Hostage/R_Hostage7.mp4', '/Users/RayM/Documents/School/CompVision/Project3/Training_Set/CS663-Swat-Set-2/Hostage/R_Hostage6.mp4', '/Users/RayM/Documents/School/CompVision/Project3/Training_Set/CS663-Swat-Set-2/Hostage/R_Hostage14.mp4', '/Users/RayM/Documents/School/CompVision/Project3/Training_Set/CS663-Swat-Set-2/Hostage/R_Hostage15.mp4', '/Users/RayM/Documents/School/CompVision/Project3/Training_Set/CS663-Swat-Set-2/Hostage/R_Hostage13.mp4', '/Users/RayM/Documents/School/CompVision/Project3/Training_Set/CS663-Swat-Set-2/Hostage/H_Hostage7.mp4', '/Users/RayM/Documents/School/CompVision/Project3/Training_Set/CS663-Swat-Set-2/Hostage/H_Hostage16.mp4', '/Users/RayM/Documents/School/CompVision/Project3/Training_Set/CS663-Swat-Set-2/Hostage/H_Hostage6.mp4', '/Users/RayM/Documents/School/CompVision/Project3/Training_Set/CS663-Swat-Set-2/Hostage/H_Hostage14.mp4', '/Users/RayM/Documents/School/CompVision/Project3/Training_Set/CS663-Swat-Set-2/Hostage/R_Hostage8.mp4', '/Users/RayM/Documents/School/CompVision/Project3/Training_Set/CS663-Swat-Set-2/Hostage/R_Hostage9.mp4', '/Users/RayM/Documents/School/CompVision/Project3/Training_Set/CS663-Swat-Set-2/Hostage/H_Hostage5.mp4', '/Users/RayM/Documents/School/CompVision/Project3/Training_Set/CS663-Swat-Set-2/Hostage/H_Hostage11.mp4', '/Users/RayM/Documents/School/CompVision/Project3/Training_Set/CS663-Swat-Set-2/Hostage/H_Hostage10.mp4', '/Users/RayM/Documents/School/CompVision/Project3/Training_Set/CS663-Swat-Set-2/Hostage/H_Hostage2.mp4', '/Users/RayM/Documents/School/CompVision/Project3/Training_Set/CS663-Swat-Set-2/Hostage/H_Hostage12.mp4', '/Users/RayM/Documents/School/CompVision/Project3/Training_Set/CS663-Swat-Set-2/Hostage/H_Hostage13.mp4', '/Users/RayM/Documents/School/CompVision/Project3/Training_Set/CS663-Swat-Set-2/Hostage/H_Hostage3.mp4', '/Users/RayM/Documents/School/CompVision/Project3/Training_Set/CS663-Swat-Set-2/Two/R_210.mp4', '/Users/RayM/Documents/School/CompVision/Project3/Training_Set/CS663-Swat-Set-2/Two/R_211.mp4', '/Users/RayM/Documents/School/CompVision/Project3/Training_Set/CS663-Swat-Set-2/Two/R_29.mp4', '/Users/RayM/Documents/School/CompVision/Project3/Training_Set/CS663-Swat-Set-2/Two/R_213.mp4', '/Users/RayM/Documents/School/CompVision/Project3/Training_Set/CS663-Swat-Set-2/Two/R_212.mp4', '/Users/RayM/Documents/School/CompVision/Project3/Training_Set/CS663-Swat-Set-2/Two/R_28.mp4', '/Users/RayM/Documents/School/CompVision/Project3/Training_Set/CS663-Swat-Set-2/Two/R_215.mp4', '/Users/RayM/Documents/School/CompVision/Project3/Training_Set/CS663-Swat-Set-2/Two/R_214.mp4', '/Users/RayM/Documents/School/CompVision/Project3/Training_Set/CS663-Swat-Set-2/Two/H_27.mp4', '/Users/RayM/Documents/School/CompVision/Project3/Training_Set/CS663-Swat-Set-2/Two/H_26.mp4', '/Users/RayM/Documents/School/CompVision/Project3/Training_Set/CS663-Swat-Set-2/Two/R_22.mp4', '/Users/RayM/Documents/School/CompVision/Project3/Training_Set/CS663-Swat-Set-2/Two/H_24.mp4', '/Users/RayM/Documents/School/CompVision/Project3/Training_Set/CS663-Swat-Set-2/Two/H_25.mp4', '/Users/RayM/Documents/School/CompVision/Project3/Training_Set/CS663-Swat-Set-2/Two/R_25.mp4', '/Users/RayM/Documents/School/CompVision/Project3/Training_Set/CS663-Swat-Set-2/Two/R_24.mp4', '/Users/RayM/Documents/School/CompVision/Project3/Training_Set/CS663-Swat-Set-2/Two/H_23.mp4', '/Users/RayM/Documents/School/CompVision/Project3/Training_Set/CS663-Swat-Set-2/Two/R_27.mp4', '/Users/RayM/Documents/School/CompVision/Project3/Training_Set/CS663-Swat-Set-2/Two/H_215.mp4', '/Users/RayM/Documents/School/CompVision/Project3/Training_Set/CS663-Swat-Set-2/Two/H_217.mp4', '/Users/RayM/Documents/School/CompVision/Project3/Training_Set/CS663-Swat-Set-2/Two/H_212.mp4', '/Users/RayM/Documents/School/CompVision/Project3/Training_Set/CS663-Swat-Set-2/Two/H_213.mp4', '/Users/RayM/Documents/School/CompVision/Project3/Training_Set/CS663-Swat-Set-2/Two/H_211.mp4', '/Users/RayM/Documents/School/CompVision/Project3/Training_Set/CS663-Swat-Set-2/Two/H_210.mp4', '/Users/RayM/Documents/School/CompVision/Project3/Training_Set/CS663-Swat-Set-2/Watch/R_Watch2.mp4', '/Users/RayM/Documents/School/CompVision/Project3/Training_Set/CS663-Swat-Set-2/Watch/R_Watch3.mp4', '/Users/RayM/Documents/School/CompVision/Project3/Training_Set/CS663-Swat-Set-2/Watch/R_Watch7.mp4', '/Users/RayM/Documents/School/CompVision/Project3/Training_Set/CS663-Swat-Set-2/Watch/H_Watch10.mp4', '/Users/RayM/Documents/School/CompVision/Project3/Training_Set/CS663-Swat-Set-2/Watch/R_Watch14.mp4', '/Users/RayM/Documents/School/CompVision/Project3/Training_Set/CS663-Swat-Set-2/Watch/R_Watch15.mp4', '/Users/RayM/Documents/School/CompVision/Project3/Training_Set/CS663-Swat-Set-2/Watch/H_Watch11.mp4', '/Users/RayM/Documents/School/CompVision/Project3/Training_Set/CS663-Swat-Set-2/Watch/H_Watch9.mp4', '/Users/RayM/Documents/School/CompVision/Project3/Training_Set/CS663-Swat-Set-2/Watch/H_Watch13.mp4', '/Users/RayM/Documents/School/CompVision/Project3/Training_Set/CS663-Swat-Set-2/Watch/H_Watch8.mp4', '/Users/RayM/Documents/School/CompVision/Project3/Training_Set/CS663-Swat-Set-2/Watch/R_Watch13.mp4', '/Users/RayM/Documents/School/CompVision/Project3/Training_Set/CS663-Swat-Set-2/Watch/H_Watch15.mp4', '/Users/RayM/Documents/School/CompVision/Project3/Training_Set/CS663-Swat-Set-2/Watch/R_Watch11.mp4', '/Users/RayM/Documents/School/CompVision/Project3/Training_Set/CS663-Swat-Set-2/Watch/R_Watch10.mp4', '/Users/RayM/Documents/School/CompVision/Project3/Training_Set/CS663-Swat-Set-2/Watch/H_Watch14.mp4', '/Users/RayM/Documents/School/CompVision/Project3/Training_Set/CS663-Swat-Set-2/Watch/H_Watch3.mp4', '/Users/RayM/Documents/School/CompVision/Project3/Training_Set/CS663-Swat-Set-2/Watch/H_Watch2.mp4', '/Users/RayM/Documents/School/CompVision/Project3/Training_Set/CS663-Swat-Set-2/Watch/H_Watch1.mp4', '/Users/RayM/Documents/School/CompVision/Project3/Training_Set/CS663-Swat-Set-2/Watch/H_Watch4.mp4', '/Users/RayM/Documents/School/CompVision/Project3/Training_Set/CS663-Swat-Set-2/Watch/H_Watch7.mp4', '/Users/RayM/Documents/School/CompVision/Project3/Training_Set/CS663-Swat-Set-2/Watch/R_Watch8.mp4', '/Users/RayM/Documents/School/CompVision/Project3/Training_Set/CS663-Swat-Set-2/Watch/R_Watch9.mp4', '/Users/RayM/Documents/School/CompVision/Project3/Training_Set/CS663-Swat-Set-2/PointOfEntry/H_EntryPoint16.mp4', '/Users/RayM/Documents/School/CompVision/Project3/Training_Set/CS663-Swat-Set-2/PointOfEntry/H_EntryPoint6.mp4', '/Users/RayM/Documents/School/CompVision/Project3/Training_Set/CS663-Swat-Set-2/PointOfEntry/H_EntryPoint7.mp4', '/Users/RayM/Documents/School/CompVision/Project3/Training_Set/CS663-Swat-Set-2/PointOfEntry/H_EntryPoint15.mp4', '/Users/RayM/Documents/School/CompVision/Project3/Training_Set/CS663-Swat-Set-2/PointOfEntry/H_EntryPoint5.mp4', '/Users/RayM/Documents/School/CompVision/Project3/Training_Set/CS663-Swat-Set-2/PointOfEntry/H_EntryPoint4.mp4', '/Users/RayM/Documents/School/CompVision/Project3/Training_Set/CS663-Swat-Set-2/PointOfEntry/H_EntryPoint14.mp4', '/Users/RayM/Documents/School/CompVision/Project3/Training_Set/CS663-Swat-Set-2/PointOfEntry/H_EntryPoint10.mp4', '/Users/RayM/Documents/School/CompVision/Project3/Training_Set/CS663-Swat-Set-2/PointOfEntry/H_EntryPoint13.mp4', '/Users/RayM/Documents/School/CompVision/Project3/Training_Set/CS663-Swat-Set-2/PointOfEntry/H_EntryPoint2.mp4', '/Users/RayM/Documents/School/CompVision/Project3/Training_Set/CS663-Swat-Set-2/PointOfEntry/R_PointOfEntry14.mp4', '/Users/RayM/Documents/School/CompVision/Project3/Training_Set/CS663-Swat-Set-2/PointOfEntry/R_PointOfEntry15.mp4', '/Users/RayM/Documents/School/CompVision/Project3/Training_Set/CS663-Swat-Set-2/PointOfEntry/R_PointOfEntry8.mp4', '/Users/RayM/Documents/School/CompVision/Project3/Training_Set/CS663-Swat-Set-2/PointOfEntry/R_PointOfEntry12.mp4', '/Users/RayM/Documents/School/CompVision/Project3/Training_Set/CS663-Swat-Set-2/PointOfEntry/R_PointOfEntry10.mp4', '/Users/RayM/Documents/School/CompVision/Project3/Training_Set/CS663-Swat-Set-2/PointOfEntry/R_PointOfEntry2.mp4', '/Users/RayM/Documents/School/CompVision/Project3/Training_Set/CS663-Swat-Set-2/PointOfEntry/R_PointOfEntry3.mp4', '/Users/RayM/Documents/School/CompVision/Project3/Training_Set/CS663-Swat-Set-2/PointOfEntry/R_PointOfEntry1.mp4', '/Users/RayM/Documents/School/CompVision/Project3/Training_Set/CS663-Swat-Set-2/PointOfEntry/R_PointOfEntry5.mp4', '/Users/RayM/Documents/School/CompVision/Project3/Training_Set/CS663-Swat-Set-2/PointOfEntry/R_PointOfEntry7.mp4', '/Users/RayM/Documents/School/CompVision/Project3/Training_Set/CS663-Swat-Set-2/PointOfEntry/H_EntryPoint9.mp4', '/Users/RayM/Documents/School/CompVision/Project3/Training_Set/CS663-Swat-Set-2/PointOfEntry/H_EntryPoint8.mp4', '/Users/RayM/Documents/School/CompVision/Project3/Training_Set/CS663-Swat-Set-2/Sniper/R_Sniper14.mp4', '/Users/RayM/Documents/School/CompVision/Project3/Training_Set/CS663-Swat-Set-2/Sniper/R_Sniper15.mp4', '/Users/RayM/Documents/School/CompVision/Project3/Training_Set/CS663-Swat-Set-2/Sniper/R_Sniper10.mp4', '/Users/RayM/Documents/School/CompVision/Project3/Training_Set/CS663-Swat-Set-2/Sniper/R_Sniper12.mp4', '/Users/RayM/Documents/School/CompVision/Project3/Training_Set/CS663-Swat-Set-2/Sniper/R_Sniper4.mp4', '/Users/RayM/Documents/School/CompVision/Project3/Training_Set/CS663-Swat-Set-2/Sniper/R_Sniper5.mp4', '/Users/RayM/Documents/School/CompVision/Project3/Training_Set/CS663-Swat-Set-2/Sniper/H_Sniper2.mp4', '/Users/RayM/Documents/School/CompVision/Project3/Training_Set/CS663-Swat-Set-2/Sniper/H_Sniper6.mp4', '/Users/RayM/Documents/School/CompVision/Project3/Training_Set/CS663-Swat-Set-2/Sniper/R_Sniper2.mp4', '/Users/RayM/Documents/School/CompVision/Project3/Training_Set/CS663-Swat-Set-2/Sniper/R_Sniper3.mp4', '/Users/RayM/Documents/School/CompVision/Project3/Training_Set/CS663-Swat-Set-2/Sniper/H_Sniper5.mp4', '/Users/RayM/Documents/School/CompVision/Project3/Training_Set/CS663-Swat-Set-2/Sniper/H_Sniper4.mp4', '/Users/RayM/Documents/School/CompVision/Project3/Training_Set/CS663-Swat-Set-2/Sniper/H_Sniper9.mp4', '/Users/RayM/Documents/School/CompVision/Project3/Training_Set/CS663-Swat-Set-2/Sniper/H_Sniper12.mp4', '/Users/RayM/Documents/School/CompVision/Project3/Training_Set/CS663-Swat-Set-2/Sniper/H_Sniper13.mp4', '/Users/RayM/Documents/School/CompVision/Project3/Training_Set/CS663-Swat-Set-2/Sniper/H_Sniper10.mp4', '/Users/RayM/Documents/School/CompVision/Project3/Training_Set/CS663-Swat-Set-2/Sniper/H_Sniper14.mp4', '/Users/RayM/Documents/School/CompVision/Project3/Training_Set/CS663-Swat-Set-2/Sniper/H_Sniper15.mp4', '/Users/RayM/Documents/School/CompVision/Project3/Training_Set/CS663-Swat-Set-2/You/H_You4.mp4', '/Users/RayM/Documents/School/CompVision/Project3/Training_Set/CS663-Swat-Set-2/You/H_You7.mp4', '/Users/RayM/Documents/School/CompVision/Project3/Training_Set/CS663-Swat-Set-2/You/R_You8.mp4', '/Users/RayM/Documents/School/CompVision/Project3/Training_Set/CS663-Swat-Set-2/You/H_You2.mp4', '/Users/RayM/Documents/School/CompVision/Project3/Training_Set/CS663-Swat-Set-2/You/H_You3.mp4', '/Users/RayM/Documents/School/CompVision/Project3/Training_Set/CS663-Swat-Set-2/You/H_You1.mp4', '/Users/RayM/Documents/School/CompVision/Project3/Training_Set/CS663-Swat-Set-2/You/R_You10.mp4', '/Users/RayM/Documents/School/CompVision/Project3/Training_Set/CS663-Swat-Set-2/You/R_You11.mp4', '/Users/RayM/Documents/School/CompVision/Project3/Training_Set/CS663-Swat-Set-2/You/R_You13.mp4', '/Users/RayM/Documents/School/CompVision/Project3/Training_Set/CS663-Swat-Set-2/You/R_You15.mp4', '/Users/RayM/Documents/School/CompVision/Project3/Training_Set/CS663-Swat-Set-2/You/R_You14.mp4', '/Users/RayM/Documents/School/CompVision/Project3/Training_Set/CS663-Swat-Set-2/You/H_You13.mp4', '/Users/RayM/Documents/School/CompVision/Project3/Training_Set/CS663-Swat-Set-2/You/H_You10.mp4', '/Users/RayM/Documents/School/CompVision/Project3/Training_Set/CS663-Swat-Set-2/You/R_You1.mp4', '/Users/RayM/Documents/School/CompVision/Project3/Training_Set/CS663-Swat-Set-2/You/H_You11.mp4', '/Users/RayM/Documents/School/CompVision/Project3/Training_Set/CS663-Swat-Set-2/You/H_You15.mp4', '/Users/RayM/Documents/School/CompVision/Project3/Training_Set/CS663-Swat-Set-2/You/R_You5.mp4', '/Users/RayM/Documents/School/CompVision/Project3/Training_Set/CS663-Swat-Set-2/You/R_You4.mp4', '/Users/RayM/Documents/School/CompVision/Project3/Training_Set/CS663-Swat-Set-2/You/H_You8.mp4', '/Users/RayM/Documents/School/CompVision/Project3/Training_Set/CS663-Swat-Set-2/Six/R_61.mp4', '/Users/RayM/Documents/School/CompVision/Project3/Training_Set/CS663-Swat-Set-2/Six/H_65.mp4', '/Users/RayM/Documents/School/CompVision/Project3/Training_Set/CS663-Swat-Set-2/Six/H_64.mp4', '/Users/RayM/Documents/School/CompVision/Project3/Training_Set/CS663-Swat-Set-2/Six/H_66.mp4', '/Users/RayM/Documents/School/CompVision/Project3/Training_Set/CS663-Swat-Set-2/Six/R_63.mp4', '/Users/RayM/Documents/School/CompVision/Project3/Training_Set/CS663-Swat-Set-2/Six/R_67.mp4', '/Users/RayM/Documents/School/CompVision/Project3/Training_Set/CS663-Swat-Set-2/Six/H_63.mp4', '/Users/RayM/Documents/School/CompVision/Project3/Training_Set/CS663-Swat-Set-2/Six/H_62.mp4', '/Users/RayM/Documents/School/CompVision/Project3/Training_Set/CS663-Swat-Set-2/Six/R_66.mp4', '/Users/RayM/Documents/School/CompVision/Project3/Training_Set/CS663-Swat-Set-2/Six/R_64.mp4', '/Users/RayM/Documents/School/CompVision/Project3/Training_Set/CS663-Swat-Set-2/Six/R_65.mp4', '/Users/RayM/Documents/School/CompVision/Project3/Training_Set/CS663-Swat-Set-2/Six/R_614.mp4', '/Users/RayM/Documents/School/CompVision/Project3/Training_Set/CS663-Swat-Set-2/Six/R_615.mp4', '/Users/RayM/Documents/School/CompVision/Project3/Training_Set/CS663-Swat-Set-2/Six/R_612.mp4', '/Users/RayM/Documents/School/CompVision/Project3/Training_Set/CS663-Swat-Set-2/Six/R_613.mp4', '/Users/RayM/Documents/School/CompVision/Project3/Training_Set/CS663-Swat-Set-2/Six/R_610.mp4', '/Users/RayM/Documents/School/CompVision/Project3/Training_Set/CS663-Swat-Set-2/Six/H_610.mp4', '/Users/RayM/Documents/School/CompVision/Project3/Training_Set/CS663-Swat-Set-2/Six/H_611.mp4', '/Users/RayM/Documents/School/CompVision/Project3/Training_Set/CS663-Swat-Set-2/Six/H_613.mp4', '/Users/RayM/Documents/School/CompVision/Project3/Training_Set/CS663-Swat-Set-2/Six/H_615.mp4', '/Users/RayM/Documents/School/CompVision/Project3/Training_Set/CS663-Swat-Set-2/Six/H_69.mp4', '/Users/RayM/Documents/School/CompVision/Project3/Training_Set/CS663-Swat-Set-2/Six/H_68.mp4', '/Users/RayM/Documents/School/CompVision/Project3/Training_Set/CS663-Swat-Set-2/IDontUnderstand/R_IDontUnderstand1.mp4', '/Users/RayM/Documents/School/CompVision/Project3/Training_Set/CS663-Swat-Set-2/IDontUnderstand/R_IDontUnderstand2.mp4', '/Users/RayM/Documents/School/CompVision/Project3/Training_Set/CS663-Swat-Set-2/IDontUnderstand/R_IDontUnderstand3.mp4', '/Users/RayM/Documents/School/CompVision/Project3/Training_Set/CS663-Swat-Set-2/IDontUnderstand/R_IDontUnderstand6.mp4', '/Users/RayM/Documents/School/CompVision/Project3/Training_Set/CS663-Swat-Set-2/IDontUnderstand/R_IDontUnderstand4.mp4', '/Users/RayM/Documents/School/CompVision/Project3/Training_Set/CS663-Swat-Set-2/IDontUnderstand/R_IDontUnderstand11.mp4', '/Users/RayM/Documents/School/CompVision/Project3/Training_Set/CS663-Swat-Set-2/IDontUnderstand/H_IDontUnderstand7.mp4', '/Users/RayM/Documents/School/CompVision/Project3/Training_Set/CS663-Swat-Set-2/IDontUnderstand/H_IDontUnderstand6.mp4', '/Users/RayM/Documents/School/CompVision/Project3/Training_Set/CS663-Swat-Set-2/IDontUnderstand/R_IDontUnderstand10.mp4', '/Users/RayM/Documents/School/CompVision/Project3/Training_Set/CS663-Swat-Set-2/IDontUnderstand/R_IDontUnderstand12.mp4', '/Users/RayM/Documents/School/CompVision/Project3/Training_Set/CS663-Swat-Set-2/IDontUnderstand/H_IDontUnderstand4.mp4', '/Users/RayM/Documents/School/CompVision/Project3/Training_Set/CS663-Swat-Set-2/IDontUnderstand/H_IDontUnderstand5.mp4', '/Users/RayM/Documents/School/CompVision/Project3/Training_Set/CS663-Swat-Set-2/IDontUnderstand/R_IDontUnderstand13.mp4', '/Users/RayM/Documents/School/CompVision/Project3/Training_Set/CS663-Swat-Set-2/IDontUnderstand/H_IDontUnderstand1.mp4', '/Users/RayM/Documents/School/CompVision/Project3/Training_Set/CS663-Swat-Set-2/IDontUnderstand/R_IDontUnderstand14.mp4', '/Users/RayM/Documents/School/CompVision/Project3/Training_Set/CS663-Swat-Set-2/IDontUnderstand/H_IDontUnderstand3.mp4', '/Users/RayM/Documents/School/CompVision/Project3/Training_Set/CS663-Swat-Set-2/IDontUnderstand/R_IDontUnderstand15.mp4', '/Users/RayM/Documents/School/CompVision/Project3/Training_Set/CS663-Swat-Set-2/IDontUnderstand/H_IDontUnderstand8.mp4', '/Users/RayM/Documents/School/CompVision/Project3/Training_Set/CS663-Swat-Set-2/IDontUnderstand/H_IDontUnderstand9.mp4', '/Users/RayM/Documents/School/CompVision/Project3/Training_Set/CS663-Swat-Set-2/IDontUnderstand/R_IDontUnderstand8.mp4', '/Users/RayM/Documents/School/CompVision/Project3/Training_Set/CS663-Swat-Set-2/IDontUnderstand/R_IDontUnderstand9.mp4', '/Users/RayM/Documents/School/CompVision/Project3/Training_Set/CS663-Swat-Set-2/IDontUnderstand/H_IDontUnderstand15.mp4', '/Users/RayM/Documents/School/CompVision/Project3/Training_Set/CS663-Swat-Set-2/IDontUnderstand/H_IDontUnderstand11.mp4', '/Users/RayM/Documents/School/CompVision/Project3/Training_Set/CS663-Swat-Set-2/IDontUnderstand/H_IDontUnderstand10.mp4', '/Users/RayM/Documents/School/CompVision/Project3/Training_Set/CS663-Swat-Set-2/IDontUnderstand/H_IDontUnderstand12.mp4', '/Users/RayM/Documents/School/CompVision/Project3/Training_Set/CS663-Swat-Set-2/IDontUnderstand/H_IDontUnderstand13.mp4', '/Users/RayM/Documents/School/CompVision/Project3/Training_Set/CS663-Swat-Set-2/RallyPoint/H_Rallypoint8.mp4', '/Users/RayM/Documents/School/CompVision/Project3/Training_Set/CS663-Swat-Set-2/RallyPoint/H_Rallypoint9.mp4', '/Users/RayM/Documents/School/CompVision/Project3/Training_Set/CS663-Swat-Set-2/RallyPoint/R_RallyPoint8.mp4', '/Users/RayM/Documents/School/CompVision/Project3/Training_Set/CS663-Swat-Set-2/RallyPoint/R_RallyPoint9.mp4', '/Users/RayM/Documents/School/CompVision/Project3/Training_Set/CS663-Swat-Set-2/RallyPoint/R_RallyPoint2.mp4', '/Users/RayM/Documents/School/CompVision/Project3/Training_Set/CS663-Swat-Set-2/RallyPoint/H_Rallypoint1.mp4', '/Users/RayM/Documents/School/CompVision/Project3/Training_Set/CS663-Swat-Set-2/RallyPoint/R_RallyPoint3.mp4', '/Users/RayM/Documents/School/CompVision/Project3/Training_Set/CS663-Swat-Set-2/RallyPoint/H_Rallypoint15.mp4', '/Users/RayM/Documents/School/CompVision/Project3/Training_Set/CS663-Swat-Set-2/RallyPoint/R_RallyPoint1.mp4', '/Users/RayM/Documents/School/CompVision/Project3/Training_Set/CS663-Swat-Set-2/RallyPoint/H_Rallypoint2.mp4', '/Users/RayM/Documents/School/CompVision/Project3/Training_Set/CS663-Swat-Set-2/RallyPoint/H_Rallypoint7.mp4', '/Users/RayM/Documents/School/CompVision/Project3/Training_Set/CS663-Swat-Set-2/RallyPoint/H_Rallypoint6.mp4', '/Users/RayM/Documents/School/CompVision/Project3/Training_Set/CS663-Swat-Set-2/RallyPoint/R_RallyPoint5.mp4', '/Users/RayM/Documents/School/CompVision/Project3/Training_Set/CS663-Swat-Set-2/RallyPoint/H_Rallypoint11.mp4', '/Users/RayM/Documents/School/CompVision/Project3/Training_Set/CS663-Swat-Set-2/RallyPoint/H_Rallypoint13.mp4', '/Users/RayM/Documents/School/CompVision/Project3/Training_Set/CS663-Swat-Set-2/RallyPoint/H_Rallypoint4.mp4', '/Users/RayM/Documents/School/CompVision/Project3/Training_Set/CS663-Swat-Set-2/RallyPoint/H_Rallypoint5.mp4', '/Users/RayM/Documents/School/CompVision/Project3/Training_Set/CS663-Swat-Set-2/RallyPoint/R_RallyPoint10.mp4', '/Users/RayM/Documents/School/CompVision/Project3/Training_Set/CS663-Swat-Set-2/RallyPoint/R_RallyPoint11.mp4', '/Users/RayM/Documents/School/CompVision/Project3/Training_Set/CS663-Swat-Set-2/RallyPoint/R_RallyPoint13.mp4', '/Users/RayM/Documents/School/CompVision/Project3/Training_Set/CS663-Swat-Set-2/RallyPoint/R_RallyPoint15.mp4', '/Users/RayM/Documents/School/CompVision/Project3/Training_Set/CS663-Swat-Set-2/Five/R_515.mp4', '/Users/RayM/Documents/School/CompVision/Project3/Training_Set/CS663-Swat-Set-2/Five/R_514.mp4', '/Users/RayM/Documents/School/CompVision/Project3/Training_Set/CS663-Swat-Set-2/Five/R_58.mp4', '/Users/RayM/Documents/School/CompVision/Project3/Training_Set/CS663-Swat-Set-2/Five/R_59.mp4', '/Users/RayM/Documents/School/CompVision/Project3/Training_Set/CS663-Swat-Set-2/Five/H_Five7.mp4', '/Users/RayM/Documents/School/CompVision/Project3/Training_Set/CS663-Swat-Set-2/Five/H_Five4.mp4', '/Users/RayM/Documents/School/CompVision/Project3/Training_Set/CS663-Swat-Set-2/Five/H_Five1.mp4', '/Users/RayM/Documents/School/CompVision/Project3/Training_Set/CS663-Swat-Set-2/Five/H_Five2.mp4', '/Users/RayM/Documents/School/CompVision/Project3/Training_Set/CS663-Swat-Set-2/Five/H_Five12.mp4', '/Users/RayM/Documents/School/CompVision/Project3/Training_Set/CS663-Swat-Set-2/Five/H_Five11.mp4', '/Users/RayM/Documents/School/CompVision/Project3/Training_Set/CS663-Swat-Set-2/Five/H_Five15.mp4', '/Users/RayM/Documents/School/CompVision/Project3/Training_Set/CS663-Swat-Set-2/Five/H_Five8.mp4', '/Users/RayM/Documents/School/CompVision/Project3/Training_Set/CS663-Swat-Set-2/Five/R_55.mp4', '/Users/RayM/Documents/School/CompVision/Project3/Training_Set/CS663-Swat-Set-2/Five/R_57.mp4', '/Users/RayM/Documents/School/CompVision/Project3/Training_Set/CS663-Swat-Set-2/Five/R_52.mp4', '/Users/RayM/Documents/School/CompVision/Project3/Training_Set/CS663-Swat-Set-2/Five/R_53.mp4', '/Users/RayM/Documents/School/CompVision/Project3/Training_Set/CS663-Swat-Set-2/Five/R_51.mp4', '/Users/RayM/Documents/School/CompVision/Project3/Training_Set/CS663-Swat-Set-2/Door/R_Door3.mp4', '/Users/RayM/Documents/School/CompVision/Project3/Training_Set/CS663-Swat-Set-2/Door/R_Door2.mp4', '/Users/RayM/Documents/School/CompVision/Project3/Training_Set/CS663-Swat-Set-2/Door/R_Door1.mp4', '/Users/RayM/Documents/School/CompVision/Project3/Training_Set/CS663-Swat-Set-2/Door/R_Door5.mp4', '/Users/RayM/Documents/School/CompVision/Project3/Training_Set/CS663-Swat-Set-2/Door/R_Door4.mp4', '/Users/RayM/Documents/School/CompVision/Project3/Training_Set/CS663-Swat-Set-2/Door/R_Door6.mp4', '/Users/RayM/Documents/School/CompVision/Project3/Training_Set/CS663-Swat-Set-2/Door/R_Door14.mp4', '/Users/RayM/Documents/School/CompVision/Project3/Training_Set/CS663-Swat-Set-2/Door/H_Door8.mp4', '/Users/RayM/Documents/School/CompVision/Project3/Training_Set/CS663-Swat-Set-2/Door/R_Door15.mp4', '/Users/RayM/Documents/School/CompVision/Project3/Training_Set/CS663-Swat-Set-2/Door/R_Door10.mp4', '/Users/RayM/Documents/School/CompVision/Project3/Training_Set/CS663-Swat-Set-2/Door/H_Door3.mp4', '/Users/RayM/Documents/School/CompVision/Project3/Training_Set/CS663-Swat-Set-2/Door/H_Door2.mp4', '/Users/RayM/Documents/School/CompVision/Project3/Training_Set/CS663-Swat-Set-2/Door/H_Door6.mp4', '/Users/RayM/Documents/School/CompVision/Project3/Training_Set/CS663-Swat-Set-2/Door/H_Door7.mp4', '/Users/RayM/Documents/School/CompVision/Project3/Training_Set/CS663-Swat-Set-2/Door/H_Door15.mp4', '/Users/RayM/Documents/School/CompVision/Project3/Training_Set/CS663-Swat-Set-2/Door/R_Door9.mp4', '/Users/RayM/Documents/School/CompVision/Project3/Training_Set/CS663-Swat-Set-2/Door/H_Door14.mp4', '/Users/RayM/Documents/School/CompVision/Project3/Training_Set/CS663-Swat-Set-2/Door/H_Door10.mp4', '/Users/RayM/Documents/School/CompVision/Project3/Training_Set/CS663-Swat-Set-2/Door/H_Door13.mp4', '/Users/RayM/Documents/School/CompVision/Project3/Training_Set/CS663-Swat-Set-2/CoverThisArea/H_CoverThisArea5.mp4', '/Users/RayM/Documents/School/CompVision/Project3/Training_Set/CS663-Swat-Set-2/CoverThisArea/R_CoverThisArea5.mp4', '/Users/RayM/Documents/School/CompVision/Project3/Training_Set/CS663-Swat-Set-2/CoverThisArea/H_CoverThisArea4.mp4', '/Users/RayM/Documents/School/CompVision/Project3/Training_Set/CS663-Swat-Set-2/CoverThisArea/H_CoverThisArea6.mp4', '/Users/RayM/Documents/School/CompVision/Project3/Training_Set/CS663-Swat-Set-2/CoverThisArea/R_CoverThisArea6.mp4', '/Users/RayM/Documents/School/CompVision/Project3/Training_Set/CS663-Swat-Set-2/CoverThisArea/H_CoverThisArea3.mp4', '/Users/RayM/Documents/School/CompVision/Project3/Training_Set/CS663-Swat-Set-2/CoverThisArea/R_CoverThisArea3.mp4', '/Users/RayM/Documents/School/CompVision/Project3/Training_Set/CS663-Swat-Set-2/CoverThisArea/R_CoverThisArea2.mp4', '/Users/RayM/Documents/School/CompVision/Project3/Training_Set/CS663-Swat-Set-2/CoverThisArea/H_CoverThisArea2.mp4', '/Users/RayM/Documents/School/CompVision/Project3/Training_Set/CS663-Swat-Set-2/CoverThisArea/R_CoverThisArea1.mp4', '/Users/RayM/Documents/School/CompVision/Project3/Training_Set/CS663-Swat-Set-2/CoverThisArea/H_CoverThisArea1.mp4', '/Users/RayM/Documents/School/CompVision/Project3/Training_Set/CS663-Swat-Set-2/CoverThisArea/H_CoverThisArea15.mp4', '/Users/RayM/Documents/School/CompVision/Project3/Training_Set/CS663-Swat-Set-2/CoverThisArea/H_CoverThisArea14.mp4', '/Users/RayM/Documents/School/CompVision/Project3/Training_Set/CS663-Swat-Set-2/CoverThisArea/H_CoverThisArea16.mp4', '/Users/RayM/Documents/School/CompVision/Project3/Training_Set/CS663-Swat-Set-2/CoverThisArea/H_CoverThisArea17.mp4', '/Users/RayM/Documents/School/CompVision/Project3/Training_Set/CS663-Swat-Set-2/CoverThisArea/H_CoverThisArea13.mp4', '/Users/RayM/Documents/School/CompVision/Project3/Training_Set/CS663-Swat-Set-2/CoverThisArea/H_CoverThisArea10.mp4', '/Users/RayM/Documents/School/CompVision/Project3/Training_Set/CS663-Swat-Set-2/CoverThisArea/H_CoverThisArea11.mp4', '/Users/RayM/Documents/School/CompVision/Project3/Training_Set/CS663-Swat-Set-2/CoverThisArea/R_CoverThisArea15.mp4', '/Users/RayM/Documents/School/CompVision/Project3/Training_Set/CS663-Swat-Set-2/CoverThisArea/R_CoverThisArea12.mp4', '/Users/RayM/Documents/School/CompVision/Project3/Training_Set/CS663-Swat-Set-2/CoverThisArea/R_CoverThisArea13.mp4', '/Users/RayM/Documents/School/CompVision/Project3/Training_Set/CS663-Swat-Set-2/CoverThisArea/H_CoverThisArea9.mp4', '/Users/RayM/Documents/School/CompVision/Project3/Training_Set/CS663-Swat-Set-2/CoverThisArea/R_CoverThisArea8.mp4', '/Users/RayM/Documents/School/CompVision/Project3/Training_Set/CS663-Swat-Set-2/CoverThisArea/H_CoverThisArea8.mp4', '/Users/RayM/Documents/School/CompVision/Project3/Training_Set/CS663-Swat-Set-2/CoverThisArea/R_CoverThisArea10.mp4', '/Users/RayM/Documents/School/CompVision/Project3/Training_Set/CS663-Swat-Set-2/Four/R_49.mp4', '/Users/RayM/Documents/School/CompVision/Project3/Training_Set/CS663-Swat-Set-2/Four/R_48.mp4', '/Users/RayM/Documents/School/CompVision/Project3/Training_Set/CS663-Swat-Set-2/Four/H_Four17.mp4', '/Users/RayM/Documents/School/CompVision/Project3/Training_Set/CS663-Swat-Set-2/Four/H_Four16.mp4', '/Users/RayM/Documents/School/CompVision/Project3/Training_Set/CS663-Swat-Set-2/Four/R_415.mp4', '/Users/RayM/Documents/School/CompVision/Project3/Training_Set/CS663-Swat-Set-2/Four/H_Four14.mp4', '/Users/RayM/Documents/School/CompVision/Project3/Training_Set/CS663-Swat-Set-2/Four/H_Four15.mp4', '/Users/RayM/Documents/School/CompVision/Project3/Training_Set/CS663-Swat-Set-2/Four/R_414.mp4', '/Users/RayM/Documents/School/CompVision/Project3/Training_Set/CS663-Swat-Set-2/Four/H_Four11.mp4', '/Users/RayM/Documents/School/CompVision/Project3/Training_Set/CS663-Swat-Set-2/Four/H_Four10.mp4', '/Users/RayM/Documents/School/CompVision/Project3/Training_Set/CS663-Swat-Set-2/Four/H_Four9.mp4', '/Users/RayM/Documents/School/CompVision/Project3/Training_Set/CS663-Swat-Set-2/Four/H_Four12.mp4', '/Users/RayM/Documents/School/CompVision/Project3/Training_Set/CS663-Swat-Set-2/Four/H_Four8.mp4', '/Users/RayM/Documents/School/CompVision/Project3/Training_Set/CS663-Swat-Set-2/Four/R_412.mp4', '/Users/RayM/Documents/School/CompVision/Project3/Training_Set/CS663-Swat-Set-2/Four/H_Four5.mp4', '/Users/RayM/Documents/School/CompVision/Project3/Training_Set/CS663-Swat-Set-2/Four/H_Four4.mp4', '/Users/RayM/Documents/School/CompVision/Project3/Training_Set/CS663-Swat-Set-2/Four/H_Four6.mp4', '/Users/RayM/Documents/School/CompVision/Project3/Training_Set/CS663-Swat-Set-2/Four/H_Four7.mp4', '/Users/RayM/Documents/School/CompVision/Project3/Training_Set/CS663-Swat-Set-2/Four/H_Four18.mp4', '/Users/RayM/Documents/School/CompVision/Project3/Training_Set/CS663-Swat-Set-2/Four/H_Four2.mp4', '/Users/RayM/Documents/School/CompVision/Project3/Training_Set/CS663-Swat-Set-2/Four/H_Four1.mp4', '/Users/RayM/Documents/School/CompVision/Project3/Training_Set/CS663-Swat-Set-2/Four/R_42.mp4', '/Users/RayM/Documents/School/CompVision/Project3/Training_Set/CS663-Swat-Set-2/Four/R_46.mp4', '/Users/RayM/Documents/School/CompVision/Project3/Training_Set/CS663-Swat-Set-2/Four/R_47.mp4', '/Users/RayM/Documents/School/CompVision/Project3/Training_Set/CS663-Swat-Set-2/Four/R_45.mp4', '/Users/RayM/Documents/School/CompVision/Project3/Training_Set/CS663-Swat-Set-2/Four/R_44.mp4']\n"
     ]
    }
   ],
   "source": [
    "print(train_list)"
   ]
  },
  {
   "cell_type": "code",
   "execution_count": 31,
   "metadata": {},
   "outputs": [],
   "source": [
    "# Setup the train_dataset and valid_dataset (validation/testing).  \n",
    "# Here we setting up training batch sets of 16.  \n",
    "\n",
    "train_dataset = tf.data.Dataset.from_generator(make_generator(train_list),\n",
    "                 output_types=(tf.float32, tf.int16),\n",
    "                 output_shapes=(tf.TensorShape([SEQUENCE_LENGTH, 1280]), tf.TensorShape([len(LABELS)])))\n",
    "train_dataset = train_dataset.batch(16,drop_remainder=True).prefetch(tf.data.experimental.AUTOTUNE)\n",
    "\n",
    "\n",
    "valid_dataset = tf.data.Dataset.from_generator(make_generator(test_list),\n",
    "                 output_types=(tf.float32, tf.int16),\n",
    "                 output_shapes=(tf.TensorShape([SEQUENCE_LENGTH, 1280]), tf.TensorShape([len(LABELS)])))\n",
    "valid_dataset = valid_dataset.batch(16,drop_remainder=True).prefetch(tf.data.experimental.AUTOTUNE)"
   ]
  },
  {
   "cell_type": "code",
   "execution_count": 21,
   "metadata": {},
   "outputs": [
    {
     "name": "stdout",
     "output_type": "stream",
     "text": [
      "<DatasetV1Adapter shapes: ((16, 40, 1280), (16, 37)), types: (tf.float32, tf.int16)>\n"
     ]
    }
   ],
   "source": [
    "print(train_dataset)"
   ]
  },
  {
   "cell_type": "code",
   "execution_count": 32,
   "metadata": {
    "scrolled": false
   },
   "outputs": [
    {
     "ename": "UnknownError",
     "evalue": "OSError: Failed to interpret file '/Users/RayM/Documents/School/CompVision/Project3/Training_Set/CS663-Swat-Set-2/Two/H_212.mp4' as a pickle\nTraceback (most recent call last):\n\n  File \"/Users/RayM/opt/anaconda3/lib/python3.7/site-packages/numpy/lib/npyio.py\", line 460, in load\n    pickled in a Python 2 compatible way. If `fix_imports` is True, pickle\n\n_pickle.UnpicklingError: invalid load key, '\\x00'.\n\n\nDuring handling of the above exception, another exception occurred:\n\n\nTraceback (most recent call last):\n\n  File \"/Users/RayM/opt/anaconda3/lib/python3.7/site-packages/tensorflow/python/ops/script_ops.py\", line 209, in __call__\n    ret = func(*args)\n\n  File \"/Users/RayM/opt/anaconda3/lib/python3.7/site-packages/tensorflow/python/data/ops/dataset_ops.py\", line 514, in generator_py_func\n    values = next(generator_state.get_iterator(iterator_id))\n\n  File \"<ipython-input-28-c67148c5bdeb>\", line 19, in generator\n    features = np.load(full_path, allow_pickle=True)\n\n  File \"/Users/RayM/opt/anaconda3/lib/python3.7/site-packages/numpy/lib/npyio.py\", line 463, in load\n\nOSError: Failed to interpret file '/Users/RayM/Documents/School/CompVision/Project3/Training_Set/CS663-Swat-Set-2/Two/H_212.mp4' as a pickle\n\n\n\t [[{{node PyFunc}}]] [Op:IteratorGetNextSync]",
     "output_type": "error",
     "traceback": [
      "\u001b[0;31m---------------------------------------------------------------------------\u001b[0m",
      "\u001b[0;31mUnknownError\u001b[0m                              Traceback (most recent call last)",
      "\u001b[0;32m<ipython-input-32-052fee82cd7e>\u001b[0m in \u001b[0;36m<module>\u001b[0;34m\u001b[0m\n\u001b[1;32m      1\u001b[0m \u001b[0;31m# fit the model with the training data (can increase the # of epochs & validation_steps if desired)\u001b[0m\u001b[0;34m\u001b[0m\u001b[0;34m\u001b[0m\u001b[0;34m\u001b[0m\u001b[0m\n\u001b[0;32m----> 2\u001b[0;31m \u001b[0mmodel\u001b[0m\u001b[0;34m.\u001b[0m\u001b[0mfit\u001b[0m\u001b[0;34m(\u001b[0m\u001b[0mtrain_dataset\u001b[0m\u001b[0;34m,\u001b[0m \u001b[0mepochs\u001b[0m\u001b[0;34m=\u001b[0m\u001b[0;36m200\u001b[0m\u001b[0;34m,\u001b[0m \u001b[0mvalidation_data\u001b[0m\u001b[0;34m=\u001b[0m\u001b[0mvalid_dataset\u001b[0m\u001b[0;34m,\u001b[0m \u001b[0mvalidation_steps\u001b[0m\u001b[0;34m=\u001b[0m\u001b[0;36m4\u001b[0m\u001b[0;34m,\u001b[0m \u001b[0mverbose\u001b[0m\u001b[0;34m=\u001b[0m\u001b[0;36m0\u001b[0m\u001b[0;34m)\u001b[0m\u001b[0;34m\u001b[0m\u001b[0;34m\u001b[0m\u001b[0m\n\u001b[0m",
      "\u001b[0;32m~/opt/anaconda3/lib/python3.7/site-packages/tensorflow/python/keras/engine/training.py\u001b[0m in \u001b[0;36mfit\u001b[0;34m(self, x, y, batch_size, epochs, verbose, callbacks, validation_split, validation_data, shuffle, class_weight, sample_weight, initial_epoch, steps_per_epoch, validation_steps, validation_freq, max_queue_size, workers, use_multiprocessing, **kwargs)\u001b[0m\n\u001b[1;32m    692\u001b[0m           \u001b[0mworkers\u001b[0m\u001b[0;34m=\u001b[0m\u001b[0;36m0\u001b[0m\u001b[0;34m,\u001b[0m\u001b[0;34m\u001b[0m\u001b[0;34m\u001b[0m\u001b[0m\n\u001b[1;32m    693\u001b[0m           \u001b[0mshuffle\u001b[0m\u001b[0;34m=\u001b[0m\u001b[0mshuffle\u001b[0m\u001b[0;34m,\u001b[0m\u001b[0;34m\u001b[0m\u001b[0;34m\u001b[0m\u001b[0m\n\u001b[0;32m--> 694\u001b[0;31m           initial_epoch=initial_epoch)\n\u001b[0m\u001b[1;32m    695\u001b[0m \u001b[0;34m\u001b[0m\u001b[0m\n\u001b[1;32m    696\u001b[0m     \u001b[0;31m# Case 3: Symbolic tensors or Numpy array-like.\u001b[0m\u001b[0;34m\u001b[0m\u001b[0;34m\u001b[0m\u001b[0;34m\u001b[0m\u001b[0m\n",
      "\u001b[0;32m~/opt/anaconda3/lib/python3.7/site-packages/tensorflow/python/keras/engine/training.py\u001b[0m in \u001b[0;36mfit_generator\u001b[0;34m(self, generator, steps_per_epoch, epochs, verbose, callbacks, validation_data, validation_steps, validation_freq, class_weight, max_queue_size, workers, use_multiprocessing, shuffle, initial_epoch)\u001b[0m\n\u001b[1;32m   1431\u001b[0m         \u001b[0mshuffle\u001b[0m\u001b[0;34m=\u001b[0m\u001b[0mshuffle\u001b[0m\u001b[0;34m,\u001b[0m\u001b[0;34m\u001b[0m\u001b[0;34m\u001b[0m\u001b[0m\n\u001b[1;32m   1432\u001b[0m         \u001b[0minitial_epoch\u001b[0m\u001b[0;34m=\u001b[0m\u001b[0minitial_epoch\u001b[0m\u001b[0;34m,\u001b[0m\u001b[0;34m\u001b[0m\u001b[0;34m\u001b[0m\u001b[0m\n\u001b[0;32m-> 1433\u001b[0;31m         steps_name='steps_per_epoch')\n\u001b[0m\u001b[1;32m   1434\u001b[0m \u001b[0;34m\u001b[0m\u001b[0m\n\u001b[1;32m   1435\u001b[0m   def evaluate_generator(self,\n",
      "\u001b[0;32m~/opt/anaconda3/lib/python3.7/site-packages/tensorflow/python/keras/engine/training_generator.py\u001b[0m in \u001b[0;36mmodel_iteration\u001b[0;34m(model, data, steps_per_epoch, epochs, verbose, callbacks, validation_data, validation_steps, validation_freq, class_weight, max_queue_size, workers, use_multiprocessing, shuffle, initial_epoch, mode, batch_size, steps_name, **kwargs)\u001b[0m\n\u001b[1;32m    218\u001b[0m     \u001b[0mstep\u001b[0m \u001b[0;34m=\u001b[0m \u001b[0;36m0\u001b[0m\u001b[0;34m\u001b[0m\u001b[0;34m\u001b[0m\u001b[0m\n\u001b[1;32m    219\u001b[0m     \u001b[0;32mwhile\u001b[0m \u001b[0mstep\u001b[0m \u001b[0;34m<\u001b[0m \u001b[0mtarget_steps\u001b[0m\u001b[0;34m:\u001b[0m\u001b[0;34m\u001b[0m\u001b[0;34m\u001b[0m\u001b[0m\n\u001b[0;32m--> 220\u001b[0;31m       \u001b[0mbatch_data\u001b[0m \u001b[0;34m=\u001b[0m \u001b[0m_get_next_batch\u001b[0m\u001b[0;34m(\u001b[0m\u001b[0mgenerator\u001b[0m\u001b[0;34m,\u001b[0m \u001b[0mmode\u001b[0m\u001b[0;34m)\u001b[0m\u001b[0;34m\u001b[0m\u001b[0;34m\u001b[0m\u001b[0m\n\u001b[0m\u001b[1;32m    221\u001b[0m       \u001b[0;32mif\u001b[0m \u001b[0mbatch_data\u001b[0m \u001b[0;32mis\u001b[0m \u001b[0;32mNone\u001b[0m\u001b[0;34m:\u001b[0m\u001b[0;34m\u001b[0m\u001b[0;34m\u001b[0m\u001b[0m\n\u001b[1;32m    222\u001b[0m         \u001b[0;32mif\u001b[0m \u001b[0mis_dataset\u001b[0m\u001b[0;34m:\u001b[0m\u001b[0;34m\u001b[0m\u001b[0;34m\u001b[0m\u001b[0m\n",
      "\u001b[0;32m~/opt/anaconda3/lib/python3.7/site-packages/tensorflow/python/keras/engine/training_generator.py\u001b[0m in \u001b[0;36m_get_next_batch\u001b[0;34m(generator, mode)\u001b[0m\n\u001b[1;32m    360\u001b[0m   \u001b[0;34m\"\"\"Retrieves the next batch of input data.\"\"\"\u001b[0m\u001b[0;34m\u001b[0m\u001b[0;34m\u001b[0m\u001b[0m\n\u001b[1;32m    361\u001b[0m   \u001b[0;32mtry\u001b[0m\u001b[0;34m:\u001b[0m\u001b[0;34m\u001b[0m\u001b[0;34m\u001b[0m\u001b[0m\n\u001b[0;32m--> 362\u001b[0;31m     \u001b[0mgenerator_output\u001b[0m \u001b[0;34m=\u001b[0m \u001b[0mnext\u001b[0m\u001b[0;34m(\u001b[0m\u001b[0mgenerator\u001b[0m\u001b[0;34m)\u001b[0m\u001b[0;34m\u001b[0m\u001b[0;34m\u001b[0m\u001b[0m\n\u001b[0m\u001b[1;32m    363\u001b[0m   \u001b[0;32mexcept\u001b[0m \u001b[0;34m(\u001b[0m\u001b[0mStopIteration\u001b[0m\u001b[0;34m,\u001b[0m \u001b[0merrors\u001b[0m\u001b[0;34m.\u001b[0m\u001b[0mOutOfRangeError\u001b[0m\u001b[0;34m)\u001b[0m\u001b[0;34m:\u001b[0m\u001b[0;34m\u001b[0m\u001b[0;34m\u001b[0m\u001b[0m\n\u001b[1;32m    364\u001b[0m     \u001b[0;32mreturn\u001b[0m \u001b[0;32mNone\u001b[0m\u001b[0;34m\u001b[0m\u001b[0;34m\u001b[0m\u001b[0m\n",
      "\u001b[0;32m~/opt/anaconda3/lib/python3.7/site-packages/tensorflow/python/data/ops/iterator_ops.py\u001b[0m in \u001b[0;36m__next__\u001b[0;34m(self)\u001b[0m\n\u001b[1;32m    584\u001b[0m \u001b[0;34m\u001b[0m\u001b[0m\n\u001b[1;32m    585\u001b[0m   \u001b[0;32mdef\u001b[0m \u001b[0m__next__\u001b[0m\u001b[0;34m(\u001b[0m\u001b[0mself\u001b[0m\u001b[0;34m)\u001b[0m\u001b[0;34m:\u001b[0m  \u001b[0;31m# For Python 3 compatibility\u001b[0m\u001b[0;34m\u001b[0m\u001b[0;34m\u001b[0m\u001b[0m\n\u001b[0;32m--> 586\u001b[0;31m     \u001b[0;32mreturn\u001b[0m \u001b[0mself\u001b[0m\u001b[0;34m.\u001b[0m\u001b[0mnext\u001b[0m\u001b[0;34m(\u001b[0m\u001b[0;34m)\u001b[0m\u001b[0;34m\u001b[0m\u001b[0;34m\u001b[0m\u001b[0m\n\u001b[0m\u001b[1;32m    587\u001b[0m \u001b[0;34m\u001b[0m\u001b[0m\n\u001b[1;32m    588\u001b[0m   \u001b[0;32mdef\u001b[0m \u001b[0m_next_internal\u001b[0m\u001b[0;34m(\u001b[0m\u001b[0mself\u001b[0m\u001b[0;34m)\u001b[0m\u001b[0;34m:\u001b[0m\u001b[0;34m\u001b[0m\u001b[0;34m\u001b[0m\u001b[0m\n",
      "\u001b[0;32m~/opt/anaconda3/lib/python3.7/site-packages/tensorflow/python/data/ops/iterator_ops.py\u001b[0m in \u001b[0;36mnext\u001b[0;34m(self)\u001b[0m\n\u001b[1;32m    621\u001b[0m     \"\"\"\n\u001b[1;32m    622\u001b[0m     \u001b[0;32mtry\u001b[0m\u001b[0;34m:\u001b[0m\u001b[0;34m\u001b[0m\u001b[0;34m\u001b[0m\u001b[0m\n\u001b[0;32m--> 623\u001b[0;31m       \u001b[0;32mreturn\u001b[0m \u001b[0mself\u001b[0m\u001b[0;34m.\u001b[0m\u001b[0m_next_internal\u001b[0m\u001b[0;34m(\u001b[0m\u001b[0;34m)\u001b[0m\u001b[0;34m\u001b[0m\u001b[0;34m\u001b[0m\u001b[0m\n\u001b[0m\u001b[1;32m    624\u001b[0m     \u001b[0;32mexcept\u001b[0m \u001b[0merrors\u001b[0m\u001b[0;34m.\u001b[0m\u001b[0mOutOfRangeError\u001b[0m\u001b[0;34m:\u001b[0m\u001b[0;34m\u001b[0m\u001b[0;34m\u001b[0m\u001b[0m\n\u001b[1;32m    625\u001b[0m       \u001b[0;32mraise\u001b[0m \u001b[0mStopIteration\u001b[0m\u001b[0;34m\u001b[0m\u001b[0;34m\u001b[0m\u001b[0m\n",
      "\u001b[0;32m~/opt/anaconda3/lib/python3.7/site-packages/tensorflow/python/data/ops/iterator_ops.py\u001b[0m in \u001b[0;36m_next_internal\u001b[0;34m(self)\u001b[0m\n\u001b[1;32m    613\u001b[0m             \u001b[0mself\u001b[0m\u001b[0;34m.\u001b[0m\u001b[0m_iterator_resource\u001b[0m\u001b[0;34m,\u001b[0m\u001b[0;34m\u001b[0m\u001b[0;34m\u001b[0m\u001b[0m\n\u001b[1;32m    614\u001b[0m             \u001b[0moutput_types\u001b[0m\u001b[0;34m=\u001b[0m\u001b[0mself\u001b[0m\u001b[0;34m.\u001b[0m\u001b[0m_flat_output_types\u001b[0m\u001b[0;34m,\u001b[0m\u001b[0;34m\u001b[0m\u001b[0;34m\u001b[0m\u001b[0m\n\u001b[0;32m--> 615\u001b[0;31m             output_shapes=self._flat_output_shapes)\n\u001b[0m\u001b[1;32m    616\u001b[0m \u001b[0;34m\u001b[0m\u001b[0m\n\u001b[1;32m    617\u001b[0m       \u001b[0;32mreturn\u001b[0m \u001b[0mself\u001b[0m\u001b[0;34m.\u001b[0m\u001b[0m_structure\u001b[0m\u001b[0;34m.\u001b[0m\u001b[0m_from_compatible_tensor_list\u001b[0m\u001b[0;34m(\u001b[0m\u001b[0mret\u001b[0m\u001b[0;34m)\u001b[0m  \u001b[0;31m# pylint: disable=protected-access\u001b[0m\u001b[0;34m\u001b[0m\u001b[0;34m\u001b[0m\u001b[0m\n",
      "\u001b[0;32m~/opt/anaconda3/lib/python3.7/site-packages/tensorflow/python/ops/gen_dataset_ops.py\u001b[0m in \u001b[0;36miterator_get_next_sync\u001b[0;34m(iterator, output_types, output_shapes, name)\u001b[0m\n\u001b[1;32m   2118\u001b[0m       \u001b[0;32melse\u001b[0m\u001b[0;34m:\u001b[0m\u001b[0;34m\u001b[0m\u001b[0;34m\u001b[0m\u001b[0m\n\u001b[1;32m   2119\u001b[0m         \u001b[0mmessage\u001b[0m \u001b[0;34m=\u001b[0m \u001b[0me\u001b[0m\u001b[0;34m.\u001b[0m\u001b[0mmessage\u001b[0m\u001b[0;34m\u001b[0m\u001b[0;34m\u001b[0m\u001b[0m\n\u001b[0;32m-> 2120\u001b[0;31m       \u001b[0m_six\u001b[0m\u001b[0;34m.\u001b[0m\u001b[0mraise_from\u001b[0m\u001b[0;34m(\u001b[0m\u001b[0m_core\u001b[0m\u001b[0;34m.\u001b[0m\u001b[0m_status_to_exception\u001b[0m\u001b[0;34m(\u001b[0m\u001b[0me\u001b[0m\u001b[0;34m.\u001b[0m\u001b[0mcode\u001b[0m\u001b[0;34m,\u001b[0m \u001b[0mmessage\u001b[0m\u001b[0;34m)\u001b[0m\u001b[0;34m,\u001b[0m \u001b[0;32mNone\u001b[0m\u001b[0;34m)\u001b[0m\u001b[0;34m\u001b[0m\u001b[0;34m\u001b[0m\u001b[0m\n\u001b[0m\u001b[1;32m   2121\u001b[0m   \u001b[0;31m# Add nodes to the TensorFlow graph.\u001b[0m\u001b[0;34m\u001b[0m\u001b[0;34m\u001b[0m\u001b[0;34m\u001b[0m\u001b[0m\n\u001b[1;32m   2122\u001b[0m   \u001b[0;32mif\u001b[0m \u001b[0;32mnot\u001b[0m \u001b[0misinstance\u001b[0m\u001b[0;34m(\u001b[0m\u001b[0moutput_types\u001b[0m\u001b[0;34m,\u001b[0m \u001b[0;34m(\u001b[0m\u001b[0mlist\u001b[0m\u001b[0;34m,\u001b[0m \u001b[0mtuple\u001b[0m\u001b[0;34m)\u001b[0m\u001b[0;34m)\u001b[0m\u001b[0;34m:\u001b[0m\u001b[0;34m\u001b[0m\u001b[0;34m\u001b[0m\u001b[0m\n",
      "\u001b[0;32m~/opt/anaconda3/lib/python3.7/site-packages/six.py\u001b[0m in \u001b[0;36mraise_from\u001b[0;34m(value, from_value)\u001b[0m\n",
      "\u001b[0;31mUnknownError\u001b[0m: OSError: Failed to interpret file '/Users/RayM/Documents/School/CompVision/Project3/Training_Set/CS663-Swat-Set-2/Two/H_212.mp4' as a pickle\nTraceback (most recent call last):\n\n  File \"/Users/RayM/opt/anaconda3/lib/python3.7/site-packages/numpy/lib/npyio.py\", line 460, in load\n    pickled in a Python 2 compatible way. If `fix_imports` is True, pickle\n\n_pickle.UnpicklingError: invalid load key, '\\x00'.\n\n\nDuring handling of the above exception, another exception occurred:\n\n\nTraceback (most recent call last):\n\n  File \"/Users/RayM/opt/anaconda3/lib/python3.7/site-packages/tensorflow/python/ops/script_ops.py\", line 209, in __call__\n    ret = func(*args)\n\n  File \"/Users/RayM/opt/anaconda3/lib/python3.7/site-packages/tensorflow/python/data/ops/dataset_ops.py\", line 514, in generator_py_func\n    values = next(generator_state.get_iterator(iterator_id))\n\n  File \"<ipython-input-28-c67148c5bdeb>\", line 19, in generator\n    features = np.load(full_path, allow_pickle=True)\n\n  File \"/Users/RayM/opt/anaconda3/lib/python3.7/site-packages/numpy/lib/npyio.py\", line 463, in load\n\nOSError: Failed to interpret file '/Users/RayM/Documents/School/CompVision/Project3/Training_Set/CS663-Swat-Set-2/Two/H_212.mp4' as a pickle\n\n\n\t [[{{node PyFunc}}]] [Op:IteratorGetNextSync]"
     ]
    }
   ],
   "source": [
    "# fit the model with the training data (can increase the # of epochs & validation_steps if desired)\n",
    "model.fit(train_dataset, epochs=200, validation_data=valid_dataset, validation_steps=4, verbose=0)"
   ]
  },
  {
   "cell_type": "code",
   "execution_count": null,
   "metadata": {},
   "outputs": [],
   "source": []
  }
 ],
 "metadata": {
  "kernelspec": {
   "display_name": "Python 3",
   "language": "python",
   "name": "python3"
  },
  "language_info": {
   "codemirror_mode": {
    "name": "ipython",
    "version": 3
   },
   "file_extension": ".py",
   "mimetype": "text/x-python",
   "name": "python",
   "nbconvert_exporter": "python",
   "pygments_lexer": "ipython3",
   "version": "3.7.4"
  }
 },
 "nbformat": 4,
 "nbformat_minor": 2
}
